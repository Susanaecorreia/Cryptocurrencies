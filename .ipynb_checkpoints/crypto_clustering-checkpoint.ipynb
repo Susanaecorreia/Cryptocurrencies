{
 "cells": [
  {
   "cell_type": "markdown",
   "metadata": {},
   "source": [
    "# Clustering Crypto"
   ]
  },
  {
   "cell_type": "code",
   "execution_count": 64,
   "metadata": {},
   "outputs": [],
   "source": [
    "# Initial imports\n",
    "import pandas as pd\n",
    "import hvplot.pandas\n",
    "from path import Path\n",
    "import plotly.express as px\n",
    "from sklearn.preprocessing import StandardScaler, MinMaxScaler\n",
    "from sklearn.decomposition import PCA\n",
    "from sklearn.cluster import KMeans"
   ]
  },
  {
   "cell_type": "markdown",
   "metadata": {},
   "source": [
    "### Deliverable 1: Preprocessing the Data for PCA"
   ]
  },
  {
   "cell_type": "code",
   "execution_count": 76,
   "metadata": {},
   "outputs": [
    {
     "data": {
      "text/html": [
       "<div>\n",
       "<style scoped>\n",
       "    .dataframe tbody tr th:only-of-type {\n",
       "        vertical-align: middle;\n",
       "    }\n",
       "\n",
       "    .dataframe tbody tr th {\n",
       "        vertical-align: top;\n",
       "    }\n",
       "\n",
       "    .dataframe thead th {\n",
       "        text-align: right;\n",
       "    }\n",
       "</style>\n",
       "<table border=\"1\" class=\"dataframe\">\n",
       "  <thead>\n",
       "    <tr style=\"text-align: right;\">\n",
       "      <th></th>\n",
       "      <th>CoinName</th>\n",
       "      <th>Algorithm</th>\n",
       "      <th>IsTrading</th>\n",
       "      <th>ProofType</th>\n",
       "      <th>TotalCoinsMined</th>\n",
       "      <th>TotalCoinSupply</th>\n",
       "    </tr>\n",
       "  </thead>\n",
       "  <tbody>\n",
       "    <tr>\n",
       "      <th>42</th>\n",
       "      <td>42 Coin</td>\n",
       "      <td>Scrypt</td>\n",
       "      <td>True</td>\n",
       "      <td>PoW/PoS</td>\n",
       "      <td>4.199995e+01</td>\n",
       "      <td>42</td>\n",
       "    </tr>\n",
       "    <tr>\n",
       "      <th>365</th>\n",
       "      <td>365Coin</td>\n",
       "      <td>X11</td>\n",
       "      <td>True</td>\n",
       "      <td>PoW/PoS</td>\n",
       "      <td>NaN</td>\n",
       "      <td>2300000000</td>\n",
       "    </tr>\n",
       "    <tr>\n",
       "      <th>404</th>\n",
       "      <td>404Coin</td>\n",
       "      <td>Scrypt</td>\n",
       "      <td>True</td>\n",
       "      <td>PoW/PoS</td>\n",
       "      <td>1.055185e+09</td>\n",
       "      <td>532000000</td>\n",
       "    </tr>\n",
       "    <tr>\n",
       "      <th>611</th>\n",
       "      <td>SixEleven</td>\n",
       "      <td>SHA-256</td>\n",
       "      <td>True</td>\n",
       "      <td>PoW</td>\n",
       "      <td>NaN</td>\n",
       "      <td>611000</td>\n",
       "    </tr>\n",
       "    <tr>\n",
       "      <th>808</th>\n",
       "      <td>808</td>\n",
       "      <td>SHA-256</td>\n",
       "      <td>True</td>\n",
       "      <td>PoW/PoS</td>\n",
       "      <td>0.000000e+00</td>\n",
       "      <td>0</td>\n",
       "    </tr>\n",
       "    <tr>\n",
       "      <th>1337</th>\n",
       "      <td>EliteCoin</td>\n",
       "      <td>X13</td>\n",
       "      <td>True</td>\n",
       "      <td>PoW/PoS</td>\n",
       "      <td>2.927942e+10</td>\n",
       "      <td>314159265359</td>\n",
       "    </tr>\n",
       "    <tr>\n",
       "      <th>2015</th>\n",
       "      <td>2015 coin</td>\n",
       "      <td>X11</td>\n",
       "      <td>True</td>\n",
       "      <td>PoW/PoS</td>\n",
       "      <td>NaN</td>\n",
       "      <td>0</td>\n",
       "    </tr>\n",
       "    <tr>\n",
       "      <th>BTC</th>\n",
       "      <td>Bitcoin</td>\n",
       "      <td>SHA-256</td>\n",
       "      <td>True</td>\n",
       "      <td>PoW</td>\n",
       "      <td>1.792718e+07</td>\n",
       "      <td>21000000</td>\n",
       "    </tr>\n",
       "    <tr>\n",
       "      <th>ETH</th>\n",
       "      <td>Ethereum</td>\n",
       "      <td>Ethash</td>\n",
       "      <td>True</td>\n",
       "      <td>PoW</td>\n",
       "      <td>1.076842e+08</td>\n",
       "      <td>0</td>\n",
       "    </tr>\n",
       "    <tr>\n",
       "      <th>LTC</th>\n",
       "      <td>Litecoin</td>\n",
       "      <td>Scrypt</td>\n",
       "      <td>True</td>\n",
       "      <td>PoW</td>\n",
       "      <td>6.303924e+07</td>\n",
       "      <td>84000000</td>\n",
       "    </tr>\n",
       "  </tbody>\n",
       "</table>\n",
       "</div>"
      ],
      "text/plain": [
       "       CoinName Algorithm  IsTrading ProofType  TotalCoinsMined  \\\n",
       "42      42 Coin    Scrypt       True   PoW/PoS     4.199995e+01   \n",
       "365     365Coin       X11       True   PoW/PoS              NaN   \n",
       "404     404Coin    Scrypt       True   PoW/PoS     1.055185e+09   \n",
       "611   SixEleven   SHA-256       True       PoW              NaN   \n",
       "808         808   SHA-256       True   PoW/PoS     0.000000e+00   \n",
       "1337  EliteCoin       X13       True   PoW/PoS     2.927942e+10   \n",
       "2015  2015 coin       X11       True   PoW/PoS              NaN   \n",
       "BTC     Bitcoin   SHA-256       True       PoW     1.792718e+07   \n",
       "ETH    Ethereum    Ethash       True       PoW     1.076842e+08   \n",
       "LTC    Litecoin    Scrypt       True       PoW     6.303924e+07   \n",
       "\n",
       "     TotalCoinSupply  \n",
       "42                42  \n",
       "365       2300000000  \n",
       "404        532000000  \n",
       "611           611000  \n",
       "808                0  \n",
       "1337    314159265359  \n",
       "2015               0  \n",
       "BTC         21000000  \n",
       "ETH                0  \n",
       "LTC         84000000  "
      ]
     },
     "execution_count": 76,
     "metadata": {},
     "output_type": "execute_result"
    }
   ],
   "source": [
    "# Load the crypto_data.csv dataset.\n",
    "file_path = \"/users/susanaecorreia/Developer/Cryptocurrencies/crypto_data.csv\"\n",
    "crypto_df = pd.read_csv(file_path, index_col=0)\n",
    "crypto_df.head(10)"
   ]
  },
  {
   "cell_type": "code",
   "execution_count": 77,
   "metadata": {},
   "outputs": [
    {
     "data": {
      "text/html": [
       "<div>\n",
       "<style scoped>\n",
       "    .dataframe tbody tr th:only-of-type {\n",
       "        vertical-align: middle;\n",
       "    }\n",
       "\n",
       "    .dataframe tbody tr th {\n",
       "        vertical-align: top;\n",
       "    }\n",
       "\n",
       "    .dataframe thead th {\n",
       "        text-align: right;\n",
       "    }\n",
       "</style>\n",
       "<table border=\"1\" class=\"dataframe\">\n",
       "  <thead>\n",
       "    <tr style=\"text-align: right;\">\n",
       "      <th></th>\n",
       "      <th>CoinName</th>\n",
       "      <th>Algorithm</th>\n",
       "      <th>IsTrading</th>\n",
       "      <th>ProofType</th>\n",
       "      <th>TotalCoinsMined</th>\n",
       "      <th>TotalCoinSupply</th>\n",
       "    </tr>\n",
       "  </thead>\n",
       "  <tbody>\n",
       "    <tr>\n",
       "      <th>42</th>\n",
       "      <td>42 Coin</td>\n",
       "      <td>Scrypt</td>\n",
       "      <td>True</td>\n",
       "      <td>PoW/PoS</td>\n",
       "      <td>4.199995e+01</td>\n",
       "      <td>42</td>\n",
       "    </tr>\n",
       "    <tr>\n",
       "      <th>365</th>\n",
       "      <td>365Coin</td>\n",
       "      <td>X11</td>\n",
       "      <td>True</td>\n",
       "      <td>PoW/PoS</td>\n",
       "      <td>NaN</td>\n",
       "      <td>2300000000</td>\n",
       "    </tr>\n",
       "    <tr>\n",
       "      <th>404</th>\n",
       "      <td>404Coin</td>\n",
       "      <td>Scrypt</td>\n",
       "      <td>True</td>\n",
       "      <td>PoW/PoS</td>\n",
       "      <td>1.055185e+09</td>\n",
       "      <td>532000000</td>\n",
       "    </tr>\n",
       "    <tr>\n",
       "      <th>611</th>\n",
       "      <td>SixEleven</td>\n",
       "      <td>SHA-256</td>\n",
       "      <td>True</td>\n",
       "      <td>PoW</td>\n",
       "      <td>NaN</td>\n",
       "      <td>611000</td>\n",
       "    </tr>\n",
       "    <tr>\n",
       "      <th>808</th>\n",
       "      <td>808</td>\n",
       "      <td>SHA-256</td>\n",
       "      <td>True</td>\n",
       "      <td>PoW/PoS</td>\n",
       "      <td>0.000000e+00</td>\n",
       "      <td>0</td>\n",
       "    </tr>\n",
       "    <tr>\n",
       "      <th>...</th>\n",
       "      <td>...</td>\n",
       "      <td>...</td>\n",
       "      <td>...</td>\n",
       "      <td>...</td>\n",
       "      <td>...</td>\n",
       "      <td>...</td>\n",
       "    </tr>\n",
       "    <tr>\n",
       "      <th>SERO</th>\n",
       "      <td>Super Zero</td>\n",
       "      <td>Ethash</td>\n",
       "      <td>True</td>\n",
       "      <td>PoW</td>\n",
       "      <td>NaN</td>\n",
       "      <td>1000000000</td>\n",
       "    </tr>\n",
       "    <tr>\n",
       "      <th>UOS</th>\n",
       "      <td>UOS</td>\n",
       "      <td>SHA-256</td>\n",
       "      <td>True</td>\n",
       "      <td>DPoI</td>\n",
       "      <td>NaN</td>\n",
       "      <td>1000000000</td>\n",
       "    </tr>\n",
       "    <tr>\n",
       "      <th>BDX</th>\n",
       "      <td>Beldex</td>\n",
       "      <td>CryptoNight</td>\n",
       "      <td>True</td>\n",
       "      <td>PoW</td>\n",
       "      <td>9.802226e+08</td>\n",
       "      <td>1400222610</td>\n",
       "    </tr>\n",
       "    <tr>\n",
       "      <th>ZEN</th>\n",
       "      <td>Horizen</td>\n",
       "      <td>Equihash</td>\n",
       "      <td>True</td>\n",
       "      <td>PoW</td>\n",
       "      <td>7.296538e+06</td>\n",
       "      <td>21000000</td>\n",
       "    </tr>\n",
       "    <tr>\n",
       "      <th>XBC</th>\n",
       "      <td>BitcoinPlus</td>\n",
       "      <td>Scrypt</td>\n",
       "      <td>True</td>\n",
       "      <td>PoS</td>\n",
       "      <td>1.283270e+05</td>\n",
       "      <td>1000000</td>\n",
       "    </tr>\n",
       "  </tbody>\n",
       "</table>\n",
       "<p>1144 rows × 6 columns</p>\n",
       "</div>"
      ],
      "text/plain": [
       "         CoinName    Algorithm  IsTrading ProofType  TotalCoinsMined  \\\n",
       "42        42 Coin       Scrypt       True   PoW/PoS     4.199995e+01   \n",
       "365       365Coin          X11       True   PoW/PoS              NaN   \n",
       "404       404Coin       Scrypt       True   PoW/PoS     1.055185e+09   \n",
       "611     SixEleven      SHA-256       True       PoW              NaN   \n",
       "808           808      SHA-256       True   PoW/PoS     0.000000e+00   \n",
       "...           ...          ...        ...       ...              ...   \n",
       "SERO   Super Zero       Ethash       True       PoW              NaN   \n",
       "UOS           UOS      SHA-256       True      DPoI              NaN   \n",
       "BDX        Beldex  CryptoNight       True       PoW     9.802226e+08   \n",
       "ZEN       Horizen     Equihash       True       PoW     7.296538e+06   \n",
       "XBC   BitcoinPlus       Scrypt       True       PoS     1.283270e+05   \n",
       "\n",
       "     TotalCoinSupply  \n",
       "42                42  \n",
       "365       2300000000  \n",
       "404        532000000  \n",
       "611           611000  \n",
       "808                0  \n",
       "...              ...  \n",
       "SERO      1000000000  \n",
       "UOS       1000000000  \n",
       "BDX       1400222610  \n",
       "ZEN         21000000  \n",
       "XBC          1000000  \n",
       "\n",
       "[1144 rows x 6 columns]"
      ]
     },
     "execution_count": 77,
     "metadata": {},
     "output_type": "execute_result"
    }
   ],
   "source": [
    "# Keep all the cryptocurrencies that are being traded.\n",
    "crypto_df = crypto_df[crypto_df['IsTrading'] == True]\n",
    "crypto_df\n"
   ]
  },
  {
   "cell_type": "code",
   "execution_count": 78,
   "metadata": {},
   "outputs": [
    {
     "data": {
      "text/html": [
       "<div>\n",
       "<style scoped>\n",
       "    .dataframe tbody tr th:only-of-type {\n",
       "        vertical-align: middle;\n",
       "    }\n",
       "\n",
       "    .dataframe tbody tr th {\n",
       "        vertical-align: top;\n",
       "    }\n",
       "\n",
       "    .dataframe thead th {\n",
       "        text-align: right;\n",
       "    }\n",
       "</style>\n",
       "<table border=\"1\" class=\"dataframe\">\n",
       "  <thead>\n",
       "    <tr style=\"text-align: right;\">\n",
       "      <th></th>\n",
       "      <th>CoinName</th>\n",
       "      <th>Algorithm</th>\n",
       "      <th>IsTrading</th>\n",
       "      <th>ProofType</th>\n",
       "      <th>TotalCoinsMined</th>\n",
       "      <th>TotalCoinSupply</th>\n",
       "    </tr>\n",
       "  </thead>\n",
       "  <tbody>\n",
       "    <tr>\n",
       "      <th>42</th>\n",
       "      <td>42 Coin</td>\n",
       "      <td>Scrypt</td>\n",
       "      <td>True</td>\n",
       "      <td>PoW/PoS</td>\n",
       "      <td>4.199995e+01</td>\n",
       "      <td>42</td>\n",
       "    </tr>\n",
       "    <tr>\n",
       "      <th>365</th>\n",
       "      <td>365Coin</td>\n",
       "      <td>X11</td>\n",
       "      <td>True</td>\n",
       "      <td>PoW/PoS</td>\n",
       "      <td>NaN</td>\n",
       "      <td>2300000000</td>\n",
       "    </tr>\n",
       "    <tr>\n",
       "      <th>404</th>\n",
       "      <td>404Coin</td>\n",
       "      <td>Scrypt</td>\n",
       "      <td>True</td>\n",
       "      <td>PoW/PoS</td>\n",
       "      <td>1.055185e+09</td>\n",
       "      <td>532000000</td>\n",
       "    </tr>\n",
       "    <tr>\n",
       "      <th>611</th>\n",
       "      <td>SixEleven</td>\n",
       "      <td>SHA-256</td>\n",
       "      <td>True</td>\n",
       "      <td>PoW</td>\n",
       "      <td>NaN</td>\n",
       "      <td>611000</td>\n",
       "    </tr>\n",
       "    <tr>\n",
       "      <th>808</th>\n",
       "      <td>808</td>\n",
       "      <td>SHA-256</td>\n",
       "      <td>True</td>\n",
       "      <td>PoW/PoS</td>\n",
       "      <td>0.000000e+00</td>\n",
       "      <td>0</td>\n",
       "    </tr>\n",
       "    <tr>\n",
       "      <th>...</th>\n",
       "      <td>...</td>\n",
       "      <td>...</td>\n",
       "      <td>...</td>\n",
       "      <td>...</td>\n",
       "      <td>...</td>\n",
       "      <td>...</td>\n",
       "    </tr>\n",
       "    <tr>\n",
       "      <th>SERO</th>\n",
       "      <td>Super Zero</td>\n",
       "      <td>Ethash</td>\n",
       "      <td>True</td>\n",
       "      <td>PoW</td>\n",
       "      <td>NaN</td>\n",
       "      <td>1000000000</td>\n",
       "    </tr>\n",
       "    <tr>\n",
       "      <th>UOS</th>\n",
       "      <td>UOS</td>\n",
       "      <td>SHA-256</td>\n",
       "      <td>True</td>\n",
       "      <td>DPoI</td>\n",
       "      <td>NaN</td>\n",
       "      <td>1000000000</td>\n",
       "    </tr>\n",
       "    <tr>\n",
       "      <th>BDX</th>\n",
       "      <td>Beldex</td>\n",
       "      <td>CryptoNight</td>\n",
       "      <td>True</td>\n",
       "      <td>PoW</td>\n",
       "      <td>9.802226e+08</td>\n",
       "      <td>1400222610</td>\n",
       "    </tr>\n",
       "    <tr>\n",
       "      <th>ZEN</th>\n",
       "      <td>Horizen</td>\n",
       "      <td>Equihash</td>\n",
       "      <td>True</td>\n",
       "      <td>PoW</td>\n",
       "      <td>7.296538e+06</td>\n",
       "      <td>21000000</td>\n",
       "    </tr>\n",
       "    <tr>\n",
       "      <th>XBC</th>\n",
       "      <td>BitcoinPlus</td>\n",
       "      <td>Scrypt</td>\n",
       "      <td>True</td>\n",
       "      <td>PoS</td>\n",
       "      <td>1.283270e+05</td>\n",
       "      <td>1000000</td>\n",
       "    </tr>\n",
       "  </tbody>\n",
       "</table>\n",
       "<p>1144 rows × 6 columns</p>\n",
       "</div>"
      ],
      "text/plain": [
       "         CoinName    Algorithm  IsTrading ProofType  TotalCoinsMined  \\\n",
       "42        42 Coin       Scrypt       True   PoW/PoS     4.199995e+01   \n",
       "365       365Coin          X11       True   PoW/PoS              NaN   \n",
       "404       404Coin       Scrypt       True   PoW/PoS     1.055185e+09   \n",
       "611     SixEleven      SHA-256       True       PoW              NaN   \n",
       "808           808      SHA-256       True   PoW/PoS     0.000000e+00   \n",
       "...           ...          ...        ...       ...              ...   \n",
       "SERO   Super Zero       Ethash       True       PoW              NaN   \n",
       "UOS           UOS      SHA-256       True      DPoI              NaN   \n",
       "BDX        Beldex  CryptoNight       True       PoW     9.802226e+08   \n",
       "ZEN       Horizen     Equihash       True       PoW     7.296538e+06   \n",
       "XBC   BitcoinPlus       Scrypt       True       PoS     1.283270e+05   \n",
       "\n",
       "     TotalCoinSupply  \n",
       "42                42  \n",
       "365       2300000000  \n",
       "404        532000000  \n",
       "611           611000  \n",
       "808                0  \n",
       "...              ...  \n",
       "SERO      1000000000  \n",
       "UOS       1000000000  \n",
       "BDX       1400222610  \n",
       "ZEN         21000000  \n",
       "XBC          1000000  \n",
       "\n",
       "[1144 rows x 6 columns]"
      ]
     },
     "execution_count": 78,
     "metadata": {},
     "output_type": "execute_result"
    }
   ],
   "source": [
    "# Keep all the cryptocurrencies that have a working algorithm.\n",
    "crypto_df = crypto_df[crypto_df[\"Algorithm\"] != \"N/A\"]\n",
    "crypto_df"
   ]
  },
  {
   "cell_type": "code",
   "execution_count": 79,
   "metadata": {},
   "outputs": [
    {
     "data": {
      "text/html": [
       "<div>\n",
       "<style scoped>\n",
       "    .dataframe tbody tr th:only-of-type {\n",
       "        vertical-align: middle;\n",
       "    }\n",
       "\n",
       "    .dataframe tbody tr th {\n",
       "        vertical-align: top;\n",
       "    }\n",
       "\n",
       "    .dataframe thead th {\n",
       "        text-align: right;\n",
       "    }\n",
       "</style>\n",
       "<table border=\"1\" class=\"dataframe\">\n",
       "  <thead>\n",
       "    <tr style=\"text-align: right;\">\n",
       "      <th></th>\n",
       "      <th>CoinName</th>\n",
       "      <th>Algorithm</th>\n",
       "      <th>ProofType</th>\n",
       "      <th>TotalCoinsMined</th>\n",
       "      <th>TotalCoinSupply</th>\n",
       "    </tr>\n",
       "  </thead>\n",
       "  <tbody>\n",
       "    <tr>\n",
       "      <th>42</th>\n",
       "      <td>42 Coin</td>\n",
       "      <td>Scrypt</td>\n",
       "      <td>PoW/PoS</td>\n",
       "      <td>4.199995e+01</td>\n",
       "      <td>42</td>\n",
       "    </tr>\n",
       "    <tr>\n",
       "      <th>365</th>\n",
       "      <td>365Coin</td>\n",
       "      <td>X11</td>\n",
       "      <td>PoW/PoS</td>\n",
       "      <td>NaN</td>\n",
       "      <td>2300000000</td>\n",
       "    </tr>\n",
       "    <tr>\n",
       "      <th>404</th>\n",
       "      <td>404Coin</td>\n",
       "      <td>Scrypt</td>\n",
       "      <td>PoW/PoS</td>\n",
       "      <td>1.055185e+09</td>\n",
       "      <td>532000000</td>\n",
       "    </tr>\n",
       "    <tr>\n",
       "      <th>611</th>\n",
       "      <td>SixEleven</td>\n",
       "      <td>SHA-256</td>\n",
       "      <td>PoW</td>\n",
       "      <td>NaN</td>\n",
       "      <td>611000</td>\n",
       "    </tr>\n",
       "    <tr>\n",
       "      <th>808</th>\n",
       "      <td>808</td>\n",
       "      <td>SHA-256</td>\n",
       "      <td>PoW/PoS</td>\n",
       "      <td>0.000000e+00</td>\n",
       "      <td>0</td>\n",
       "    </tr>\n",
       "    <tr>\n",
       "      <th>...</th>\n",
       "      <td>...</td>\n",
       "      <td>...</td>\n",
       "      <td>...</td>\n",
       "      <td>...</td>\n",
       "      <td>...</td>\n",
       "    </tr>\n",
       "    <tr>\n",
       "      <th>SERO</th>\n",
       "      <td>Super Zero</td>\n",
       "      <td>Ethash</td>\n",
       "      <td>PoW</td>\n",
       "      <td>NaN</td>\n",
       "      <td>1000000000</td>\n",
       "    </tr>\n",
       "    <tr>\n",
       "      <th>UOS</th>\n",
       "      <td>UOS</td>\n",
       "      <td>SHA-256</td>\n",
       "      <td>DPoI</td>\n",
       "      <td>NaN</td>\n",
       "      <td>1000000000</td>\n",
       "    </tr>\n",
       "    <tr>\n",
       "      <th>BDX</th>\n",
       "      <td>Beldex</td>\n",
       "      <td>CryptoNight</td>\n",
       "      <td>PoW</td>\n",
       "      <td>9.802226e+08</td>\n",
       "      <td>1400222610</td>\n",
       "    </tr>\n",
       "    <tr>\n",
       "      <th>ZEN</th>\n",
       "      <td>Horizen</td>\n",
       "      <td>Equihash</td>\n",
       "      <td>PoW</td>\n",
       "      <td>7.296538e+06</td>\n",
       "      <td>21000000</td>\n",
       "    </tr>\n",
       "    <tr>\n",
       "      <th>XBC</th>\n",
       "      <td>BitcoinPlus</td>\n",
       "      <td>Scrypt</td>\n",
       "      <td>PoS</td>\n",
       "      <td>1.283270e+05</td>\n",
       "      <td>1000000</td>\n",
       "    </tr>\n",
       "  </tbody>\n",
       "</table>\n",
       "<p>1144 rows × 5 columns</p>\n",
       "</div>"
      ],
      "text/plain": [
       "         CoinName    Algorithm ProofType  TotalCoinsMined TotalCoinSupply\n",
       "42        42 Coin       Scrypt   PoW/PoS     4.199995e+01              42\n",
       "365       365Coin          X11   PoW/PoS              NaN      2300000000\n",
       "404       404Coin       Scrypt   PoW/PoS     1.055185e+09       532000000\n",
       "611     SixEleven      SHA-256       PoW              NaN          611000\n",
       "808           808      SHA-256   PoW/PoS     0.000000e+00               0\n",
       "...           ...          ...       ...              ...             ...\n",
       "SERO   Super Zero       Ethash       PoW              NaN      1000000000\n",
       "UOS           UOS      SHA-256      DPoI              NaN      1000000000\n",
       "BDX        Beldex  CryptoNight       PoW     9.802226e+08      1400222610\n",
       "ZEN       Horizen     Equihash       PoW     7.296538e+06        21000000\n",
       "XBC   BitcoinPlus       Scrypt       PoS     1.283270e+05         1000000\n",
       "\n",
       "[1144 rows x 5 columns]"
      ]
     },
     "execution_count": 79,
     "metadata": {},
     "output_type": "execute_result"
    }
   ],
   "source": [
    "# Remove the \"IsTrading\" column. \n",
    "crypto_df = crypto_df.drop(columns='IsTrading')\n",
    "crypto_df"
   ]
  },
  {
   "cell_type": "code",
   "execution_count": 80,
   "metadata": {},
   "outputs": [
    {
     "data": {
      "text/html": [
       "<div>\n",
       "<style scoped>\n",
       "    .dataframe tbody tr th:only-of-type {\n",
       "        vertical-align: middle;\n",
       "    }\n",
       "\n",
       "    .dataframe tbody tr th {\n",
       "        vertical-align: top;\n",
       "    }\n",
       "\n",
       "    .dataframe thead th {\n",
       "        text-align: right;\n",
       "    }\n",
       "</style>\n",
       "<table border=\"1\" class=\"dataframe\">\n",
       "  <thead>\n",
       "    <tr style=\"text-align: right;\">\n",
       "      <th></th>\n",
       "      <th>CoinName</th>\n",
       "      <th>Algorithm</th>\n",
       "      <th>ProofType</th>\n",
       "      <th>TotalCoinsMined</th>\n",
       "      <th>TotalCoinSupply</th>\n",
       "    </tr>\n",
       "  </thead>\n",
       "  <tbody>\n",
       "    <tr>\n",
       "      <th>42</th>\n",
       "      <td>42 Coin</td>\n",
       "      <td>Scrypt</td>\n",
       "      <td>PoW/PoS</td>\n",
       "      <td>4.199995e+01</td>\n",
       "      <td>42</td>\n",
       "    </tr>\n",
       "    <tr>\n",
       "      <th>404</th>\n",
       "      <td>404Coin</td>\n",
       "      <td>Scrypt</td>\n",
       "      <td>PoW/PoS</td>\n",
       "      <td>1.055185e+09</td>\n",
       "      <td>532000000</td>\n",
       "    </tr>\n",
       "    <tr>\n",
       "      <th>808</th>\n",
       "      <td>808</td>\n",
       "      <td>SHA-256</td>\n",
       "      <td>PoW/PoS</td>\n",
       "      <td>0.000000e+00</td>\n",
       "      <td>0</td>\n",
       "    </tr>\n",
       "    <tr>\n",
       "      <th>1337</th>\n",
       "      <td>EliteCoin</td>\n",
       "      <td>X13</td>\n",
       "      <td>PoW/PoS</td>\n",
       "      <td>2.927942e+10</td>\n",
       "      <td>314159265359</td>\n",
       "    </tr>\n",
       "    <tr>\n",
       "      <th>BTC</th>\n",
       "      <td>Bitcoin</td>\n",
       "      <td>SHA-256</td>\n",
       "      <td>PoW</td>\n",
       "      <td>1.792718e+07</td>\n",
       "      <td>21000000</td>\n",
       "    </tr>\n",
       "    <tr>\n",
       "      <th>...</th>\n",
       "      <td>...</td>\n",
       "      <td>...</td>\n",
       "      <td>...</td>\n",
       "      <td>...</td>\n",
       "      <td>...</td>\n",
       "    </tr>\n",
       "    <tr>\n",
       "      <th>ZEPH</th>\n",
       "      <td>ZEPHYR</td>\n",
       "      <td>SHA-256</td>\n",
       "      <td>DPoS</td>\n",
       "      <td>2.000000e+09</td>\n",
       "      <td>2000000000</td>\n",
       "    </tr>\n",
       "    <tr>\n",
       "      <th>GAP</th>\n",
       "      <td>Gapcoin</td>\n",
       "      <td>Scrypt</td>\n",
       "      <td>PoW/PoS</td>\n",
       "      <td>1.493105e+07</td>\n",
       "      <td>250000000</td>\n",
       "    </tr>\n",
       "    <tr>\n",
       "      <th>BDX</th>\n",
       "      <td>Beldex</td>\n",
       "      <td>CryptoNight</td>\n",
       "      <td>PoW</td>\n",
       "      <td>9.802226e+08</td>\n",
       "      <td>1400222610</td>\n",
       "    </tr>\n",
       "    <tr>\n",
       "      <th>ZEN</th>\n",
       "      <td>Horizen</td>\n",
       "      <td>Equihash</td>\n",
       "      <td>PoW</td>\n",
       "      <td>7.296538e+06</td>\n",
       "      <td>21000000</td>\n",
       "    </tr>\n",
       "    <tr>\n",
       "      <th>XBC</th>\n",
       "      <td>BitcoinPlus</td>\n",
       "      <td>Scrypt</td>\n",
       "      <td>PoS</td>\n",
       "      <td>1.283270e+05</td>\n",
       "      <td>1000000</td>\n",
       "    </tr>\n",
       "  </tbody>\n",
       "</table>\n",
       "<p>685 rows × 5 columns</p>\n",
       "</div>"
      ],
      "text/plain": [
       "         CoinName    Algorithm ProofType  TotalCoinsMined TotalCoinSupply\n",
       "42        42 Coin       Scrypt   PoW/PoS     4.199995e+01              42\n",
       "404       404Coin       Scrypt   PoW/PoS     1.055185e+09       532000000\n",
       "808           808      SHA-256   PoW/PoS     0.000000e+00               0\n",
       "1337    EliteCoin          X13   PoW/PoS     2.927942e+10    314159265359\n",
       "BTC       Bitcoin      SHA-256       PoW     1.792718e+07        21000000\n",
       "...           ...          ...       ...              ...             ...\n",
       "ZEPH       ZEPHYR      SHA-256      DPoS     2.000000e+09      2000000000\n",
       "GAP       Gapcoin       Scrypt   PoW/PoS     1.493105e+07       250000000\n",
       "BDX        Beldex  CryptoNight       PoW     9.802226e+08      1400222610\n",
       "ZEN       Horizen     Equihash       PoW     7.296538e+06        21000000\n",
       "XBC   BitcoinPlus       Scrypt       PoS     1.283270e+05         1000000\n",
       "\n",
       "[685 rows x 5 columns]"
      ]
     },
     "execution_count": 80,
     "metadata": {},
     "output_type": "execute_result"
    }
   ],
   "source": [
    "# Remove rows that have at least 1 null value.\n",
    "crypto_df = crypto_df.dropna()\n",
    "crypto_df"
   ]
  },
  {
   "cell_type": "code",
   "execution_count": 81,
   "metadata": {},
   "outputs": [
    {
     "data": {
      "text/html": [
       "<div>\n",
       "<style scoped>\n",
       "    .dataframe tbody tr th:only-of-type {\n",
       "        vertical-align: middle;\n",
       "    }\n",
       "\n",
       "    .dataframe tbody tr th {\n",
       "        vertical-align: top;\n",
       "    }\n",
       "\n",
       "    .dataframe thead th {\n",
       "        text-align: right;\n",
       "    }\n",
       "</style>\n",
       "<table border=\"1\" class=\"dataframe\">\n",
       "  <thead>\n",
       "    <tr style=\"text-align: right;\">\n",
       "      <th></th>\n",
       "      <th>CoinName</th>\n",
       "      <th>Algorithm</th>\n",
       "      <th>ProofType</th>\n",
       "      <th>TotalCoinsMined</th>\n",
       "      <th>TotalCoinSupply</th>\n",
       "    </tr>\n",
       "  </thead>\n",
       "  <tbody>\n",
       "    <tr>\n",
       "      <th>42</th>\n",
       "      <td>42 Coin</td>\n",
       "      <td>Scrypt</td>\n",
       "      <td>PoW/PoS</td>\n",
       "      <td>4.199995e+01</td>\n",
       "      <td>42</td>\n",
       "    </tr>\n",
       "    <tr>\n",
       "      <th>404</th>\n",
       "      <td>404Coin</td>\n",
       "      <td>Scrypt</td>\n",
       "      <td>PoW/PoS</td>\n",
       "      <td>1.055185e+09</td>\n",
       "      <td>532000000</td>\n",
       "    </tr>\n",
       "    <tr>\n",
       "      <th>1337</th>\n",
       "      <td>EliteCoin</td>\n",
       "      <td>X13</td>\n",
       "      <td>PoW/PoS</td>\n",
       "      <td>2.927942e+10</td>\n",
       "      <td>314159265359</td>\n",
       "    </tr>\n",
       "    <tr>\n",
       "      <th>BTC</th>\n",
       "      <td>Bitcoin</td>\n",
       "      <td>SHA-256</td>\n",
       "      <td>PoW</td>\n",
       "      <td>1.792718e+07</td>\n",
       "      <td>21000000</td>\n",
       "    </tr>\n",
       "    <tr>\n",
       "      <th>ETH</th>\n",
       "      <td>Ethereum</td>\n",
       "      <td>Ethash</td>\n",
       "      <td>PoW</td>\n",
       "      <td>1.076842e+08</td>\n",
       "      <td>0</td>\n",
       "    </tr>\n",
       "    <tr>\n",
       "      <th>...</th>\n",
       "      <td>...</td>\n",
       "      <td>...</td>\n",
       "      <td>...</td>\n",
       "      <td>...</td>\n",
       "      <td>...</td>\n",
       "    </tr>\n",
       "    <tr>\n",
       "      <th>ZEPH</th>\n",
       "      <td>ZEPHYR</td>\n",
       "      <td>SHA-256</td>\n",
       "      <td>DPoS</td>\n",
       "      <td>2.000000e+09</td>\n",
       "      <td>2000000000</td>\n",
       "    </tr>\n",
       "    <tr>\n",
       "      <th>GAP</th>\n",
       "      <td>Gapcoin</td>\n",
       "      <td>Scrypt</td>\n",
       "      <td>PoW/PoS</td>\n",
       "      <td>1.493105e+07</td>\n",
       "      <td>250000000</td>\n",
       "    </tr>\n",
       "    <tr>\n",
       "      <th>BDX</th>\n",
       "      <td>Beldex</td>\n",
       "      <td>CryptoNight</td>\n",
       "      <td>PoW</td>\n",
       "      <td>9.802226e+08</td>\n",
       "      <td>1400222610</td>\n",
       "    </tr>\n",
       "    <tr>\n",
       "      <th>ZEN</th>\n",
       "      <td>Horizen</td>\n",
       "      <td>Equihash</td>\n",
       "      <td>PoW</td>\n",
       "      <td>7.296538e+06</td>\n",
       "      <td>21000000</td>\n",
       "    </tr>\n",
       "    <tr>\n",
       "      <th>XBC</th>\n",
       "      <td>BitcoinPlus</td>\n",
       "      <td>Scrypt</td>\n",
       "      <td>PoS</td>\n",
       "      <td>1.283270e+05</td>\n",
       "      <td>1000000</td>\n",
       "    </tr>\n",
       "  </tbody>\n",
       "</table>\n",
       "<p>532 rows × 5 columns</p>\n",
       "</div>"
      ],
      "text/plain": [
       "         CoinName    Algorithm ProofType  TotalCoinsMined TotalCoinSupply\n",
       "42        42 Coin       Scrypt   PoW/PoS     4.199995e+01              42\n",
       "404       404Coin       Scrypt   PoW/PoS     1.055185e+09       532000000\n",
       "1337    EliteCoin          X13   PoW/PoS     2.927942e+10    314159265359\n",
       "BTC       Bitcoin      SHA-256       PoW     1.792718e+07        21000000\n",
       "ETH      Ethereum       Ethash       PoW     1.076842e+08               0\n",
       "...           ...          ...       ...              ...             ...\n",
       "ZEPH       ZEPHYR      SHA-256      DPoS     2.000000e+09      2000000000\n",
       "GAP       Gapcoin       Scrypt   PoW/PoS     1.493105e+07       250000000\n",
       "BDX        Beldex  CryptoNight       PoW     9.802226e+08      1400222610\n",
       "ZEN       Horizen     Equihash       PoW     7.296538e+06        21000000\n",
       "XBC   BitcoinPlus       Scrypt       PoS     1.283270e+05         1000000\n",
       "\n",
       "[532 rows x 5 columns]"
      ]
     },
     "execution_count": 81,
     "metadata": {},
     "output_type": "execute_result"
    }
   ],
   "source": [
    "# Keep the rows where coins are mined.\n",
    "crypto_df = crypto_df[crypto_df[\"TotalCoinsMined\"]> 0]\n",
    "crypto_df"
   ]
  },
  {
   "cell_type": "code",
   "execution_count": 82,
   "metadata": {},
   "outputs": [],
   "source": [
    "# Create a new DataFrame that holds only the cryptocurrencies names.\n",
    "coinname_df = pd.DataFrame(\n",
    "    data = crypto_df, columns = ['CoinName'])"
   ]
  },
  {
   "cell_type": "code",
   "execution_count": 83,
   "metadata": {},
   "outputs": [
    {
     "data": {
      "text/html": [
       "<div>\n",
       "<style scoped>\n",
       "    .dataframe tbody tr th:only-of-type {\n",
       "        vertical-align: middle;\n",
       "    }\n",
       "\n",
       "    .dataframe tbody tr th {\n",
       "        vertical-align: top;\n",
       "    }\n",
       "\n",
       "    .dataframe thead th {\n",
       "        text-align: right;\n",
       "    }\n",
       "</style>\n",
       "<table border=\"1\" class=\"dataframe\">\n",
       "  <thead>\n",
       "    <tr style=\"text-align: right;\">\n",
       "      <th></th>\n",
       "      <th>Algorithm</th>\n",
       "      <th>ProofType</th>\n",
       "      <th>TotalCoinsMined</th>\n",
       "      <th>TotalCoinSupply</th>\n",
       "    </tr>\n",
       "  </thead>\n",
       "  <tbody>\n",
       "    <tr>\n",
       "      <th>42</th>\n",
       "      <td>Scrypt</td>\n",
       "      <td>PoW/PoS</td>\n",
       "      <td>4.199995e+01</td>\n",
       "      <td>42</td>\n",
       "    </tr>\n",
       "    <tr>\n",
       "      <th>404</th>\n",
       "      <td>Scrypt</td>\n",
       "      <td>PoW/PoS</td>\n",
       "      <td>1.055185e+09</td>\n",
       "      <td>532000000</td>\n",
       "    </tr>\n",
       "    <tr>\n",
       "      <th>1337</th>\n",
       "      <td>X13</td>\n",
       "      <td>PoW/PoS</td>\n",
       "      <td>2.927942e+10</td>\n",
       "      <td>314159265359</td>\n",
       "    </tr>\n",
       "    <tr>\n",
       "      <th>BTC</th>\n",
       "      <td>SHA-256</td>\n",
       "      <td>PoW</td>\n",
       "      <td>1.792718e+07</td>\n",
       "      <td>21000000</td>\n",
       "    </tr>\n",
       "    <tr>\n",
       "      <th>ETH</th>\n",
       "      <td>Ethash</td>\n",
       "      <td>PoW</td>\n",
       "      <td>1.076842e+08</td>\n",
       "      <td>0</td>\n",
       "    </tr>\n",
       "  </tbody>\n",
       "</table>\n",
       "</div>"
      ],
      "text/plain": [
       "     Algorithm ProofType  TotalCoinsMined TotalCoinSupply\n",
       "42      Scrypt   PoW/PoS     4.199995e+01              42\n",
       "404     Scrypt   PoW/PoS     1.055185e+09       532000000\n",
       "1337       X13   PoW/PoS     2.927942e+10    314159265359\n",
       "BTC    SHA-256       PoW     1.792718e+07        21000000\n",
       "ETH     Ethash       PoW     1.076842e+08               0"
      ]
     },
     "execution_count": 83,
     "metadata": {},
     "output_type": "execute_result"
    }
   ],
   "source": [
    "# Drop the 'CoinName' column since it's not going to be used on the clustering algorithm.\n",
    "crypto_df = crypto_df.drop(columns = 'CoinName')\n",
    "crypto_df.head()"
   ]
  },
  {
   "cell_type": "code",
   "execution_count": 84,
   "metadata": {},
   "outputs": [
    {
     "data": {
      "text/html": [
       "<div>\n",
       "<style scoped>\n",
       "    .dataframe tbody tr th:only-of-type {\n",
       "        vertical-align: middle;\n",
       "    }\n",
       "\n",
       "    .dataframe tbody tr th {\n",
       "        vertical-align: top;\n",
       "    }\n",
       "\n",
       "    .dataframe thead th {\n",
       "        text-align: right;\n",
       "    }\n",
       "</style>\n",
       "<table border=\"1\" class=\"dataframe\">\n",
       "  <thead>\n",
       "    <tr style=\"text-align: right;\">\n",
       "      <th></th>\n",
       "      <th>TotalCoinsMined</th>\n",
       "      <th>TotalCoinSupply</th>\n",
       "      <th>Algorithm_1GB AES Pattern Search</th>\n",
       "      <th>Algorithm_536</th>\n",
       "      <th>Algorithm_Argon2d</th>\n",
       "      <th>Algorithm_BLAKE256</th>\n",
       "      <th>Algorithm_Blake</th>\n",
       "      <th>Algorithm_Blake2S</th>\n",
       "      <th>Algorithm_Blake2b</th>\n",
       "      <th>Algorithm_C11</th>\n",
       "      <th>...</th>\n",
       "      <th>ProofType_PoW/PoS</th>\n",
       "      <th>ProofType_PoW/PoS</th>\n",
       "      <th>ProofType_PoW/PoW</th>\n",
       "      <th>ProofType_PoW/nPoS</th>\n",
       "      <th>ProofType_Pos</th>\n",
       "      <th>ProofType_Proof of Authority</th>\n",
       "      <th>ProofType_Proof of Trust</th>\n",
       "      <th>ProofType_TPoS</th>\n",
       "      <th>ProofType_Zero-Knowledge Proof</th>\n",
       "      <th>ProofType_dPoW/PoW</th>\n",
       "    </tr>\n",
       "  </thead>\n",
       "  <tbody>\n",
       "    <tr>\n",
       "      <th>42</th>\n",
       "      <td>4.199995e+01</td>\n",
       "      <td>42</td>\n",
       "      <td>0</td>\n",
       "      <td>0</td>\n",
       "      <td>0</td>\n",
       "      <td>0</td>\n",
       "      <td>0</td>\n",
       "      <td>0</td>\n",
       "      <td>0</td>\n",
       "      <td>0</td>\n",
       "      <td>...</td>\n",
       "      <td>1</td>\n",
       "      <td>0</td>\n",
       "      <td>0</td>\n",
       "      <td>0</td>\n",
       "      <td>0</td>\n",
       "      <td>0</td>\n",
       "      <td>0</td>\n",
       "      <td>0</td>\n",
       "      <td>0</td>\n",
       "      <td>0</td>\n",
       "    </tr>\n",
       "    <tr>\n",
       "      <th>404</th>\n",
       "      <td>1.055185e+09</td>\n",
       "      <td>532000000</td>\n",
       "      <td>0</td>\n",
       "      <td>0</td>\n",
       "      <td>0</td>\n",
       "      <td>0</td>\n",
       "      <td>0</td>\n",
       "      <td>0</td>\n",
       "      <td>0</td>\n",
       "      <td>0</td>\n",
       "      <td>...</td>\n",
       "      <td>1</td>\n",
       "      <td>0</td>\n",
       "      <td>0</td>\n",
       "      <td>0</td>\n",
       "      <td>0</td>\n",
       "      <td>0</td>\n",
       "      <td>0</td>\n",
       "      <td>0</td>\n",
       "      <td>0</td>\n",
       "      <td>0</td>\n",
       "    </tr>\n",
       "    <tr>\n",
       "      <th>1337</th>\n",
       "      <td>2.927942e+10</td>\n",
       "      <td>314159265359</td>\n",
       "      <td>0</td>\n",
       "      <td>0</td>\n",
       "      <td>0</td>\n",
       "      <td>0</td>\n",
       "      <td>0</td>\n",
       "      <td>0</td>\n",
       "      <td>0</td>\n",
       "      <td>0</td>\n",
       "      <td>...</td>\n",
       "      <td>1</td>\n",
       "      <td>0</td>\n",
       "      <td>0</td>\n",
       "      <td>0</td>\n",
       "      <td>0</td>\n",
       "      <td>0</td>\n",
       "      <td>0</td>\n",
       "      <td>0</td>\n",
       "      <td>0</td>\n",
       "      <td>0</td>\n",
       "    </tr>\n",
       "    <tr>\n",
       "      <th>BTC</th>\n",
       "      <td>1.792718e+07</td>\n",
       "      <td>21000000</td>\n",
       "      <td>0</td>\n",
       "      <td>0</td>\n",
       "      <td>0</td>\n",
       "      <td>0</td>\n",
       "      <td>0</td>\n",
       "      <td>0</td>\n",
       "      <td>0</td>\n",
       "      <td>0</td>\n",
       "      <td>...</td>\n",
       "      <td>0</td>\n",
       "      <td>0</td>\n",
       "      <td>0</td>\n",
       "      <td>0</td>\n",
       "      <td>0</td>\n",
       "      <td>0</td>\n",
       "      <td>0</td>\n",
       "      <td>0</td>\n",
       "      <td>0</td>\n",
       "      <td>0</td>\n",
       "    </tr>\n",
       "    <tr>\n",
       "      <th>ETH</th>\n",
       "      <td>1.076842e+08</td>\n",
       "      <td>0</td>\n",
       "      <td>0</td>\n",
       "      <td>0</td>\n",
       "      <td>0</td>\n",
       "      <td>0</td>\n",
       "      <td>0</td>\n",
       "      <td>0</td>\n",
       "      <td>0</td>\n",
       "      <td>0</td>\n",
       "      <td>...</td>\n",
       "      <td>0</td>\n",
       "      <td>0</td>\n",
       "      <td>0</td>\n",
       "      <td>0</td>\n",
       "      <td>0</td>\n",
       "      <td>0</td>\n",
       "      <td>0</td>\n",
       "      <td>0</td>\n",
       "      <td>0</td>\n",
       "      <td>0</td>\n",
       "    </tr>\n",
       "  </tbody>\n",
       "</table>\n",
       "<p>5 rows × 98 columns</p>\n",
       "</div>"
      ],
      "text/plain": [
       "      TotalCoinsMined TotalCoinSupply  Algorithm_1GB AES Pattern Search  \\\n",
       "42       4.199995e+01              42                                 0   \n",
       "404      1.055185e+09       532000000                                 0   \n",
       "1337     2.927942e+10    314159265359                                 0   \n",
       "BTC      1.792718e+07        21000000                                 0   \n",
       "ETH      1.076842e+08               0                                 0   \n",
       "\n",
       "      Algorithm_536  Algorithm_Argon2d  Algorithm_BLAKE256  Algorithm_Blake  \\\n",
       "42                0                  0                   0                0   \n",
       "404               0                  0                   0                0   \n",
       "1337              0                  0                   0                0   \n",
       "BTC               0                  0                   0                0   \n",
       "ETH               0                  0                   0                0   \n",
       "\n",
       "      Algorithm_Blake2S  Algorithm_Blake2b  Algorithm_C11  ...  \\\n",
       "42                    0                  0              0  ...   \n",
       "404                   0                  0              0  ...   \n",
       "1337                  0                  0              0  ...   \n",
       "BTC                   0                  0              0  ...   \n",
       "ETH                   0                  0              0  ...   \n",
       "\n",
       "      ProofType_PoW/PoS  ProofType_PoW/PoS   ProofType_PoW/PoW  \\\n",
       "42                    1                   0                  0   \n",
       "404                   1                   0                  0   \n",
       "1337                  1                   0                  0   \n",
       "BTC                   0                   0                  0   \n",
       "ETH                   0                   0                  0   \n",
       "\n",
       "      ProofType_PoW/nPoS  ProofType_Pos  ProofType_Proof of Authority  \\\n",
       "42                     0              0                             0   \n",
       "404                    0              0                             0   \n",
       "1337                   0              0                             0   \n",
       "BTC                    0              0                             0   \n",
       "ETH                    0              0                             0   \n",
       "\n",
       "      ProofType_Proof of Trust  ProofType_TPoS  \\\n",
       "42                           0               0   \n",
       "404                          0               0   \n",
       "1337                         0               0   \n",
       "BTC                          0               0   \n",
       "ETH                          0               0   \n",
       "\n",
       "      ProofType_Zero-Knowledge Proof  ProofType_dPoW/PoW  \n",
       "42                                 0                   0  \n",
       "404                                0                   0  \n",
       "1337                               0                   0  \n",
       "BTC                                0                   0  \n",
       "ETH                                0                   0  \n",
       "\n",
       "[5 rows x 98 columns]"
      ]
     },
     "execution_count": 84,
     "metadata": {},
     "output_type": "execute_result"
    }
   ],
   "source": [
    "# Use get_dummies() to create variables for text features.\n",
    "crypto_dummies= pd.get_dummies(crypto_df, columns=['Algorithm', 'ProofType'])\n",
    "crypto_dummies.head()"
   ]
  },
  {
   "cell_type": "code",
   "execution_count": 85,
   "metadata": {},
   "outputs": [
    {
     "name": "stdout",
     "output_type": "stream",
     "text": [
      "[[-0.11710817 -0.1528703  -0.0433963  -0.0433963  -0.0433963  -0.06142951\n",
      "  -0.07530656 -0.0433963  -0.06142951 -0.06142951 -0.0433963  -0.0433963\n",
      "  -0.19245009 -0.06142951 -0.09740465 -0.0433963  -0.11547005 -0.07530656\n",
      "  -0.0433963  -0.0433963  -0.15191091 -0.0433963  -0.13118084 -0.0433963\n",
      "  -0.0433963  -0.08703883 -0.0433963  -0.0433963  -0.0433963  -0.0433963\n",
      "  -0.06142951 -0.0433963  -0.08703883 -0.08703883 -0.08703883 -0.0433963\n",
      "  -0.13118084 -0.13840913 -0.13840913 -0.0433963  -0.06142951 -0.0433963\n",
      "  -0.07530656 -0.18168574 -0.0433963  -0.0433963  -0.0433963  -0.07530656\n",
      "  -0.15826614 -0.31491833 -0.0433963  -0.08703883 -0.07530656 -0.06142951\n",
      "   1.38675049 -0.0433963  -0.0433963  -0.06142951 -0.0433963  -0.0433963\n",
      "  -0.0433963  -0.0433963  -0.0433963  -0.0433963  -0.0433963  -0.0433963\n",
      "  -0.39879994 -0.0433963  -0.18168574 -0.0433963  -0.08703883 -0.08703883\n",
      "  -0.10680283 -0.0433963  -0.13118084 -0.0433963  -0.0433963  -0.0433963\n",
      "  -0.0433963  -0.07530656 -0.43911856 -0.0433963  -0.06142951 -0.0433963\n",
      "  -0.0433963  -0.89632016 -0.0433963  -0.0433963   1.42222617 -0.0433963\n",
      "  -0.0433963  -0.0433963  -0.0433963  -0.0433963  -0.0433963  -0.0433963\n",
      "  -0.0433963  -0.0433963 ]]\n"
     ]
    }
   ],
   "source": [
    "# Standardize the data with StandardScaler().\n",
    "crypto_scaled = StandardScaler().fit_transform(crypto_dummies)\n",
    "print(crypto_scaled[0:1])"
   ]
  },
  {
   "cell_type": "markdown",
   "metadata": {},
   "source": [
    "### Deliverable 2: Reducing Data Dimensions Using PCA"
   ]
  },
  {
   "cell_type": "code",
   "execution_count": 86,
   "metadata": {},
   "outputs": [],
   "source": [
    "# Using PCA to reduce dimension to three principal components.\n",
    "pca = PCA(n_components=3)\n",
    "crypto_pca = pca.fit_transform(crypto_scaled)"
   ]
  },
  {
   "cell_type": "code",
   "execution_count": 94,
   "metadata": {},
   "outputs": [
    {
     "data": {
      "text/html": [
       "<div>\n",
       "<style scoped>\n",
       "    .dataframe tbody tr th:only-of-type {\n",
       "        vertical-align: middle;\n",
       "    }\n",
       "\n",
       "    .dataframe tbody tr th {\n",
       "        vertical-align: top;\n",
       "    }\n",
       "\n",
       "    .dataframe thead th {\n",
       "        text-align: right;\n",
       "    }\n",
       "</style>\n",
       "<table border=\"1\" class=\"dataframe\">\n",
       "  <thead>\n",
       "    <tr style=\"text-align: right;\">\n",
       "      <th></th>\n",
       "      <th>principal component 1</th>\n",
       "      <th>principal component 2</th>\n",
       "      <th>principal component 3</th>\n",
       "    </tr>\n",
       "  </thead>\n",
       "  <tbody>\n",
       "    <tr>\n",
       "      <th>42</th>\n",
       "      <td>-0.330118</td>\n",
       "      <td>1.017119</td>\n",
       "      <td>-0.565748</td>\n",
       "    </tr>\n",
       "    <tr>\n",
       "      <th>404</th>\n",
       "      <td>-0.313474</td>\n",
       "      <td>1.017321</td>\n",
       "      <td>-0.565984</td>\n",
       "    </tr>\n",
       "    <tr>\n",
       "      <th>1337</th>\n",
       "      <td>2.291663</td>\n",
       "      <td>1.721361</td>\n",
       "      <td>-0.575407</td>\n",
       "    </tr>\n",
       "    <tr>\n",
       "      <th>BTC</th>\n",
       "      <td>-0.148147</td>\n",
       "      <td>-1.274413</td>\n",
       "      <td>0.164529</td>\n",
       "    </tr>\n",
       "    <tr>\n",
       "      <th>ETH</th>\n",
       "      <td>-0.150484</td>\n",
       "      <td>-2.025250</td>\n",
       "      <td>0.416605</td>\n",
       "    </tr>\n",
       "  </tbody>\n",
       "</table>\n",
       "</div>"
      ],
      "text/plain": [
       "      principal component 1  principal component 2  principal component 3\n",
       "42                -0.330118               1.017119              -0.565748\n",
       "404               -0.313474               1.017321              -0.565984\n",
       "1337               2.291663               1.721361              -0.575407\n",
       "BTC               -0.148147              -1.274413               0.164529\n",
       "ETH               -0.150484              -2.025250               0.416605"
      ]
     },
     "execution_count": 94,
     "metadata": {},
     "output_type": "execute_result"
    }
   ],
   "source": [
    "# Create a DataFrame with the three principal components.\n",
    "\n",
    "pcs_df = pd.DataFrame(\n",
    "    data=crypto_pca, columns=[\"principal component 1\", \"principal component 2\", \"principal component 3\"],\n",
    "    index= crypto_df.index\n",
    ")\n",
    "pcs_df.head()\n"
   ]
  },
  {
   "cell_type": "markdown",
   "metadata": {},
   "source": [
    "### Deliverable 3: Clustering Crytocurrencies Using K-Means\n",
    "\n",
    "#### Finding the Best Value for `k` Using the Elbow Curve"
   ]
  },
  {
   "cell_type": "code",
   "execution_count": 95,
   "metadata": {},
   "outputs": [
    {
     "data": {},
     "metadata": {},
     "output_type": "display_data"
    },
    {
     "data": {
      "application/vnd.holoviews_exec.v0+json": "",
      "text/html": [
       "<div id='1120'>\n",
       "\n",
       "\n",
       "\n",
       "\n",
       "\n",
       "  <div class=\"bk-root\" id=\"40a33a5f-ed0f-4f21-aeca-02dff80289bf\" data-root-id=\"1120\"></div>\n",
       "</div>\n",
       "<script type=\"application/javascript\">(function(root) {\n",
       "  function embed_document(root) {\n",
       "    var docs_json = {\"5a38ceb6-9edc-4b1c-8d16-81a6f2b9e386\":{\"defs\":[],\"roots\":{\"references\":[{\"attributes\":{\"axis\":{\"id\":\"1138\"},\"dimension\":1,\"grid_line_color\":null,\"ticker\":null},\"id\":\"1141\",\"type\":\"Grid\"},{\"attributes\":{},\"id\":\"1156\",\"type\":\"Selection\"},{\"attributes\":{\"text\":\"Elbow Curve\",\"text_color\":\"black\",\"text_font_size\":\"12pt\"},\"id\":\"1126\",\"type\":\"Title\"},{\"attributes\":{},\"id\":\"1180\",\"type\":\"UnionRenderers\"},{\"attributes\":{},\"id\":\"1170\",\"type\":\"BasicTickFormatter\"},{\"attributes\":{\"axis\":{\"id\":\"1134\"},\"grid_line_color\":null,\"ticker\":null},\"id\":\"1137\",\"type\":\"Grid\"},{\"attributes\":{\"margin\":[5,5,5,5],\"name\":\"HSpacer01807\",\"sizing_mode\":\"stretch_width\"},\"id\":\"1121\",\"type\":\"Spacer\"},{\"attributes\":{},\"id\":\"1139\",\"type\":\"BasicTicker\"},{\"attributes\":{\"axis_label\":\"inertia\",\"formatter\":{\"id\":\"1170\"},\"major_label_policy\":{\"id\":\"1171\"},\"ticker\":{\"id\":\"1139\"}},\"id\":\"1138\",\"type\":\"LinearAxis\"},{\"attributes\":{\"margin\":[5,5,5,5],\"name\":\"HSpacer01808\",\"sizing_mode\":\"stretch_width\"},\"id\":\"1191\",\"type\":\"Spacer\"},{\"attributes\":{\"line_alpha\":0.2,\"line_color\":\"#30a2da\",\"line_width\":2,\"x\":{\"field\":\"k\"},\"y\":{\"field\":\"inertia\"}},\"id\":\"1160\",\"type\":\"Line\"},{\"attributes\":{\"end\":3994.5958976645206,\"reset_end\":3994.5958976645206,\"reset_start\":-260.5822112232761,\"start\":-260.5822112232761,\"tags\":[[[\"inertia\",\"inertia\",null]]]},\"id\":\"1123\",\"type\":\"Range1d\"},{\"attributes\":{\"data_source\":{\"id\":\"1155\"},\"glyph\":{\"id\":\"1158\"},\"hover_glyph\":null,\"muted_glyph\":{\"id\":\"1160\"},\"nonselection_glyph\":{\"id\":\"1159\"},\"selection_glyph\":{\"id\":\"1163\"},\"view\":{\"id\":\"1162\"}},\"id\":\"1161\",\"type\":\"GlyphRenderer\"},{\"attributes\":{\"line_alpha\":0.1,\"line_color\":\"#30a2da\",\"line_width\":2,\"x\":{\"field\":\"k\"},\"y\":{\"field\":\"inertia\"}},\"id\":\"1159\",\"type\":\"Line\"},{\"attributes\":{\"bottom_units\":\"screen\",\"fill_alpha\":0.5,\"fill_color\":\"lightgrey\",\"left_units\":\"screen\",\"level\":\"overlay\",\"line_alpha\":1.0,\"line_color\":\"black\",\"line_dash\":[4,4],\"line_width\":2,\"right_units\":\"screen\",\"syncable\":false,\"top_units\":\"screen\"},\"id\":\"1147\",\"type\":\"BoxAnnotation\"},{\"attributes\":{\"source\":{\"id\":\"1155\"}},\"id\":\"1162\",\"type\":\"CDSView\"},{\"attributes\":{},\"id\":\"1165\",\"type\":\"BasicTickFormatter\"},{\"attributes\":{\"active_multi\":null,\"tools\":[{\"id\":\"1124\"},{\"id\":\"1142\"},{\"id\":\"1143\"},{\"id\":\"1144\"},{\"id\":\"1145\"},{\"id\":\"1146\"}]},\"id\":\"1148\",\"type\":\"Toolbar\"},{\"attributes\":{\"end\":10.0,\"reset_end\":10.0,\"reset_start\":1.0,\"start\":1.0,\"tags\":[[[\"k\",\"k\",null]]]},\"id\":\"1122\",\"type\":\"Range1d\"},{\"attributes\":{},\"id\":\"1166\",\"type\":\"AllLabels\"},{\"attributes\":{\"below\":[{\"id\":\"1134\"}],\"center\":[{\"id\":\"1137\"},{\"id\":\"1141\"}],\"height\":300,\"left\":[{\"id\":\"1138\"}],\"margin\":[5,5,5,5],\"min_border_bottom\":10,\"min_border_left\":10,\"min_border_right\":10,\"min_border_top\":10,\"renderers\":[{\"id\":\"1161\"}],\"sizing_mode\":\"fixed\",\"title\":{\"id\":\"1126\"},\"toolbar\":{\"id\":\"1148\"},\"width\":700,\"x_range\":{\"id\":\"1122\"},\"x_scale\":{\"id\":\"1130\"},\"y_range\":{\"id\":\"1123\"},\"y_scale\":{\"id\":\"1132\"}},\"id\":\"1125\",\"subtype\":\"Figure\",\"type\":\"Plot\"},{\"attributes\":{},\"id\":\"1142\",\"type\":\"SaveTool\"},{\"attributes\":{\"line_color\":\"#30a2da\",\"line_width\":2,\"x\":{\"field\":\"k\"},\"y\":{\"field\":\"inertia\"}},\"id\":\"1163\",\"type\":\"Line\"},{\"attributes\":{},\"id\":\"1143\",\"type\":\"PanTool\"},{\"attributes\":{},\"id\":\"1171\",\"type\":\"AllLabels\"},{\"attributes\":{\"line_color\":\"#30a2da\",\"line_width\":2,\"x\":{\"field\":\"k\"},\"y\":{\"field\":\"inertia\"}},\"id\":\"1158\",\"type\":\"Line\"},{\"attributes\":{\"axis_label\":\"k\",\"formatter\":{\"id\":\"1165\"},\"major_label_policy\":{\"id\":\"1166\"},\"ticker\":{\"id\":\"1164\"}},\"id\":\"1134\",\"type\":\"LinearAxis\"},{\"attributes\":{},\"id\":\"1144\",\"type\":\"WheelZoomTool\"},{\"attributes\":{\"overlay\":{\"id\":\"1147\"}},\"id\":\"1145\",\"type\":\"BoxZoomTool\"},{\"attributes\":{},\"id\":\"1130\",\"type\":\"LinearScale\"},{\"attributes\":{\"ticks\":[1,2,3,4,5,6,7,8,9,10]},\"id\":\"1164\",\"type\":\"FixedTicker\"},{\"attributes\":{},\"id\":\"1132\",\"type\":\"LinearScale\"},{\"attributes\":{\"data\":{\"inertia\":{\"__ndarray__\":\"DnNo1f5vrED6BGDN0FajQNRP04mYM5dA6XN+lEK+gECB/g/kUbd2QDXPY0a7OHBAtX1RzOJDaEDNcifRa6NiQCCdECRchV1ACgEKkAWBV0A=\",\"dtype\":\"float64\",\"order\":\"little\",\"shape\":[10]},\"k\":[1,2,3,4,5,6,7,8,9,10]},\"selected\":{\"id\":\"1156\"},\"selection_policy\":{\"id\":\"1180\"}},\"id\":\"1155\",\"type\":\"ColumnDataSource\"},{\"attributes\":{\"callback\":null,\"renderers\":[{\"id\":\"1161\"}],\"tags\":[\"hv_created\"],\"tooltips\":[[\"k\",\"@{k}\"],[\"inertia\",\"@{inertia}\"]]},\"id\":\"1124\",\"type\":\"HoverTool\"},{\"attributes\":{\"children\":[{\"id\":\"1121\"},{\"id\":\"1125\"},{\"id\":\"1191\"}],\"margin\":[0,0,0,0],\"name\":\"Row01803\",\"tags\":[\"embedded\"]},\"id\":\"1120\",\"type\":\"Row\"},{\"attributes\":{},\"id\":\"1146\",\"type\":\"ResetTool\"}],\"root_ids\":[\"1120\"]},\"title\":\"Bokeh Application\",\"version\":\"2.3.2\"}};\n",
       "    var render_items = [{\"docid\":\"5a38ceb6-9edc-4b1c-8d16-81a6f2b9e386\",\"root_ids\":[\"1120\"],\"roots\":{\"1120\":\"40a33a5f-ed0f-4f21-aeca-02dff80289bf\"}}];\n",
       "    root.Bokeh.embed.embed_items_notebook(docs_json, render_items);\n",
       "  }\n",
       "  if (root.Bokeh !== undefined && root.Bokeh.Panel !== undefined) {\n",
       "    embed_document(root);\n",
       "  } else {\n",
       "    var attempts = 0;\n",
       "    var timer = setInterval(function(root) {\n",
       "      if (root.Bokeh !== undefined && root.Bokeh.Panel !== undefined) {\n",
       "        clearInterval(timer);\n",
       "        embed_document(root);\n",
       "      } else if (document.readyState == \"complete\") {\n",
       "        attempts++;\n",
       "        if (attempts > 100) {\n",
       "          clearInterval(timer);\n",
       "          console.log(\"Bokeh: ERROR: Unable to run BokehJS code because BokehJS library is missing\");\n",
       "        }\n",
       "      }\n",
       "    }, 10, root)\n",
       "  }\n",
       "})(window);</script>"
      ],
      "text/plain": [
       ":Curve   [k]   (inertia)"
      ]
     },
     "execution_count": 95,
     "metadata": {
      "application/vnd.holoviews_exec.v0+json": {
       "id": "1120"
      }
     },
     "output_type": "execute_result"
    }
   ],
   "source": [
    "# Create an elbow curve to find the best value for K.\n",
    "inertia = []\n",
    "k = list(range(1, 11))\n",
    "\n",
    "# Calculate the inertia for the range of k values\n",
    "for i in k:\n",
    "    km = KMeans(n_clusters=i, random_state=0)\n",
    "    km.fit(crypto_pca)\n",
    "    inertia.append(km.inertia_)\n",
    "\n",
    "# Create the Elbow Curve using hvPlot\n",
    "elbow_data = {\"k\": k, \"inertia\": inertia}\n",
    "df_elbow = pd.DataFrame(elbow_data)\n",
    "df_elbow.hvplot.line(x=\"k\", y=\"inertia\", xticks=k, title=\"Elbow Curve\")\n"
   ]
  },
  {
   "cell_type": "markdown",
   "metadata": {},
   "source": [
    "Running K-Means with `k=4`"
   ]
  },
  {
   "cell_type": "code",
   "execution_count": 103,
   "metadata": {},
   "outputs": [],
   "source": [
    "# Initialize the K-Means model.\n",
    "model = KMeans(n_clusters=5, random_state=0)\n",
    "\n",
    "# Fit the model\n",
    "model.fit(pca_df)\n",
    "\n",
    "# Predict clusters\n",
    "predictions = model.predict(pca_df)\n"
   ]
  },
  {
   "cell_type": "code",
   "execution_count": 104,
   "metadata": {},
   "outputs": [
    {
     "name": "stdout",
     "output_type": "stream",
     "text": [
      "(532, 9)\n"
     ]
    },
    {
     "data": {
      "text/html": [
       "<div>\n",
       "<style scoped>\n",
       "    .dataframe tbody tr th:only-of-type {\n",
       "        vertical-align: middle;\n",
       "    }\n",
       "\n",
       "    .dataframe tbody tr th {\n",
       "        vertical-align: top;\n",
       "    }\n",
       "\n",
       "    .dataframe thead th {\n",
       "        text-align: right;\n",
       "    }\n",
       "</style>\n",
       "<table border=\"1\" class=\"dataframe\">\n",
       "  <thead>\n",
       "    <tr style=\"text-align: right;\">\n",
       "      <th></th>\n",
       "      <th>Algorithm</th>\n",
       "      <th>ProofType</th>\n",
       "      <th>TotalCoinsMined</th>\n",
       "      <th>TotalCoinSupply</th>\n",
       "      <th>PC1</th>\n",
       "      <th>PC2</th>\n",
       "      <th>PC3</th>\n",
       "      <th>CoinName</th>\n",
       "      <th>Class</th>\n",
       "    </tr>\n",
       "  </thead>\n",
       "  <tbody>\n",
       "    <tr>\n",
       "      <th>42</th>\n",
       "      <td>Scrypt</td>\n",
       "      <td>PoW/PoS</td>\n",
       "      <td>4.199995e+01</td>\n",
       "      <td>42</td>\n",
       "      <td>-0.330118</td>\n",
       "      <td>1.017119</td>\n",
       "      <td>-0.565748</td>\n",
       "      <td>42 Coin</td>\n",
       "      <td>0</td>\n",
       "    </tr>\n",
       "    <tr>\n",
       "      <th>404</th>\n",
       "      <td>Scrypt</td>\n",
       "      <td>PoW/PoS</td>\n",
       "      <td>1.055185e+09</td>\n",
       "      <td>532000000</td>\n",
       "      <td>-0.313474</td>\n",
       "      <td>1.017321</td>\n",
       "      <td>-0.565984</td>\n",
       "      <td>404Coin</td>\n",
       "      <td>0</td>\n",
       "    </tr>\n",
       "    <tr>\n",
       "      <th>1337</th>\n",
       "      <td>X13</td>\n",
       "      <td>PoW/PoS</td>\n",
       "      <td>2.927942e+10</td>\n",
       "      <td>314159265359</td>\n",
       "      <td>2.291663</td>\n",
       "      <td>1.721361</td>\n",
       "      <td>-0.575407</td>\n",
       "      <td>EliteCoin</td>\n",
       "      <td>4</td>\n",
       "    </tr>\n",
       "    <tr>\n",
       "      <th>BTC</th>\n",
       "      <td>SHA-256</td>\n",
       "      <td>PoW</td>\n",
       "      <td>1.792718e+07</td>\n",
       "      <td>21000000</td>\n",
       "      <td>-0.148147</td>\n",
       "      <td>-1.274413</td>\n",
       "      <td>0.164529</td>\n",
       "      <td>Bitcoin</td>\n",
       "      <td>1</td>\n",
       "    </tr>\n",
       "    <tr>\n",
       "      <th>ETH</th>\n",
       "      <td>Ethash</td>\n",
       "      <td>PoW</td>\n",
       "      <td>1.076842e+08</td>\n",
       "      <td>0</td>\n",
       "      <td>-0.150484</td>\n",
       "      <td>-2.025250</td>\n",
       "      <td>0.416605</td>\n",
       "      <td>Ethereum</td>\n",
       "      <td>1</td>\n",
       "    </tr>\n",
       "    <tr>\n",
       "      <th>LTC</th>\n",
       "      <td>Scrypt</td>\n",
       "      <td>PoW</td>\n",
       "      <td>6.303924e+07</td>\n",
       "      <td>84000000</td>\n",
       "      <td>-0.159020</td>\n",
       "      <td>-1.152515</td>\n",
       "      <td>-0.050528</td>\n",
       "      <td>Litecoin</td>\n",
       "      <td>1</td>\n",
       "    </tr>\n",
       "    <tr>\n",
       "      <th>DASH</th>\n",
       "      <td>X11</td>\n",
       "      <td>PoW/PoS</td>\n",
       "      <td>9.031294e+06</td>\n",
       "      <td>22000000</td>\n",
       "      <td>-0.407416</td>\n",
       "      <td>1.296690</td>\n",
       "      <td>-0.414171</td>\n",
       "      <td>Dash</td>\n",
       "      <td>0</td>\n",
       "    </tr>\n",
       "    <tr>\n",
       "      <th>XMR</th>\n",
       "      <td>CryptoNight-V7</td>\n",
       "      <td>PoW</td>\n",
       "      <td>1.720114e+07</td>\n",
       "      <td>0</td>\n",
       "      <td>-0.150427</td>\n",
       "      <td>-2.202077</td>\n",
       "      <td>0.422277</td>\n",
       "      <td>Monero</td>\n",
       "      <td>1</td>\n",
       "    </tr>\n",
       "    <tr>\n",
       "      <th>ETC</th>\n",
       "      <td>Ethash</td>\n",
       "      <td>PoW</td>\n",
       "      <td>1.133597e+08</td>\n",
       "      <td>210000000</td>\n",
       "      <td>-0.148929</td>\n",
       "      <td>-2.025347</td>\n",
       "      <td>0.416608</td>\n",
       "      <td>Ethereum Classic</td>\n",
       "      <td>1</td>\n",
       "    </tr>\n",
       "    <tr>\n",
       "      <th>ZEC</th>\n",
       "      <td>Equihash</td>\n",
       "      <td>PoW</td>\n",
       "      <td>7.383056e+06</td>\n",
       "      <td>21000000</td>\n",
       "      <td>-0.141989</td>\n",
       "      <td>-2.228476</td>\n",
       "      <td>0.414638</td>\n",
       "      <td>ZCash</td>\n",
       "      <td>1</td>\n",
       "    </tr>\n",
       "  </tbody>\n",
       "</table>\n",
       "</div>"
      ],
      "text/plain": [
       "           Algorithm ProofType  TotalCoinsMined TotalCoinSupply       PC1  \\\n",
       "42            Scrypt   PoW/PoS     4.199995e+01              42 -0.330118   \n",
       "404           Scrypt   PoW/PoS     1.055185e+09       532000000 -0.313474   \n",
       "1337             X13   PoW/PoS     2.927942e+10    314159265359  2.291663   \n",
       "BTC          SHA-256       PoW     1.792718e+07        21000000 -0.148147   \n",
       "ETH           Ethash       PoW     1.076842e+08               0 -0.150484   \n",
       "LTC           Scrypt       PoW     6.303924e+07        84000000 -0.159020   \n",
       "DASH             X11   PoW/PoS     9.031294e+06        22000000 -0.407416   \n",
       "XMR   CryptoNight-V7       PoW     1.720114e+07               0 -0.150427   \n",
       "ETC           Ethash       PoW     1.133597e+08       210000000 -0.148929   \n",
       "ZEC         Equihash       PoW     7.383056e+06        21000000 -0.141989   \n",
       "\n",
       "           PC2       PC3          CoinName  Class  \n",
       "42    1.017119 -0.565748           42 Coin      0  \n",
       "404   1.017321 -0.565984           404Coin      0  \n",
       "1337  1.721361 -0.575407         EliteCoin      4  \n",
       "BTC  -1.274413  0.164529           Bitcoin      1  \n",
       "ETH  -2.025250  0.416605          Ethereum      1  \n",
       "LTC  -1.152515 -0.050528          Litecoin      1  \n",
       "DASH  1.296690 -0.414171              Dash      0  \n",
       "XMR  -2.202077  0.422277            Monero      1  \n",
       "ETC  -2.025347  0.416608  Ethereum Classic      1  \n",
       "ZEC  -2.228476  0.414638             ZCash      1  "
      ]
     },
     "execution_count": 104,
     "metadata": {},
     "output_type": "execute_result"
    }
   ],
   "source": [
    "# Create a new DataFrame including predicted clusters and cryptocurrencies features.\n",
    "# Concatentate the crypto_df and pcs_df DataFrames on the same columns.\n",
    "pca_df['class'] = model.labels_\n",
    "\n",
    "df_merged = crypto_df.join(coinname_df, how='outer')\n",
    "df_merged = df_merged.append(pca_df)\n",
    "\n",
    "df_merged.head(20)\n",
    "\n",
    "#  Add a new column, \"CoinName\" to the clustered_df DataFrame that holds the names of the cryptocurrencies. \n",
    "#  AND\n",
    "#  Add a new column, \"Class\" to the clustered_df DataFrame that holds the predictions.\n",
    "\n",
    "\n",
    "clustered_df=pd.DataFrame({\n",
    "    \"Algorithm\": crypto_df.Algorithm,\n",
    "    \"ProofType\": crypto_df.ProofType,\n",
    "    \"TotalCoinsMined\": crypto_df.TotalCoinsMined,\n",
    "    \"TotalCoinSupply\": crypto_df.TotalCoinSupply,\n",
    "    \"PC1\": pcs_df[\"principal component 1\"],\n",
    "    \"PC2\": pcs_df[\"principal component 2\"],\n",
    "    \"PC3\": pcs_df[\"principal component 3\"],\n",
    "    \"CoinName\": coinname_df.CoinName,\n",
    "    \"Class\": model.labels_,\n",
    "    },index= crypto_df.index)\n",
    "\n",
    "\n",
    "# Print the shape of the clustered_df\n",
    "print(clustered_df.shape)\n",
    "clustered_df.head(10)"
   ]
  },
  {
   "cell_type": "markdown",
   "metadata": {},
   "source": [
    "### Deliverable 4: Visualizing Cryptocurrencies Results\n",
    "\n",
    "#### 3D-Scatter with Clusters"
   ]
  },
  {
   "cell_type": "code",
   "execution_count": 107,
   "metadata": {},
   "outputs": [
    {
     "data": {
      "application/vnd.plotly.v1+json": {
       "config": {
        "plotlyServerURL": "https://plot.ly"
       },
       "data": [
        {
         "customdata": [
          [
           "Scrypt"
          ],
          [
           "Scrypt"
          ],
          [
           "X11"
          ],
          [
           "SHA-512"
          ],
          [
           "SHA-256"
          ],
          [
           "SHA-256"
          ],
          [
           "X15"
          ],
          [
           "Scrypt"
          ],
          [
           "Scrypt"
          ],
          [
           "Scrypt"
          ],
          [
           "Scrypt"
          ],
          [
           "Scrypt"
          ],
          [
           "Scrypt"
          ],
          [
           "Groestl"
          ],
          [
           "PoS"
          ],
          [
           "Scrypt"
          ],
          [
           "Scrypt"
          ],
          [
           "X11"
          ],
          [
           "X11"
          ],
          [
           "SHA3"
          ],
          [
           "Scrypt"
          ],
          [
           "SHA-256"
          ],
          [
           "Scrypt"
          ],
          [
           "X13"
          ],
          [
           "X13"
          ],
          [
           "NeoScrypt"
          ],
          [
           "Scrypt"
          ],
          [
           "Scrypt"
          ],
          [
           "Scrypt"
          ],
          [
           "X11"
          ],
          [
           "X11"
          ],
          [
           "Multiple"
          ],
          [
           "PHI1612"
          ],
          [
           "X11"
          ],
          [
           "Scrypt"
          ],
          [
           "Scrypt"
          ],
          [
           "Scrypt"
          ],
          [
           "X11"
          ],
          [
           "Multiple"
          ],
          [
           "X13"
          ],
          [
           "Scrypt"
          ],
          [
           "Shabal256"
          ],
          [
           "Counterparty"
          ],
          [
           "SHA-256"
          ],
          [
           "Groestl"
          ],
          [
           "Scrypt"
          ],
          [
           "X13"
          ],
          [
           "Scrypt"
          ],
          [
           "Scrypt"
          ],
          [
           "X13"
          ],
          [
           "X11"
          ],
          [
           "Scrypt"
          ],
          [
           "X11"
          ],
          [
           "SHA3"
          ],
          [
           "QUAIT"
          ],
          [
           "X11"
          ],
          [
           "Scrypt"
          ],
          [
           "X13"
          ],
          [
           "SHA-256"
          ],
          [
           "X15"
          ],
          [
           "BLAKE256"
          ],
          [
           "SHA-256"
          ],
          [
           "X11"
          ],
          [
           "SHA-256"
          ],
          [
           "NIST5"
          ],
          [
           "Scrypt"
          ],
          [
           "Scrypt"
          ],
          [
           "X11"
          ],
          [
           "Scrypt"
          ],
          [
           "SHA-256"
          ],
          [
           "Scrypt"
          ],
          [
           "PoS"
          ],
          [
           "X11"
          ],
          [
           "SHA-256"
          ],
          [
           "SHA-256"
          ],
          [
           "NIST5"
          ],
          [
           "X11"
          ],
          [
           "POS 3.0"
          ],
          [
           "Scrypt"
          ],
          [
           "Scrypt"
          ],
          [
           "Scrypt"
          ],
          [
           "X13"
          ],
          [
           "X11"
          ],
          [
           "X11"
          ],
          [
           "Scrypt"
          ],
          [
           "SHA-256"
          ],
          [
           "X11"
          ],
          [
           "Scrypt"
          ],
          [
           "Scrypt"
          ],
          [
           "Scrypt"
          ],
          [
           "Scrypt"
          ],
          [
           "SHA-256D"
          ],
          [
           "PoS"
          ],
          [
           "Scrypt"
          ],
          [
           "X11"
          ],
          [
           "PoS"
          ],
          [
           "X13"
          ],
          [
           "X14"
          ],
          [
           "PoS"
          ],
          [
           "SHA-256D"
          ],
          [
           "X11"
          ],
          [
           "X13"
          ],
          [
           "X11"
          ],
          [
           "PoS"
          ],
          [
           "Scrypt"
          ],
          [
           "Scrypt"
          ],
          [
           "PoS"
          ],
          [
           "X11"
          ],
          [
           "SHA-256"
          ],
          [
           "Scrypt"
          ],
          [
           "X11"
          ],
          [
           "Scrypt"
          ],
          [
           "Scrypt"
          ],
          [
           "X11"
          ],
          [
           "Scrypt"
          ],
          [
           "Scrypt"
          ],
          [
           "Scrypt"
          ],
          [
           "Scrypt"
          ],
          [
           "Quark"
          ],
          [
           "QuBit"
          ],
          [
           "Scrypt"
          ],
          [
           "SHA-256"
          ],
          [
           "X11"
          ],
          [
           "Scrypt"
          ],
          [
           "Scrypt"
          ],
          [
           "Scrypt"
          ],
          [
           "Scrypt"
          ],
          [
           "X13"
          ],
          [
           "Scrypt"
          ],
          [
           "Scrypt"
          ],
          [
           "X11"
          ],
          [
           "Blake2S"
          ],
          [
           "X11"
          ],
          [
           "PoS"
          ],
          [
           "X11"
          ],
          [
           "PoS"
          ],
          [
           "X11"
          ],
          [
           "Scrypt"
          ],
          [
           "Scrypt"
          ],
          [
           "Scrypt"
          ],
          [
           "SHA-256"
          ],
          [
           "X11"
          ],
          [
           "Scrypt"
          ],
          [
           "PoS"
          ],
          [
           "Scrypt"
          ],
          [
           "X15"
          ],
          [
           "SHA-256"
          ],
          [
           "POS 3.0"
          ],
          [
           "536"
          ],
          [
           "NIST5"
          ],
          [
           "NIST5"
          ],
          [
           "Skein"
          ],
          [
           "X13"
          ],
          [
           "Scrypt"
          ],
          [
           "X13"
          ],
          [
           "SkunkHash v2 Raptor"
          ],
          [
           "Skein"
          ],
          [
           "X11"
          ],
          [
           "Scrypt"
          ],
          [
           "PoS"
          ],
          [
           "Scrypt"
          ],
          [
           "Scrypt"
          ],
          [
           "SHA-512"
          ],
          [
           "Ouroboros"
          ],
          [
           "X11"
          ],
          [
           "NeoScrypt"
          ],
          [
           "Scrypt"
          ],
          [
           "Lyra2REv2"
          ],
          [
           "Scrypt"
          ],
          [
           "SHA-256"
          ],
          [
           "NIST5"
          ],
          [
           "PHI1612"
          ],
          [
           "Scrypt"
          ],
          [
           "Quark"
          ],
          [
           "POS 2.0"
          ],
          [
           "Scrypt"
          ],
          [
           "SHA-256"
          ],
          [
           "X11"
          ],
          [
           "NIST5"
          ],
          [
           "X13"
          ],
          [
           "Scrypt"
          ],
          [
           "NIST5"
          ],
          [
           "Quark"
          ],
          [
           "Scrypt"
          ],
          [
           "Scrypt"
          ],
          [
           "X11"
          ],
          [
           "Quark"
          ],
          [
           "Scrypt"
          ],
          [
           "Scrypt"
          ],
          [
           "X11"
          ],
          [
           "POS 3.0"
          ],
          [
           "Ethash"
          ],
          [
           "Scrypt"
          ],
          [
           "Scrypt"
          ],
          [
           "X13"
          ],
          [
           "C11"
          ],
          [
           "X11"
          ],
          [
           "XEVAN"
          ],
          [
           "Scrypt"
          ],
          [
           "VBFT"
          ],
          [
           "NIST5"
          ],
          [
           "Scrypt"
          ],
          [
           "Scrypt"
          ],
          [
           "Scrypt"
          ],
          [
           "Green Protocol"
          ],
          [
           "PoS"
          ],
          [
           "Scrypt"
          ],
          [
           "Quark"
          ],
          [
           "PoS"
          ],
          [
           "X16R"
          ],
          [
           "Scrypt"
          ],
          [
           "XEVAN"
          ],
          [
           "Scrypt"
          ],
          [
           "Scrypt"
          ],
          [
           "Scrypt"
          ],
          [
           "SHA-256D"
          ],
          [
           "Scrypt"
          ],
          [
           "X15"
          ],
          [
           "Quark"
          ],
          [
           "SHA-256"
          ],
          [
           "DPoS"
          ],
          [
           "X16R"
          ],
          [
           "Quark"
          ],
          [
           "Quark"
          ],
          [
           "Scrypt"
          ],
          [
           "Lyra2REv2"
          ],
          [
           "Quark"
          ],
          [
           "Scrypt"
          ],
          [
           "X11"
          ],
          [
           "X11"
          ],
          [
           "Scrypt"
          ],
          [
           "PoS"
          ],
          [
           "Keccak"
          ],
          [
           "X11"
          ],
          [
           "Scrypt"
          ],
          [
           "SHA-512"
          ],
          [
           "XEVAN"
          ],
          [
           "XEVAN"
          ],
          [
           "X11"
          ],
          [
           "Quark"
          ],
          [
           "Scrypt"
          ],
          [
           "Quark"
          ],
          [
           "Quark"
          ],
          [
           "Scrypt"
          ],
          [
           "X11"
          ],
          [
           "Scrypt"
          ],
          [
           "XEVAN"
          ],
          [
           "SHA-256D"
          ],
          [
           "X11"
          ],
          [
           "X11"
          ],
          [
           "Scrypt"
          ],
          [
           "X11"
          ],
          [
           "Scrypt"
          ],
          [
           "Scrypt"
          ],
          [
           "SHA-256"
          ],
          [
           "Scrypt"
          ],
          [
           "X11"
          ],
          [
           "Scrypt"
          ],
          [
           "SHA-256"
          ],
          [
           "X11"
          ],
          [
           "Scrypt"
          ],
          [
           "Scrypt"
          ],
          [
           "X11"
          ],
          [
           "Scrypt"
          ],
          [
           "PoS"
          ],
          [
           "X11"
          ],
          [
           "SHA-256"
          ],
          [
           "Scrypt"
          ],
          [
           "Scrypt"
          ],
          [
           "NeoScrypt"
          ],
          [
           "X13"
          ],
          [
           "SHA-256"
          ],
          [
           "PoS"
          ],
          [
           "PoS"
          ],
          [
           "Scrypt"
          ],
          [
           "Scrypt"
          ]
         ],
         "hovertemplate": "<b>%{hovertext}</b><br><br>Class=%{marker.color}<br>PC3=%{x}<br>PC2=%{y}<br>PC1=%{z}<br>Algorithm=%{customdata[0]}<extra></extra>",
         "hovertext": [
          "42 Coin",
          "404Coin",
          "Dash",
          "Bitshares",
          "BitcoinDark",
          "PayCoin",
          "KoboCoin",
          "Aurora Coin",
          "BlueCoin",
          "EnergyCoin",
          "BitBar",
          "CryptoBullion",
          "CasinoCoin",
          "Diamond",
          "Exclusive Coin",
          "FlutterCoin",
          "HoboNickels",
          "HyperStake",
          "IOCoin",
          "MaxCoin",
          "MintCoin",
          "MazaCoin",
          "Nautilus Coin",
          "NavCoin",
          "OpalCoin",
          "Orbitcoin",
          "PotCoin",
          "PhoenixCoin",
          "Reddcoin",
          "SuperCoin",
          "SyncCoin",
          "TeslaCoin",
          "TittieCoin",
          "TorCoin",
          "UnitaryStatus Dollar",
          "UltraCoin",
          "VeriCoin",
          "X11 Coin",
          "Crypti",
          "StealthCoin",
          "ZCC Coin",
          "BurstCoin",
          "StorjCoin",
          "Neutron",
          "FairCoin",
          "RubyCoin",
          "Kore",
          "Dnotes",
          "8BIT Coin",
          "Sativa Coin",
          "Ucoin",
          "Vtorrent",
          "IslaCoin",
          "Nexus",
          "Droidz",
          "Squall Coin",
          "Diggits",
          "Paycon",
          "Emercoin",
          "EverGreenCoin",
          "Decred",
          "EDRCoin",
          "Hitcoin",
          "DubaiCoin",
          "PWR Coin",
          "BillaryCoin",
          "GPU Coin",
          "EuropeCoin",
          "ZeitCoin",
          "SwingCoin",
          "SafeExchangeCoin",
          "Nebuchadnezzar",
          "Ratecoin",
          "Revenu",
          "Clockcoin",
          "VIP Tokens",
          "BitSend",
          "Let it Ride",
          "PutinCoin",
          "iBankCoin",
          "Frankywillcoin",
          "MudraCoin",
          "Lutetium Coin",
          "GoldBlocks",
          "CarterCoin",
          "BitTokens",
          "MustangCoin",
          "ZoneCoin",
          "RootCoin",
          "BitCurrency",
          "Swiscoin",
          "BuzzCoin",
          "Opair",
          "PesoBit",
          "Halloween Coin",
          "CoffeeCoin",
          "RoyalCoin",
          "GanjaCoin V2",
          "TeamUP",
          "LanaCoin",
          "InsaneCoin",
          "EmberCoin",
          "XenixCoin",
          "FreeCoin",
          "PLNCoin",
          "AquariusCoin",
          "Creatio",
          "Eternity",
          "Eurocoin",
          "BitcoinFast",
          "Stakenet",
          "BitConnect Coin",
          "MoneyCoin",
          "Enigma",
          "Russiacoin",
          "PandaCoin",
          "GameUnits",
          "GAKHcoin",
          "Allsafe",
          "LiteCreed",
          "Klingon Empire Darsek",
          "Internet of People",
          "KushCoin",
          "Printerium",
          "Impeach",
          "Zilbercoin",
          "FirstCoin",
          "FindCoin",
          "OpenChat",
          "RenosCoin",
          "VirtacoinPlus",
          "TajCoin",
          "Impact",
          "Atmos",
          "HappyCoin",
          "MacronCoin",
          "Condensate",
          "Independent Money System",
          "ArgusCoin",
          "LomoCoin",
          "ProCurrency",
          "GoldReserve",
          "GrowthCoin",
          "Phreak",
          "Degas Coin",
          "HTML5 Coin",
          "Ultimate Secure Cash",
          "QTUM",
          "Espers",
          "Denarius",
          "Virta Unique Coin",
          "Bitcoin Planet",
          "BritCoin",
          "Linda",
          "DeepOnion",
          "Signatum",
          "Cream",
          "Monoeci",
          "Draftcoin",
          "Stakecoin",
          "CoinonatX",
          "Ethereum Dark",
          "Obsidian",
          "Cardano",
          "Regalcoin",
          "TrezarCoin",
          "TerraNovaCoin",
          "Rupee",
          "WomenCoin",
          "Theresa May Coin",
          "NamoCoin",
          "LUXCoin",
          "Xios",
          "Bitcloud 2.0",
          "KekCoin",
          "BlackholeCoin",
          "Infinity Economics",
          "Magnet",
          "Electra",
          "Bitcoin Diamond",
          "Cash & Back Coin",
          "Bulwark",
          "Kalkulus",
          "GermanCoin",
          "LiteCoin Ultra",
          "PhantomX",
          "Digiwage",
          "Trollcoin",
          "Litecoin Plus",
          "Monkey Project",
          "TokenPay",
          "1717 Masonic Commemorative Token",
          "My Big Coin",
          "Unified Society USDEX",
          "Tokyo Coin",
          "Stipend",
          "Pushi",
          "Ellerium",
          "Velox",
          "Ontology",
          "Bitspace",
          "Briacoin",
          "Ignition",
          "MedicCoin",
          "Bitcoin Green",
          "Deviant Coin",
          "Abjcoin",
          "Carebit",
          "Zealium",
          "Proton",
          "iDealCash",
          "Bitcoin Incognito",
          "HollyWoodCoin",
          "Swisscoin",
          "Xt3ch",
          "TheVig",
          "EmaratCoin",
          "Dekado",
          "Poseidon Quark",
          "BitcoinWSpectrum",
          "Muse",
          "Trivechain",
          "Dystem",
          "Giant",
          "Peony Coin",
          "Absolute Coin",
          "Vitae",
          "TPCash",
          "ARENON",
          "EUNO",
          "MMOCoin",
          "Ketan",
          "XDNA",
          "PAXEX",
          "ThunderStake",
          "Kcash",
          "Bettex coin",
          "BitMoney",
          "Junson Ming Chan Coin",
          "HerbCoin",
          "Oduwa",
          "Galilel",
          "Crypto Sports",
          "Credit",
          "Dash Platinum",
          "Nasdacoin",
          "Beetle Coin",
          "Titan Coin",
          "Award",
          "Insane Coin",
          "LiteDoge",
          "TruckCoin",
          "OrangeCoin",
          "BitstarCoin",
          "NeosCoin",
          "HyperCoin",
          "PinkCoin",
          "AudioCoin",
          "IncaKoin",
          "Piggy Coin",
          "Genstake",
          "XiaoMiCoin",
          "CapriCoin",
          " ClubCoin",
          "Radium",
          "Creditbit ",
          "OKCash",
          "HiCoin",
          "WhiteCoin",
          "FriendshipCoin",
          "Triangles Coin",
          "TigerCash",
          "Particl",
          "Nxt",
          "Gapcoin",
          "BitcoinPlus"
         ],
         "legendgroup": "0",
         "marker": {
          "color": [
           0,
           0,
           0,
           0,
           0,
           0,
           0,
           0,
           0,
           0,
           0,
           0,
           0,
           0,
           0,
           0,
           0,
           0,
           0,
           0,
           0,
           0,
           0,
           0,
           0,
           0,
           0,
           0,
           0,
           0,
           0,
           0,
           0,
           0,
           0,
           0,
           0,
           0,
           0,
           0,
           0,
           0,
           0,
           0,
           0,
           0,
           0,
           0,
           0,
           0,
           0,
           0,
           0,
           0,
           0,
           0,
           0,
           0,
           0,
           0,
           0,
           0,
           0,
           0,
           0,
           0,
           0,
           0,
           0,
           0,
           0,
           0,
           0,
           0,
           0,
           0,
           0,
           0,
           0,
           0,
           0,
           0,
           0,
           0,
           0,
           0,
           0,
           0,
           0,
           0,
           0,
           0,
           0,
           0,
           0,
           0,
           0,
           0,
           0,
           0,
           0,
           0,
           0,
           0,
           0,
           0,
           0,
           0,
           0,
           0,
           0,
           0,
           0,
           0,
           0,
           0,
           0,
           0,
           0,
           0,
           0,
           0,
           0,
           0,
           0,
           0,
           0,
           0,
           0,
           0,
           0,
           0,
           0,
           0,
           0,
           0,
           0,
           0,
           0,
           0,
           0,
           0,
           0,
           0,
           0,
           0,
           0,
           0,
           0,
           0,
           0,
           0,
           0,
           0,
           0,
           0,
           0,
           0,
           0,
           0,
           0,
           0,
           0,
           0,
           0,
           0,
           0,
           0,
           0,
           0,
           0,
           0,
           0,
           0,
           0,
           0,
           0,
           0,
           0,
           0,
           0,
           0,
           0,
           0,
           0,
           0,
           0,
           0,
           0,
           0,
           0,
           0,
           0,
           0,
           0,
           0,
           0,
           0,
           0,
           0,
           0,
           0,
           0,
           0,
           0,
           0,
           0,
           0,
           0,
           0,
           0,
           0,
           0,
           0,
           0,
           0,
           0,
           0,
           0,
           0,
           0,
           0,
           0,
           0,
           0,
           0,
           0,
           0,
           0,
           0,
           0,
           0,
           0,
           0,
           0,
           0,
           0,
           0,
           0,
           0,
           0,
           0,
           0,
           0,
           0,
           0,
           0,
           0,
           0,
           0,
           0,
           0,
           0,
           0,
           0,
           0,
           0,
           0,
           0,
           0,
           0,
           0,
           0,
           0,
           0,
           0,
           0,
           0,
           0,
           0,
           0,
           0,
           0,
           0,
           0,
           0
          ],
          "coloraxis": "coloraxis",
          "symbol": "circle"
         },
         "mode": "markers",
         "name": "0",
         "scene": "scene",
         "showlegend": true,
         "type": "scatter3d",
         "x": [
          -0.5657477435216917,
          -0.5659843096628753,
          -0.4141707592129473,
          -0.1894570480833094,
          -0.35069954392131086,
          -0.08185731583158955,
          -0.5525474080086407,
          -0.5657516768116571,
          -0.5658957678112507,
          -0.5657764114378149,
          -0.5657477447446538,
          -0.5657479682045732,
          -0.693718952216029,
          -0.38727696933756806,
          -0.13583259888164512,
          -0.4136171401346794,
          -0.5657664536822621,
          -0.14571516764817224,
          -0.4141727671845432,
          -0.8129332988367703,
          -0.3018633533037279,
          -0.3510335435705021,
          -0.29690634433530627,
          -0.5740595544309647,
          -0.5740476899325344,
          -0.2616169109609246,
          -0.565792319878379,
          -0.5657632699367207,
          -0.5725769110474599,
          -0.14533596284790523,
          -0.4141690378260958,
          0.07311631427907483,
          -0.25498213690072774,
          -0.41416919738367214,
          -0.5659759500208837,
          -0.565757708582121,
          -0.3999691823560676,
          -0.4141705612332911,
          0.07310997847774708,
          -0.5740518685057565,
          -0.5657648443257998,
          -1.0989346710682215,
          -0.045893487429597424,
          -0.350707558010292,
          -0.3872886673390806,
          -0.2969091889833023,
          -0.5740444218545118,
          -0.2969348536781709,
          -0.5657480854515112,
          -0.5740456386952705,
          -0.1453244294349412,
          -0.5657500993936757,
          -0.41416939019211196,
          -1.0056498024891463,
          -0.6524040423297706,
          -0.049153980383451236,
          -0.29692441421508825,
          -0.5740486583581894,
          -0.3506922827917465,
          -0.5525502337889057,
          -0.40467577038624397,
          -0.3507000985442451,
          -0.41626938869927355,
          -0.35070063830018594,
          -0.4545020221854548,
          -0.5657491100924155,
          -0.2969084449521431,
          -0.4141647903457682,
          -0.30379540876039657,
          -0.3506999506003759,
          -0.6855587235448595,
          -0.13583558736524987,
          -0.4141990795764468,
          -0.35069603477219324,
          -0.35069438619400534,
          -0.45217418397737597,
          -0.41417230378525377,
          -0.06302742976359742,
          -0.5659024082200197,
          -0.5657480276867154,
          -0.5657693014699026,
          -0.3051969619061292,
          -0.14546578609371877,
          -0.41417179452742653,
          -0.5657562354077954,
          -0.3506993997576311,
          -0.4141691386459057,
          -0.565747980136874,
          -0.5657481954168027,
          -0.2969423648695984,
          -0.4518212889118841,
          -0.6155502526056996,
          -0.13584723653758995,
          -0.5657555528068671,
          -0.41420463430159155,
          -0.1358652249344681,
          -0.3051998109234259,
          -0.5239048037896217,
          -0.1358301971116759,
          -0.6114587012344627,
          -0.4141727893725372,
          -0.5955060431796765,
          -0.4141698682678235,
          -0.13584205475243022,
          -0.5657510550010055,
          -0.5657475844405189,
          -0.13583558736524987,
          -0.41416940903419125,
          -0.35070217090555733,
          -0.5657518860876459,
          -0.008085154601990038,
          -0.5657498383336764,
          -0.565738981470207,
          -0.4141691404795995,
          -0.5657471933054765,
          -0.3042148348116401,
          -0.5657483266939685,
          -0.5657484583290108,
          -0.1496019969266671,
          -0.3238651809481365,
          -0.5657446393084795,
          -0.3506998495094179,
          -0.414170193359562,
          -0.5657501499460093,
          -0.5657474342332531,
          -0.2969025815186485,
          -0.5410223795326866,
          -0.3052024032090381,
          -0.565963323085313,
          -0.2969106561945492,
          -0.4141703664744802,
          -0.5583844224571831,
          -0.4141928981734107,
          -0.13585524908511265,
          -0.4141723136343125,
          -0.13591783872337856,
          -0.4141886929524902,
          -0.5657486256848299,
          -0.5657475141210762,
          -0.5657304859407447,
          -0.0805751074933383,
          -0.41417234274295656,
          -0.29693686103610495,
          -0.135833407946725,
          -0.5657508948389433,
          -0.5604555402671667,
          -0.08185367184349204,
          -0.06304058011581956,
          -0.5507182703410751,
          -0.4521571055662307,
          -0.4521688852666387,
          -0.5537337570903258,
          -0.5740485924601668,
          -0.566986090495941,
          -0.574048936513269,
          -0.12824785912230535,
          -0.5537431981043508,
          -0.41417180044471985,
          -0.29690690152972343,
          -0.13583113734749017,
          -0.5657514569978219,
          -0.5657486489468403,
          -0.18888518195533524,
          -0.1454132564159435,
          -0.4141702602728245,
          -0.2616518228640654,
          -0.565747735899271,
          -0.07842707174436438,
          -0.5766022018933972,
          -0.3507193320676527,
          -0.4522660439418444,
          -0.5234899500540581,
          -0.5657478794352165,
          -0.41844837419613706,
          0.08046171586020975,
          -0.5657512982945184,
          -0.08379495480227217,
          -0.41417543420726877,
          -0.45825077099219247,
          -0.5740832655680937,
          -0.5657699474511578,
          -0.18331402475041714,
          -0.14960340981001227,
          -0.5660231928517517,
          -0.5657470987355901,
          -0.41417869236361804,
          -0.1496040820576235,
          -0.5658697877582683,
          -0.5657482574455766,
          -0.14532481214476006,
          -0.06302335074482111,
          0.1702422559652999,
          -0.5033745201585628,
          -0.5657984210214174,
          -0.3052390216773802,
          -0.3468506116648041,
          -0.41416910822123965,
          -0.4018917777576078,
          -0.29690665850293985,
          -0.10437432202052126,
          -0.45215865079640605,
          -0.5657478883848798,
          -0.56574793202933,
          -0.29695643719515313,
          0.019020012017895212,
          -0.13583484308764224,
          -0.5657495239899825,
          -0.4184737726742794,
          -0.13583246587044984,
          -0.11129367730662283,
          -0.5659858580641692,
          -0.03687976415026418,
          -0.2969114214239912,
          -0.5679466551539534,
          -0.2969038692358123,
          -0.6113430226895382,
          -0.56575131573694,
          -0.28370814259353877,
          -0.1495891470162508,
          -0.08186646397210319,
          -0.3307052264633677,
          -0.38014548771910933,
          -0.14960109239804847,
          -0.4184459841118167,
          -0.2966098250563224,
          -0.34726897883350993,
          -0.149613457469278,
          -0.5657316282992942,
          -0.14532768364391316,
          -0.41417533711207843,
          -0.29692344298844353,
          -0.13582980001265235,
          -0.4758634939182378,
          -0.14532346228156698,
          -0.5656819307775509,
          -0.286614025845374,
          -0.13304854772217858,
          -0.11608059626626964,
          -0.1493332643706429,
          -0.41845198254188154,
          -0.5657508211412586,
          -0.4184486188071045,
          -0.1496000257888795,
          -0.5716291254458965,
          -0.14532397476116837,
          -0.5657510704806962,
          -0.40193037886562155,
          -0.6114589574757867,
          -0.4141653326683074,
          -0.41417405504388116,
          -0.5687082420291234,
          -0.4142255460855483,
          -0.5657450926947962,
          -0.5657515942418259,
          -0.08185539698793874,
          -0.5657499871355512,
          -0.41426200070195995,
          -0.5657937811955052,
          -0.35487544875191673,
          -0.4142667986735669,
          -0.5657614601191872,
          -0.565834980880316,
          -0.41421233231644466,
          -0.5657691027561498,
          -0.13583200958039213,
          -0.09287473954122885,
          -0.3507151976899585,
          -0.2990585554724065,
          -0.565801236906811,
          -0.2616154418403256,
          -0.5740441899123783,
          -0.08207031822317544,
          -0.13583328830433947,
          -0.26781482409651786,
          -0.5657468782417324,
          -0.29690286877801014
         ],
         "y": [
          1.0171192885589313,
          1.0173211198941026,
          1.2966902169734904,
          1.3361988403805607,
          0.895201627139574,
          0.665360185936,
          1.9194634301329887,
          1.0171191283611063,
          1.0173932976180655,
          1.0171723560046355,
          1.0171190689632965,
          1.0171192607337716,
          0.397462711444975,
          1.0221180642937877,
          1.6212832007673754,
          0.14369872462778702,
          1.017100672370732,
          1.0675700289323768,
          1.296693933947061,
          1.8191395683955738,
          0.7964511281819171,
          0.8947561243590535,
          0.787267986104343,
          1.858277193119808,
          1.858255230644322,
          0.5758726698944873,
          1.0170154266431484,
          1.0171045415487514,
          1.0297608195498185,
          1.0668680796524233,
          1.296696792692563,
          0.13030809999493118,
          1.6276138293875997,
          1.296692650932508,
          1.0168317136436877,
          1.017093359364789,
          0.22181224541479508,
          1.2966971724693122,
          0.130364203873659,
          1.8582629656372922,
          1.0167071878018672,
          0.8196657815292192,
          1.5115026353376817,
          0.8951960493026786,
          1.022141662217643,
          0.7872804318324798,
          1.8582438560022143,
          0.7871060618598267,
          1.0171199215268132,
          1.8582469960190928,
          1.0668378549276656,
          1.0171147744281057,
          1.2966974454040936,
          1.6829495961415746,
          1.9646834853449147,
          0.7376304055411234,
          0.7872642397683138,
          1.858234835494321,
          0.8947541924149802,
          1.9196123057357584,
          0.8909185320487929,
          0.8952026538068764,
          1.2888030430828525,
          0.8952087561503099,
          1.5737874602548119,
          1.01710318048712,
          0.7871809610691718,
          1.2965185281996225,
          0.7560957067573073,
          0.8951943923347092,
          0.3991545313377105,
          1.6212798576507441,
          1.2967191219631462,
          0.8951060583557137,
          0.8949688702464383,
          1.5694384407885438,
          1.2966411566666793,
          1.523131010760202,
          1.016518077292387,
          1.017100141405547,
          1.017114819059459,
          1.6283050882060848,
          1.0668168487459349,
          1.2966797082788626,
          1.0170950699212942,
          0.8952018040331633,
          1.2966956484960739,
          1.0171104076973194,
          1.0171201250845132,
          0.787341844002054,
          0.12965898590379488,
          1.9887244479891093,
          1.6212774586982655,
          1.0171337444127884,
          1.2960970517466963,
          1.6213258449318495,
          1.6283980038453905,
          1.9056585272126334,
          1.6211451842074744,
          1.9866948321537068,
          1.2966904249696733,
          1.8975997808300786,
          1.2966966204364394,
          1.6212785168003394,
          1.0171083161207328,
          1.0171003563397223,
          1.6212798576507441,
          1.2966708549095187,
          0.8952073774852384,
          1.0171123129618573,
          0.738788523241544,
          1.0171107411279123,
          1.0168143347192171,
          1.2966947643779965,
          1.0170543691716398,
          0.7863752792284888,
          1.017114599261925,
          1.017119140361573,
          1.4685110987778658,
          0.6837996345396375,
          1.01689166423077,
          0.8952026365725793,
          1.2966947812585958,
          1.0171148680059667,
          1.0171089829980882,
          0.7872437941054067,
          0.23680481508976253,
          1.6283974664000336,
          1.0170745935473338,
          0.7872678708604853,
          1.2966548769866313,
          1.9450539724962557,
          1.2966921480468492,
          1.621276186867564,
          1.2966584813910091,
          1.6212634864856605,
          1.2965112987995753,
          1.017111508546701,
          1.0171061725041672,
          1.0166435866986299,
          0.6297105093245996,
          1.2966851606475822,
          0.7864441433646662,
          1.621271385748075,
          1.0170785276048517,
          1.8943194967499577,
          0.6652701988622998,
          1.5231258437019928,
          1.9072954142432224,
          1.5694423272919593,
          1.5694153196126923,
          2.042255206143424,
          1.85824358863436,
          0.997223792261753,
          1.8582491520123443,
          1.4643950433356183,
          2.0422726824860016,
          1.2966976881328487,
          0.7872684735348935,
          1.6212531599411484,
          1.017104750500083,
          1.0171191008417502,
          1.3366974752024352,
          1.5977917403221993,
          1.2966870746000236,
          0.575761466092051,
          1.0171122927032337,
          0.7118341691657992,
          1.0261181646443545,
          0.8952036441628208,
          1.5691159141556752,
          1.8578344618360072,
          1.017110221287612,
          1.6982823413469643,
          1.4598029747411694,
          1.0171193064587636,
          0.6649587071210343,
          1.2966447326367914,
          1.5674141148836143,
          1.858227896203891,
          1.0170672016565352,
          1.339587230276726,
          1.4685114953973157,
          0.9954413641186165,
          1.0170515315751751,
          1.296692476922995,
          1.4684683641784892,
          1.01694582511801,
          1.0171184648816247,
          1.0668381196088939,
          1.5231272319812112,
          -0.08552468560437967,
          0.21501761033274416,
          1.0171101466914132,
          1.6281166916786993,
          1.000702969857224,
          1.2966858295398316,
          1.2939393113378936,
          0.7872207218669233,
          1.5097637352868594,
          1.5694274374320056,
          1.0171182254664044,
          1.0171174187445795,
          0.7871460152944719,
          1.4758760972409066,
          1.6212483044889512,
          1.017109271731142,
          1.6983293566891522,
          1.6212474540514559,
          0.7139516912856361,
          1.0152871667412606,
          0.7348958647051566,
          0.7872730266609467,
          1.016663399423385,
          0.7872510591282074,
          1.9897671571793596,
          1.0170886256134264,
          1.6897386340955547,
          1.4682055269968735,
          0.665338175113382,
          1.6298990701412448,
          0.943798424572341,
          1.4685067618597987,
          1.6983643824973123,
          0.7792356716577303,
          0.9416665847942203,
          1.46849459420839,
          1.016645701328405,
          1.0668283473542268,
          1.2966862659878995,
          0.7871914409267907,
          1.6211848309502295,
          1.0246890894280396,
          1.066800564123956,
          1.009009850045469,
          1.1134757596902392,
          1.0640962373020801,
          0.5053443004331482,
          1.07426751901519,
          1.698353809195316,
          1.0171156667050667,
          1.6983630980498114,
          1.4685081733103291,
          0.9948134000454136,
          1.0668371464039852,
          1.017088171617476,
          1.2938155134446212,
          1.9878073595761734,
          1.2965035568735714,
          1.2966927678648263,
          1.0070680251620996,
          1.2968013960633027,
          1.017025630364649,
          1.0171023401884811,
          0.6653528620200652,
          1.01712344175056,
          1.2966469994075815,
          1.0125450689837208,
          0.9028571295823861,
          1.2964340028633297,
          1.0171380231463014,
          1.0171032719166204,
          1.2966846346470793,
          1.0170878258454055,
          1.6212781161007415,
          0.9263297195372818,
          0.8951937721994645,
          0.7868176596123684,
          1.0170851837780932,
          0.5758449233649177,
          1.8582486984760438,
          0.6653162672331283,
          1.6212806455103326,
          1.9982131403560075,
          1.0170067477949072,
          0.7872682886896704
         ],
         "z": [
          -0.33011777711416374,
          -0.31347393845566385,
          -0.40741637666223424,
          -0.2481626599985042,
          -0.31807724966936174,
          -0.27164401674708527,
          -0.25872453110123217,
          -0.329777751231129,
          -0.3223626684471599,
          -0.32861584276661254,
          -0.33011371906114423,
          -0.3300980175036813,
          0.7044467853517538,
          -0.3748376570770579,
          -0.3466599041218464,
          -0.24324597693599925,
          -0.32817890146433126,
          -0.3408268098857544,
          -0.4073111774501216,
          -0.3857893114204278,
          -0.023863625355678535,
          -0.28142839439554196,
          -0.28343596953580313,
          -0.2886177017900504,
          -0.2892392921983506,
          -0.35523320989280416,
          -0.32442716121972603,
          -0.3285214503226984,
          0.027667682732101725,
          -0.36069364774770574,
          -0.40768230340930534,
          -0.2557542358041716,
          -0.30577442467687044,
          -0.4075940657217222,
          -0.3053800467144579,
          -0.32879683680025595,
          -0.25504296156294815,
          -0.407558561415198,
          -0.2562211614797387,
          -0.28902037345935605,
          -0.3212332199422863,
          0.08526590702391333,
          -0.34297693383113254,
          -0.3172899081272597,
          -0.3742597797855082,
          -0.28341619226969705,
          -0.28931464578234095,
          -0.27807728224920125,
          -0.3300998634772544,
          -0.28926687180338506,
          -0.36113811966942727,
          -0.32983457880411016,
          -0.40766385066509514,
          -0.33558436125027025,
          -0.41863704973699667,
          -0.3742761964809383,
          -0.2818196671040895,
          -0.2887891239700663,
          -0.31064478296062237,
          -0.2611624227045694,
          -0.07408730914960983,
          -0.31804819253743244,
          -0.08554507235715147,
          -0.3181117835776166,
          -0.24470800799352238,
          -0.32971065915124176,
          -0.2816892643135662,
          -0.4048372051914745,
          0.8682329397600577,
          -0.31791214804051227,
          -0.025463873985012674,
          -0.346343562455792,
          -0.40550925298949275,
          -0.3166575784090591,
          -0.3143291847002953,
          -0.3659463064029774,
          -0.4064007852513623,
          -0.3648943536230338,
          -0.306037506358082,
          -0.32974872709671094,
          -0.32818947628755146,
          -0.24157775904946693,
          -0.3486435739172788,
          -0.40713845399990894,
          -0.32895390389158013,
          -0.3180927911509072,
          -0.4076530634700019,
          -0.32993761970256763,
          -0.3300941023091298,
          -0.2816780814823203,
          -0.21349998457148073,
          0.02580540175162274,
          -0.34530186697287746,
          -0.3297086428544946,
          -0.39383443465124834,
          -0.3446310550406106,
          -0.24300625080351224,
          -0.4251158060291074,
          -0.34438115623009186,
          -0.28836417376712636,
          -0.4072461059402602,
          0.8417710568355489,
          -0.4076080210892381,
          -0.34576507196484235,
          -0.3296364045297576,
          -0.32979058925453464,
          -0.346343562455792,
          -0.40718354553827785,
          -0.31795559716350835,
          -0.32963712027313663,
          -0.41188640778899954,
          -0.32978434687949804,
          -0.32537894565678327,
          -0.40763699013547927,
          -0.3289962405688887,
          0.3590820767624319,
          -0.3299833723670861,
          -0.3300538395105009,
          -0.36605485275759636,
          -0.3576313001945428,
          -0.3262860931601124,
          -0.3180692283009074,
          -0.4075470464180515,
          -0.32983193032757796,
          -0.3299587639680656,
          -0.28332298773113207,
          -0.27102880878512825,
          -0.2427743777866787,
          -0.31083476155905954,
          -0.2830643038617586,
          -0.40681383917120384,
          -0.41553469461493203,
          -0.40555349940600266,
          -0.3445921755750533,
          -0.4067118259354771,
          -0.33899866857301525,
          -0.40265824739840034,
          -0.32990210438040785,
          -0.32990132102666186,
          -0.32303328277010035,
          0.26022769092480486,
          -0.40718961888617633,
          -0.2659891658010373,
          -0.34637785757797057,
          -0.32911387100208844,
          0.8717696820764248,
          -0.27033638683457684,
          -0.36367415223333105,
          0.5644786371769845,
          -0.3674801484349138,
          -0.3659842510400337,
          -0.4262536109197901,
          -0.28895234907780676,
          0.13419184113741547,
          -0.2890230121689553,
          -0.3500104318808323,
          -0.42575898876642054,
          -0.40746162553633475,
          -0.28339698448708894,
          -0.3462443755376656,
          -0.3295377579972986,
          -0.3300367892553177,
          -0.30615673972977486,
          0.6471940245982161,
          -0.40740257336299934,
          -0.350238811793336,
          -0.3299924889721608,
          -0.31494990703104153,
          0.43827166054535194,
          -0.31641741974418125,
          -0.352266308038759,
          -0.38769834901319156,
          -0.32994289554163325,
          -0.41086870180982027,
          -0.3616980983801577,
          -0.3298134019956254,
          -0.09833174804103575,
          -0.4061968368142134,
          0.19135087941160575,
          -0.2856978437447164,
          -0.32727688319962667,
          -0.3208741709032752,
          -0.3659408875227946,
          0.0837448759056877,
          -0.32895326336210756,
          -0.4067770709343057,
          -0.3651068046490535,
          -0.3165340142333284,
          -0.3300588980411548,
          -0.361110080567962,
          -0.3651759600061484,
          -0.27513163000410507,
          -0.25223729657698707,
          -0.3256093805250557,
          -0.23458103478443643,
          -0.37298485048326063,
          -0.4074789075178673,
          -0.3048228951416367,
          -0.2825581756443739,
          -0.33231628292462906,
          -0.3670796472931868,
          -0.3300862220543741,
          -0.33006795822142626,
          -0.27694650481158023,
          -0.35171157401374276,
          -0.34583932870647416,
          -0.3297848383271212,
          -0.40953805555524075,
          -0.3460277820490924,
          -0.3249552910588397,
          -0.27672538105659106,
          -0.2715688679822371,
          -0.28309152848938385,
          -0.13343101100113985,
          -0.28334339817786536,
          -0.35358847919463227,
          -0.3292595811162593,
          -0.21413723387203504,
          -0.3616552877682465,
          -0.2704636384270045,
          1.0321959719101725,
          -0.3706624448470436,
          -0.3660543099261024,
          -0.4125504973446738,
          -0.16425198019475312,
          -0.36124817340050047,
          -0.3647753921139483,
          -0.3229734337068076,
          -0.3606880269484712,
          -0.40695285520251984,
          -0.28059236916432334,
          -0.34512892615654217,
          -0.34876234940240736,
          -0.36054969896175815,
          -0.18977036626148974,
          -0.24728752147917382,
          -0.25844614925984155,
          0.5755022007063137,
          -0.1512718757087098,
          -0.4118459981440236,
          -0.32978877724742034,
          -0.41230154142527653,
          -0.36617114368893383,
          0.5755621920451259,
          -0.3611643369760222,
          -0.32927243028385217,
          -0.2992855542329588,
          -0.3083702631909231,
          -0.4045212017016398,
          -0.4071797964226666,
          0.10458722116466557,
          -0.40472179922190255,
          -0.3286589297715193,
          -0.3294826029732111,
          -0.2716766430959115,
          -0.3300002327540621,
          -0.39881759672173095,
          -0.2438251817883033,
          -0.09795621946646779,
          -0.39457191075181314,
          -0.32927932462004966,
          -0.3223518904190766,
          -0.4037524433341898,
          -0.3277205690819551,
          -0.3466188803818491,
          -0.4147085969838785,
          -0.3165940798800778,
          -0.09085227679592063,
          -0.3249186270347723,
          -0.3548596341989359,
          -0.2894217023723595,
          -0.2525958788389195,
          -0.3465548097493377,
          -0.3070260819937953,
          -0.32816595191638415,
          -0.28373932416506836
         ]
        },
        {
         "customdata": [
          [
           "X13"
          ],
          [
           "Scrypt"
          ],
          [
           "CryptoNight"
          ],
          [
           "DPoS"
          ],
          [
           "Scrypt"
          ],
          [
           "DPoS"
          ],
          [
           "CryptoNight"
          ],
          [
           "Semux BFT consensus"
          ],
          [
           "Scrypt"
          ],
          [
           "CryptoNight Heavy"
          ],
          [
           "DPoS"
          ],
          [
           "DPoS"
          ],
          [
           "DPoS"
          ],
          [
           "DPoS"
          ],
          [
           "SHA-256"
          ]
         ],
         "hovertemplate": "<b>%{hovertext}</b><br><br>Class=%{marker.color}<br>PC3=%{x}<br>PC2=%{y}<br>PC1=%{z}<br>Algorithm=%{customdata[0]}<extra></extra>",
         "hovertext": [
          "EliteCoin",
          "MoonCoin",
          "ByteCoin",
          "ARK",
          "gCn Coin",
          "Lamden Tau",
          "TurtleCoin",
          "Semux",
          "Lynx",
          "Qwertycoin",
          "ALAX",
          "Lisk",
          "EOS",
          "Oxycoin",
          "ZEPHYR"
         ],
         "legendgroup": "4",
         "marker": {
          "color": [
           4,
           4,
           4,
           4,
           4,
           4,
           4,
           4,
           4,
           4,
           4,
           4,
           4,
           4,
           4
          ],
          "coloraxis": "coloraxis",
          "symbol": "diamond"
         },
         "mode": "markers",
         "name": "4",
         "scene": "scene",
         "showlegend": true,
         "type": "scatter3d",
         "x": [
          -0.5754066888240863,
          -0.043843388288442774,
          0.380971688658327,
          -0.5161423527634954,
          -0.0850244886758842,
          -0.5161777431689069,
          0.4256407083556709,
          -0.4249274207105101,
          -0.4949686446410852,
          0.42473306862848315,
          -0.5163348980249519,
          -0.5161444972848271,
          -0.5163570579947022,
          -0.5163807814697575,
          -0.2677039142057217
         ],
         "y": [
          1.7213607565738431,
          -1.3352549555281255,
          -2.304933277077435,
          1.7765663895228159,
          -1.177373120210544,
          1.776465492424655,
          -2.7495181324157065,
          1.7279528485086395,
          0.16931594681937817,
          -2.2964255471538824,
          1.776534525024687,
          1.776554864007513,
          1.7770193017578708,
          1.7770632164873812,
          0.8119509627321814
         ],
         "z": [
          2.291662779787416,
          2.5577192015588865,
          3.8485336119724516,
          3.750870502270688,
          3.2453209959834384,
          3.7557203708036404,
          8.023278776182705,
          3.9606460114046205,
          2.2590373091998353,
          3.097667961110157,
          3.7679481538308033,
          3.7512618057105724,
          3.7611204991581646,
          3.7623633906830065,
          2.4835063554944825
         ]
        },
        {
         "customdata": [
          [
           "SHA-256"
          ],
          [
           "Ethash"
          ],
          [
           "Scrypt"
          ],
          [
           "CryptoNight-V7"
          ],
          [
           "Ethash"
          ],
          [
           "Equihash"
          ],
          [
           "Multiple"
          ],
          [
           "Scrypt"
          ],
          [
           "X11"
          ],
          [
           "Scrypt"
          ],
          [
           "Multiple"
          ],
          [
           "SHA-256"
          ],
          [
           "Scrypt"
          ],
          [
           "Scrypt"
          ],
          [
           "Quark"
          ],
          [
           "Groestl"
          ],
          [
           "Scrypt"
          ],
          [
           "Scrypt"
          ],
          [
           "Scrypt"
          ],
          [
           "X11"
          ],
          [
           "Multiple"
          ],
          [
           "SHA-256"
          ],
          [
           "Scrypt"
          ],
          [
           "Scrypt"
          ],
          [
           "Scrypt"
          ],
          [
           "Scrypt"
          ],
          [
           "Scrypt"
          ],
          [
           "NeoScrypt"
          ],
          [
           "Scrypt"
          ],
          [
           "Scrypt"
          ],
          [
           "Scrypt"
          ],
          [
           "Scrypt"
          ],
          [
           "SHA-256"
          ],
          [
           "Scrypt"
          ],
          [
           "Scrypt"
          ],
          [
           "Scrypt"
          ],
          [
           "Scrypt"
          ],
          [
           "HybridScryptHash256"
          ],
          [
           "Scrypt"
          ],
          [
           "Scrypt"
          ],
          [
           "SHA-256"
          ],
          [
           "Scrypt"
          ],
          [
           "Scrypt"
          ],
          [
           "Scrypt"
          ],
          [
           "Scrypt"
          ],
          [
           "SHA-256"
          ],
          [
           "SHA-256"
          ],
          [
           "SHA-256"
          ],
          [
           "SHA-256"
          ],
          [
           "SHA-256"
          ],
          [
           "X11"
          ],
          [
           "Scrypt"
          ],
          [
           "Lyra2REv2"
          ],
          [
           "Scrypt"
          ],
          [
           "SHA-256"
          ],
          [
           "CryptoNight"
          ],
          [
           "Scrypt"
          ],
          [
           "Scrypt"
          ],
          [
           "Scrypt"
          ],
          [
           "Scrypt"
          ],
          [
           "Scrypt"
          ],
          [
           "Scrypt"
          ],
          [
           "Stanford Folding"
          ],
          [
           "Multiple"
          ],
          [
           "QuBit"
          ],
          [
           "Scrypt"
          ],
          [
           "Scrypt"
          ],
          [
           "M7 POW"
          ],
          [
           "Scrypt"
          ],
          [
           "SHA-256"
          ],
          [
           "Scrypt"
          ],
          [
           "X11"
          ],
          [
           "Lyra2RE"
          ],
          [
           "SHA-256"
          ],
          [
           "X11"
          ],
          [
           "Scrypt"
          ],
          [
           "Scrypt"
          ],
          [
           "Ethash"
          ],
          [
           "Blake2b"
          ],
          [
           "X11"
          ],
          [
           "SHA-256"
          ],
          [
           "Scrypt"
          ],
          [
           "1GB AES Pattern Search"
          ],
          [
           "Scrypt"
          ],
          [
           "SHA-256"
          ],
          [
           "X11"
          ],
          [
           "Dagger"
          ],
          [
           "Scrypt"
          ],
          [
           "X11GOST"
          ],
          [
           "Scrypt"
          ],
          [
           "X11"
          ],
          [
           "Scrypt"
          ],
          [
           "X11"
          ],
          [
           "Equihash"
          ],
          [
           "CryptoNight"
          ],
          [
           "SHA-256"
          ],
          [
           "Multiple"
          ],
          [
           "Scrypt"
          ],
          [
           "SHA-256"
          ],
          [
           "Scrypt"
          ],
          [
           "Lyra2Z"
          ],
          [
           "Ethash"
          ],
          [
           "Equihash"
          ],
          [
           "Scrypt"
          ],
          [
           "X11"
          ],
          [
           "X11"
          ],
          [
           "CryptoNight"
          ],
          [
           "Scrypt"
          ],
          [
           "CryptoNight"
          ],
          [
           "Lyra2RE"
          ],
          [
           "X11"
          ],
          [
           "CryptoNight-V7"
          ],
          [
           "Scrypt"
          ],
          [
           "X11"
          ],
          [
           "Equihash"
          ],
          [
           "Scrypt"
          ],
          [
           "Lyra2RE"
          ],
          [
           "Dagger-Hashimoto"
          ],
          [
           "Scrypt"
          ],
          [
           "NIST5"
          ],
          [
           "Scrypt"
          ],
          [
           "SHA-256"
          ],
          [
           "Scrypt"
          ],
          [
           "CryptoNight-V7"
          ],
          [
           "Argon2d"
          ],
          [
           "Blake2b"
          ],
          [
           "Cloverhash"
          ],
          [
           "CryptoNight"
          ],
          [
           "X11"
          ],
          [
           "Scrypt"
          ],
          [
           "Scrypt"
          ],
          [
           "X11"
          ],
          [
           "X11"
          ],
          [
           "CryptoNight"
          ],
          [
           "Time Travel"
          ],
          [
           "Keccak"
          ],
          [
           "X11"
          ],
          [
           "SHA-256"
          ],
          [
           "Scrypt"
          ],
          [
           "Scrypt"
          ],
          [
           "Scrypt"
          ],
          [
           "Scrypt"
          ],
          [
           "Scrypt"
          ],
          [
           "Scrypt"
          ],
          [
           "CryptoNight"
          ],
          [
           "Equihash"
          ],
          [
           "X11"
          ],
          [
           "NeoScrypt"
          ],
          [
           "Equihash"
          ],
          [
           "Dagger"
          ],
          [
           "Scrypt"
          ],
          [
           "X11"
          ],
          [
           "NeoScrypt"
          ],
          [
           "Ethash"
          ],
          [
           "NeoScrypt"
          ],
          [
           "Multiple"
          ],
          [
           "CryptoNight"
          ],
          [
           "CryptoNight"
          ],
          [
           "Ethash"
          ],
          [
           "X11"
          ],
          [
           "CryptoNight-V7"
          ],
          [
           "Scrypt"
          ],
          [
           "BLAKE256"
          ],
          [
           "X11"
          ],
          [
           "NeoScrypt"
          ],
          [
           "NeoScrypt"
          ],
          [
           "Scrypt"
          ],
          [
           "X11"
          ],
          [
           "SHA-256"
          ],
          [
           "C11"
          ],
          [
           "SkunkHash"
          ],
          [
           "CryptoNight"
          ],
          [
           "Scrypt"
          ],
          [
           "Dagger"
          ],
          [
           "Lyra2REv2"
          ],
          [
           "Scrypt"
          ],
          [
           "Scrypt"
          ],
          [
           "X11"
          ],
          [
           "Ethash"
          ],
          [
           "CryptoNight"
          ],
          [
           "Scrypt"
          ],
          [
           "IMesh"
          ],
          [
           "Equihash"
          ],
          [
           "Lyra2Z"
          ],
          [
           "X11"
          ],
          [
           "CryptoNight"
          ],
          [
           "NIST5"
          ],
          [
           "Lyra2RE"
          ],
          [
           "Tribus"
          ],
          [
           "Lyra2Z"
          ],
          [
           "CryptoNight"
          ],
          [
           "CryptoNight Heavy"
          ],
          [
           "CryptoNight"
          ],
          [
           "Jump Consistent Hash"
          ],
          [
           "CryptoNight"
          ],
          [
           "X16R"
          ],
          [
           "HMQ1725"
          ],
          [
           "X11"
          ],
          [
           "Scrypt"
          ],
          [
           "CryptoNight-V7"
          ],
          [
           "Cryptonight-GPU"
          ],
          [
           "XEVAN"
          ],
          [
           "SHA-256"
          ],
          [
           "X11"
          ],
          [
           "X16R"
          ],
          [
           "Equihash"
          ],
          [
           "Lyra2Z"
          ],
          [
           "SHA-256"
          ],
          [
           "CryptoNight"
          ],
          [
           "Blake"
          ],
          [
           "Blake"
          ],
          [
           "Equihash"
          ],
          [
           "Exosis"
          ],
          [
           "Scrypt"
          ],
          [
           "Equihash"
          ],
          [
           "Equihash"
          ],
          [
           "QuBit"
          ],
          [
           "SHA-256"
          ],
          [
           "X13"
          ],
          [
           "SHA-256"
          ],
          [
           "Scrypt"
          ],
          [
           "NeoScrypt"
          ],
          [
           "Blake"
          ],
          [
           "Scrypt"
          ],
          [
           "SHA-256"
          ],
          [
           "Scrypt"
          ],
          [
           "Groestl"
          ],
          [
           "Scrypt"
          ],
          [
           "Scrypt"
          ],
          [
           "Multiple"
          ],
          [
           "Equihash+Scrypt"
          ],
          [
           "Ethash"
          ],
          [
           "CryptoNight"
          ],
          [
           "Equihash"
          ]
         ],
         "hovertemplate": "<b>%{hovertext}</b><br><br>Class=%{marker.color}<br>PC3=%{x}<br>PC2=%{y}<br>PC1=%{z}<br>Algorithm=%{customdata[0]}<extra></extra>",
         "hovertext": [
          "Bitcoin",
          "Ethereum",
          "Litecoin",
          "Monero",
          "Ethereum Classic",
          "ZCash",
          "DigiByte",
          "ProsperCoin",
          "Spreadcoin",
          "Argentum",
          "MyriadCoin",
          "ZetaCoin",
          "SexCoin",
          "Quatloo",
          "QuarkCoin",
          "Riecoin",
          "Digitalcoin ",
          "Catcoin",
          "CannaCoin",
          "CryptCoin",
          "Verge",
          "DevCoin",
          "EarthCoin",
          "E-Gulden",
          "Einsteinium",
          "Emerald",
          "Franko",
          "FeatherCoin",
          "GrandCoin",
          "GlobalCoin",
          "GoldCoin",
          "Infinite Coin",
          "IXcoin",
          "KrugerCoin",
          "LuckyCoin",
          "Litebar ",
          "MegaCoin",
          "MediterraneanCoin",
          "MinCoin",
          "NobleCoin",
          "Namecoin",
          "NyanCoin",
          "RonPaulCoin",
          "StableCoin",
          "SmartCoin",
          "SysCoin",
          "TigerCoin",
          "TerraCoin",
          "UnbreakableCoin",
          "Unobtanium",
          "UroCoin",
          "ViaCoin",
          "Vertcoin",
          "WorldCoin",
          "JouleCoin",
          "DigitalNote ",
          "MonaCoin",
          "Gulden",
          "PesetaCoin",
          "Wild Beast Coin",
          "Flo",
          "ArtByte",
          "Folding Coin",
          "Unitus",
          "CypherPunkCoin",
          "OmniCron",
          "GreenCoin",
          "Cryptonite",
          "MasterCoin",
          "SoonCoin",
          "1Credit",
          "MarsCoin ",
          "Crypto",
          "Anarchists Prime",
          "BowsCoin",
          "Song Coin",
          "BitZeny",
          "Expanse",
          "Siacoin",
          "MindCoin",
          "I0coin",
          "Revolution VR",
          "HOdlcoin",
          "Gamecredits",
          "CarpeDiemCoin",
          "Adzcoin",
          "SoilCoin",
          "YoCoin",
          "SibCoin",
          "Francs",
          "BolivarCoin",
          "Omni",
          "PizzaCoin",
          "Komodo",
          "Karbo",
          "ZayedCoin",
          "Circuits of Value",
          "DopeCoin",
          "DollarCoin",
          "Shilling",
          "ZCoin",
          "Elementrem",
          "ZClassic",
          "KiloCoin",
          "ArtexCoin",
          "Kurrent",
          "Cannabis Industry Coin",
          "OsmiumCoin",
          "Bikercoins",
          "HexxCoin",
          "PacCoin",
          "Citadel",
          "BeaverCoin",
          "VaultCoin",
          "Zero",
          "Canada eCoin",
          "Zoin",
          "DubaiCoin",
          "EB3coin",
          "Coinonat",
          "BenjiRolls",
          "ILCoin",
          "EquiTrader",
          "Quantum Resistant Ledger",
          "Dynamic",
          "Nano",
          "ChanCoin",
          "Dinastycoin",
          "DigitalPrice",
          "Unify",
          "SocialCoin",
          "ArcticCoin",
          "DAS",
          "LeviarCoin",
          "Bitcore",
          "SmartCash",
          "Onix",
          "Bitcoin Cash",
          "Sojourn Coin",
          "NewYorkCoin",
          "FrazCoin",
          "Kronecoin",
          "AdCoin",
          "Linx",
          "Sumokoin",
          "BitcoinZ",
          "Elements",
          "VIVO Coin",
          "Bitcoin Gold",
          "Pirl",
          "eBoost",
          "Pura",
          "Innova",
          "Ellaism",
          "GoByte",
          "SHIELD",
          "UltraNote",
          "BitCoal",
          "DaxxCoin",
          "AC3",
          "Lethean",
          "PopularCoin",
          "Photon",
          "Sucre",
          "SparksPay",
          "GunCoin",
          "IrishCoin",
          "Pioneer Coin",
          "UnitedBitcoin",
          "Interzone",
          "MUNcoin",
          "Niobio Cash",
          "ShareChain",
          "Travelflex",
          "KREDS",
          "BitFlip",
          "LottoCoin",
          "Crypto Improvement Fund",
          "Callisto Network",
          "BitTube",
          "Poseidon",
          "Aidos Kuneen",
          "Bitrolium",
          "Alpenschillling",
          "FuturoCoin",
          "Monero Classic",
          "Jumpcoin",
          "Infinex",
          "KEYCO",
          "GINcoin",
          "PlatinCoin",
          "Loki",
          "Newton Coin",
          "MassGrid",
          "PluraCoin",
          "Motion",
          "PlusOneCoin",
          "Axe",
          "HexCoin",
          "Webchain",
          "Ryo",
          "Urals Coin",
          "Project Pai",
          "Azart",
          "Xchange",
          "CrypticCoin",
          "Actinium",
          "Bitcoin SV",
          "FREDEnergy",
          "Universal Molecule",
          "Lithium",
          "PirateCash",
          "Exosis",
          "Block-Logic",
          "Beam",
          "Bithereum",
          "SLICE",
          "BLAST",
          "Bitcoin Rhodium",
          "GlobalToken",
          "SolarCoin",
          "UFO Coin",
          "BlakeCoin",
          "Crypto Escudo",
          "Crown Coin",
          "SmileyCoin",
          "Groestlcoin",
          "Bata",
          "Pakcoin",
          "JoinCoin",
          "Vollar",
          "Reality Clash",
          "Beldex",
          "Horizen"
         ],
         "legendgroup": "1",
         "marker": {
          "color": [
           1,
           1,
           1,
           1,
           1,
           1,
           1,
           1,
           1,
           1,
           1,
           1,
           1,
           1,
           1,
           1,
           1,
           1,
           1,
           1,
           1,
           1,
           1,
           1,
           1,
           1,
           1,
           1,
           1,
           1,
           1,
           1,
           1,
           1,
           1,
           1,
           1,
           1,
           1,
           1,
           1,
           1,
           1,
           1,
           1,
           1,
           1,
           1,
           1,
           1,
           1,
           1,
           1,
           1,
           1,
           1,
           1,
           1,
           1,
           1,
           1,
           1,
           1,
           1,
           1,
           1,
           1,
           1,
           1,
           1,
           1,
           1,
           1,
           1,
           1,
           1,
           1,
           1,
           1,
           1,
           1,
           1,
           1,
           1,
           1,
           1,
           1,
           1,
           1,
           1,
           1,
           1,
           1,
           1,
           1,
           1,
           1,
           1,
           1,
           1,
           1,
           1,
           1,
           1,
           1,
           1,
           1,
           1,
           1,
           1,
           1,
           1,
           1,
           1,
           1,
           1,
           1,
           1,
           1,
           1,
           1,
           1,
           1,
           1,
           1,
           1,
           1,
           1,
           1,
           1,
           1,
           1,
           1,
           1,
           1,
           1,
           1,
           1,
           1,
           1,
           1,
           1,
           1,
           1,
           1,
           1,
           1,
           1,
           1,
           1,
           1,
           1,
           1,
           1,
           1,
           1,
           1,
           1,
           1,
           1,
           1,
           1,
           1,
           1,
           1,
           1,
           1,
           1,
           1,
           1,
           1,
           1,
           1,
           1,
           1,
           1,
           1,
           1,
           1,
           1,
           1,
           1,
           1,
           1,
           1,
           1,
           1,
           1,
           1,
           1,
           1,
           1,
           1,
           1,
           1,
           1,
           1,
           1,
           1,
           1,
           1,
           1,
           1,
           1,
           1,
           1,
           1,
           1,
           1,
           1,
           1,
           1,
           1,
           1,
           1,
           1,
           1,
           1,
           1,
           1,
           1,
           1,
           1,
           1,
           1,
           1,
           1,
           1,
           1,
           1,
           1,
           1,
           1,
           1
          ],
          "coloraxis": "coloraxis",
          "symbol": "square"
         },
         "mode": "markers",
         "name": "1",
         "scene": "scene",
         "showlegend": true,
         "type": "scatter3d",
         "x": [
          0.1645292832928991,
          0.41660535263924103,
          -0.05052824876903346,
          0.42227740994541524,
          0.41660767906577223,
          0.41463751364460016,
          0.31722884209617247,
          -0.050516001862786715,
          0.10106143308430725,
          -0.050516754414239716,
          0.31916257028465483,
          0.16449639494606436,
          -0.050540716718452776,
          -0.05051499958917794,
          0.09673185251307262,
          0.127946361797763,
          -0.05052197679592058,
          -0.050516340029129914,
          -0.05051589045987403,
          0.10106283164108948,
          0.31609789264860055,
          0.16052451156905465,
          -0.05320148230794231,
          -0.05051952928584584,
          -0.05056080136124818,
          -0.05051900884652347,
          -0.050515093961136,
          0.2535737217961439,
          -0.05069630153581788,
          -0.05052910548375617,
          -0.0505234723017088,
          -0.07004554290406811,
          0.16452854665301803,
          -0.05054569181367061,
          -0.050519177624164247,
          -0.050515256775127505,
          -0.05052318090562171,
          0.4420031582028132,
          -0.050516201339166636,
          -0.05080559595294294,
          0.1645300265954938,
          -0.0505871396404129,
          -0.050514915331553084,
          -0.05051632047120559,
          -0.05052009557156272,
          0.16441729150611262,
          0.16452376937121535,
          0.16452848146470656,
          0.1645339538588206,
          0.16453305217859993,
          0.10106340172700883,
          -0.05052001645015425,
          0.16795547376990247,
          -0.05053827440524836,
          0.16452474568098172,
          0.4192106025990669,
          -0.05052908280557633,
          -0.05058251787251697,
          -0.050544167406237905,
          -0.05051501968885214,
          -0.050547715124122664,
          -0.05068227334287019,
          0.45998222656412185,
          0.31950593874909844,
          0.19137172875642508,
          -0.05051732655540664,
          -0.0514152780301835,
          0.3769718319302408,
          -0.05051515651590828,
          0.16453055628077906,
          -0.04891663103815675,
          0.10105675018531146,
          0.33489347227044775,
          0.16453059325343009,
          0.10106035229087372,
          -0.05051895645367321,
          -0.05052829412853419,
          0.41662828688842457,
          0.416729069339804,
          0.10106026452201146,
          0.1645285680549644,
          -0.05056029467936806,
          0.30019104647290223,
          -0.05052983212141287,
          0.1598444254906144,
          0.101054633780999,
          0.3645449323853994,
          -0.05051224629167897,
          0.24905143084106607,
          -0.05051620618157075,
          0.10106093655749826,
          -0.05051515586270235,
          0.10106379633470781,
          0.5995156916120256,
          0.42064412818372504,
          0.16453180926681615,
          0.31930900236566145,
          -0.05053876767836908,
          0.1645311580265197,
          -0.0505170920055514,
          0.3985611412405735,
          0.41662478868997793,
          0.4146379258574929,
          -0.050387010805310314,
          0.10088041621457941,
          0.10105334910193557,
          0.42064591369987187,
          -0.05051518407756283,
          0.42064403129095135,
          0.33489526735336644,
          0.10267599592558593,
          0.42228207587053646,
          -0.050515690302934846,
          0.1010739786013658,
          0.4146375516337573,
          -0.050536544447773675,
          0.33489157522165697,
          0.434414546413923,
          -0.05046045818173157,
          0.06307489307185253,
          -0.050519129226669846,
          0.16426955570778115,
          -0.050516957307144436,
          0.42226715909898727,
          0.4993324879114615,
          0.4244143087870387,
          0.46297796954024867,
          0.4202590028809425,
          0.10105723462763774,
          -0.0505189122464863,
          -0.05051492376735409,
          0.10105865875407738,
          0.10106340033297374,
          0.4206434158626048,
          0.4016328995193563,
          0.03892877524913687,
          0.10105426328432286,
          0.16452926735546275,
          -0.0503327084901042,
          -0.08382894456681432,
          -0.05051693607985773,
          -0.05051762946314523,
          -0.05052089073846301,
          -0.05052113995106783,
          0.42064523691192246,
          0.41378967351752577,
          0.10046531624578237,
          0.25361599295874815,
          0.4146352262019823,
          0.36454053776738504,
          -0.05053657859718525,
          0.10102894672241358,
          0.25361579102917736,
          0.4166323311606252,
          0.25361568817440766,
          0.3194203531207315,
          0.4176308007217887,
          0.42064494559158155,
          0.41668283492938907,
          0.10105452874975468,
          0.422195991214736,
          -0.051351627762419035,
          0.10511316631141839,
          0.10106304181010947,
          0.2536150311074026,
          0.25355534234218363,
          -0.05052450647104411,
          0.10106210757225713,
          0.1645287472605544,
          0.16838201748597995,
          0.32204883069369117,
          0.4206204143342442,
          -0.0526708186958886,
          0.3645224750721527,
          0.16783507231864284,
          -0.05051722737122546,
          -0.0535709534917587,
          0.1010231474485184,
          0.4166856871678085,
          0.42064450303221884,
          -0.05051560628474304,
          0.5454230894776659,
          0.41462346236590825,
          0.3985613756401965,
          0.10105801211356706,
          0.4206423652032933,
          0.06307186964986773,
          0.33489479973272623,
          0.4106722648981196,
          0.39856108741485596,
          0.4206561815074991,
          0.4447174796812382,
          0.41422289368716564,
          0.3486884956890292,
          0.42053267670507355,
          0.1350928906256611,
          0.3452831819230383,
          0.10106288468468569,
          -0.05051496892798125,
          0.4223081921353769,
          0.3819289812911266,
          0.1133402113951791,
          0.1640803775355928,
          0.10106294885773272,
          0.13509386526370118,
          0.41378432690759726,
          0.39856081562686274,
          0.16452926807179527,
          0.4203512218267276,
          0.3672985359431212,
          0.36729382402474225,
          0.1682497204213048,
          0.38426744070295926,
          -0.0505211577859067,
          0.4146351210622481,
          0.4146335463471106,
          0.19137193786779877,
          0.16452202453871576,
          -0.058811674797421415,
          0.1645163025503378,
          -0.04882357287730955,
          0.2527950163072899,
          0.3674132545415019,
          -0.05067940182840853,
          0.16452846945988786,
          -0.05653801798167745,
          0.1279411940930926,
          -0.05051611311006114,
          -0.05052809413849053,
          0.31952037935956956,
          0.5426809412057473,
          0.41662515896835156,
          0.4204417578398242,
          0.4146375337994602
         ],
         "y": [
          -1.2744126564674318,
          -2.025249532478565,
          -1.1525154389081291,
          -2.2020774860729264,
          -2.025347027753398,
          -2.2284755798662554,
          -1.814525922484937,
          -1.1525101526200465,
          -0.872929852011554,
          -1.152527841083094,
          -1.8096740952160633,
          -1.2744178055325879,
          -1.152566022912129,
          -1.1525470646789036,
          -0.47126327774424465,
          -1.147521821100749,
          -1.1525111474512557,
          -1.152509526637409,
          -1.1525068709150368,
          -0.8729315533796452,
          -1.810459915791444,
          -1.2763089507289336,
          -1.1535204266949122,
          -1.1525036229767653,
          -1.1525509397694713,
          -1.1525094676849283,
          -1.152507500325899,
          -1.5938187845089178,
          -1.1527974838128954,
          -1.1525076404489998,
          -1.1525190646242733,
          -1.1565538453923137,
          -1.2744112928669806,
          -1.1525636565463604,
          -1.1525038301845185,
          -1.152502812048487,
          -1.1525061823125278,
          -2.212023306877159,
          -1.1525049020491571,
          -1.1586211069462937,
          -1.274414032401276,
          -1.1525186958317581,
          -1.1525121639073952,
          -1.1526111830160535,
          -1.1525159761582853,
          -1.2745900841482678,
          -1.2744139925720297,
          -1.2744204910769934,
          -1.274447483809418,
          -1.2744104251426847,
          -0.8729246210586196,
          -1.152503608695151,
          -1.2279540230101695,
          -1.1525773869751352,
          -1.2744149070041495,
          -2.2982966485054233,
          -1.1525232671472854,
          -1.1531232158321514,
          -1.1525225310814424,
          -1.1525038180413891,
          -1.1525131300430012,
          -1.1526368033888053,
          -2.0785317574042224,
          -1.8094221951016662,
          -1.4857950707807601,
          -1.1524998776412114,
          -1.1552737380797014,
          -2.1115544516199467,
          -1.1525026734655106,
          -1.2744150129062808,
          -1.1962870152919145,
          -0.872926952287673,
          -2.1903307628010444,
          -1.2744296188005024,
          -0.8729282951017184,
          -1.1525886597787676,
          -1.1525890184755878,
          -2.0252994885841145,
          -2.160856664019148,
          -0.8729259138509107,
          -1.274411332484308,
          -1.1525120317307624,
          -2.146114132119293,
          -1.1525125079508647,
          -1.2753279531636603,
          -0.87294566616069,
          -2.193275620431278,
          -1.1525824926463233,
          -2.0727795209941227,
          -1.1525093306475596,
          -0.8729311516675999,
          -1.1525026733300847,
          -0.8729364454258846,
          -2.2694478201017123,
          -2.296517135436507,
          -1.2744123338494702,
          -1.809590151928083,
          -1.1525474429859648,
          -1.2744115287332858,
          -1.1525121284533586,
          -2.1603848095419957,
          -2.0252971395908865,
          -2.228476342917096,
          -1.1571771724180644,
          -0.8728077731075256,
          -0.8730071889761293,
          -2.296525321939304,
          -1.1525035520299773,
          -2.2965236124207853,
          -2.1903093289338544,
          -0.9202853302875785,
          -2.2021682181082465,
          -1.1525029014914254,
          -0.8733879562239093,
          -2.228473875163421,
          -1.1525071828051314,
          -2.190307375715852,
          -2.215644741268911,
          -1.1543786760143435,
          -0.6001952452843736,
          -1.1525108070476038,
          -1.2750319441659879,
          -1.1525310155560606,
          -2.202105105045887,
          -2.1901490515341324,
          -2.17523387953437,
          -2.1695501670855872,
          -2.296687301544695,
          -0.8729575807099094,
          -1.1525040005029297,
          -1.1525361111277903,
          -0.8729424666737847,
          -0.8729330054707021,
          -2.2965353421264925,
          -2.0624511109975647,
          -1.1461738878973182,
          -0.8733958366524867,
          -1.2744126269654992,
          -1.157499570013528,
          -1.0908349578649674,
          -1.1525079795265385,
          -1.1525350963969456,
          -1.152536159521596,
          -1.1525356982019916,
          -2.2965541952477317,
          -2.236215697464535,
          -0.8726162610595707,
          -1.5937599123504478,
          -2.22847134556147,
          -2.1933235349144273,
          -1.152507119590861,
          -0.8730161557797627,
          -1.5937675261688693,
          -2.025423724394564,
          -1.5937614781913887,
          -1.8095566459124373,
          -2.3286539802480846,
          -2.296519757937803,
          -2.0298305228333025,
          -0.8731522621358262,
          -2.2023702972989114,
          -1.1531727805302792,
          -1.308555108094639,
          -0.872932741186532,
          -1.5937554693217866,
          -1.59385753816338,
          -1.1525134911838095,
          -0.8729324318306874,
          -1.2744112941206347,
          -1.1689204191877964,
          -2.1766104763417227,
          -2.2966179030533014,
          -1.1529495959126603,
          -2.193265112440352,
          -1.2281820031655493,
          -1.1525163154390092,
          -1.155013998230871,
          -0.8730719841270588,
          -2.0282826558600173,
          -2.296957147981416,
          -1.1525108848779793,
          -2.225817686292015,
          -2.2284713134778116,
          -2.1605088739245657,
          -0.8729590199208261,
          -2.2965175995204716,
          -0.6001775553572747,
          -2.1903156876689853,
          -2.110898454289744,
          -2.1603798729619266,
          -2.2968012638489714,
          -2.2516257161955697,
          -2.366277440073752,
          -2.150860535265029,
          -2.296750145301691,
          -1.2258071486489879,
          -2.15880127314971,
          -0.8729329828377694,
          -1.1525125551619169,
          -2.2029110406387726,
          -2.1234210114109477,
          -0.8757478325504046,
          -1.2745042523292855,
          -0.8729348766539385,
          -1.2258435322028371,
          -2.2302594669360354,
          -2.160411985935131,
          -1.2744126282915085,
          -2.2995560466602916,
          -2.1805673244391133,
          -2.1805231499486077,
          -0.2887415745067353,
          -2.2335634640517927,
          -1.1525445403122039,
          -2.228578451190842,
          -2.2284726229416227,
          -1.4858398334908138,
          -1.274418301242421,
          -0.3113737342294113,
          -1.2744538598674007,
          -1.1991661890101961,
          -1.5940032388517313,
          -2.1838393269253156,
          -1.152642118874019,
          -1.2744204688547696,
          -1.1635412387977753,
          -1.1475215739986724,
          -1.152502846589707,
          -1.1525592132557996,
          -1.809450168757815,
          -2.233228542129926,
          -2.0252970628229128,
          -2.2967594458785148,
          -2.2284756171750852
         ],
         "z": [
          -0.1481471367076074,
          -0.15048426733877332,
          -0.1590196956852915,
          -0.15042732755966637,
          -0.1489285377413771,
          -0.14198918631862362,
          0.15377755411335,
          -0.16016460461407522,
          -0.23767055168149928,
          -0.15978166663557192,
          -0.09931601279070565,
          -0.14523541700537543,
          -0.15704037693926567,
          -0.15958601251605462,
          -0.23800891576944322,
          -0.20397555663174127,
          -0.1596345539638206,
          -0.1601468878132695,
          -0.16023323175511087,
          -0.2377598004376141,
          0.17751941220688378,
          0.22925953516521028,
          0.08820861215573991,
          -0.15997980014447627,
          -0.15559035303032034,
          -0.15991919140790284,
          -0.16029017280169117,
          -0.1806400071186624,
          -0.139537595432186,
          -0.15908665258765547,
          -0.15936383935460646,
          1.5866057989438207,
          -0.14810854356443637,
          -0.15665653667556367,
          -0.16000621260959924,
          -0.16036061697977794,
          -0.15962072761974433,
          -0.15477593424984978,
          -0.16024202885174554,
          -0.02533080979099248,
          -0.1481860789152287,
          -0.1539132324656351,
          -0.16022152884034627,
          -0.15831851552863685,
          -0.15970887527587346,
          -0.13535365413192865,
          -0.14765045794782014,
          -0.1479373670060978,
          -0.14792050198854248,
          -0.14851035572800886,
          -0.23793346308013813,
          -0.1599382999571766,
          -0.19082924056670086,
          -0.15704514053916682,
          -0.14771768045848546,
          0.4514104811798085,
          -0.1588072799270406,
          -0.1434266365049391,
          -0.15752755424437218,
          -0.1603628286434051,
          -0.15739270192273275,
          -0.14363263930943806,
          -0.14424613789002788,
          -0.13328262266986787,
          -0.18874643210320977,
          -0.1602360318430529,
          -0.03333225065984692,
          -0.1215630954214639,
          -0.1603717055112622,
          -0.14821382954410242,
          0.49082956717216364,
          -0.23732135869036902,
          -0.15576767747462736,
          -0.14795405895578215,
          -0.23760593943016298,
          -0.158498042378125,
          -0.15769120619976182,
          -0.15155075169973936,
          0.36496621878565083,
          -0.23764128431503873,
          -0.14810966482924376,
          -0.15633421747902576,
          -0.14545261735671708,
          -0.15893674260812937,
          0.269892900965913,
          -0.2368030583240079,
          -0.15268661137756206,
          -0.15918422649285174,
          -0.13888509321874914,
          -0.16016188882513843,
          -0.2376045950866616,
          -0.16037176393880195,
          -0.23775442106487796,
          -0.21550250789389255,
          0.29650050492079993,
          -0.148369458429748,
          -0.11337861107367549,
          -0.15754192032906028,
          -0.1483281313106801,
          -0.16003559348053364,
          -0.16198994594951086,
          -0.1512931908986181,
          -0.14201078247622587,
          -0.08720397965943967,
          -0.22435239164027973,
          -0.23558538983593216,
          0.2964948352871062,
          -0.16035352688233032,
          0.296625410703309,
          -0.1563074019302626,
          0.47644475042639467,
          -0.1491938819572328,
          -0.1603218469646579,
          -0.23049896092573727,
          -0.14202313113196874,
          -0.15845726042172673,
          -0.15602609327470515,
          -0.16160055674934098,
          -0.13128781136296036,
          -0.19740261904557152,
          -0.15988476141396793,
          -0.11473598313790989,
          -0.15970712785325317,
          -0.14905147119250922,
          -0.17036210648651473,
          -0.03495113203823783,
          -0.16208424534049093,
          0.3325749020875183,
          -0.23681150059909234,
          -0.16002589333429315,
          -0.15978970070418425,
          -0.23720565702080917,
          -0.23778240488327274,
          0.2968893238334417,
          -0.1565960005243755,
          -0.11893330325828524,
          -0.22866719666049384,
          -0.1481463017325988,
          -0.08605460421849222,
          1.5849589145313403,
          -0.16012364887957076,
          -0.15957604947638981,
          -0.15927737056958063,
          -0.15926431412512837,
          0.29707263214616797,
          0.07002335517878815,
          -0.1922197548534019,
          -0.18532311416204164,
          -0.14186934539980783,
          -0.15144735575839924,
          -0.15845547130718296,
          -0.23333231675507787,
          -0.18516873952029989,
          -0.1496608760834419,
          -0.18526880083258132,
          -0.1235262265268933,
          1.1333250139175874,
          0.2964776518623243,
          -0.0746572962430966,
          -0.23307485271174497,
          -0.13817724524944264,
          -0.07661010290071135,
          1.0996601388653449,
          -0.23775643181867478,
          -0.18532065381077342,
          -0.1783669572642756,
          -0.15937553027991236,
          -0.23768192273713995,
          -0.14812571607097977,
          -0.20321670168580416,
          -0.15026874311461919,
          0.30034718648758274,
          0.03244651273423855,
          -0.15095085076140405,
          -0.17640486274661268,
          -0.15994861523712534,
          0.1467655589019024,
          -0.23183019329391322,
          -0.10276694249335776,
          0.3043896129083434,
          -0.16018532925904788,
          -0.153083394099583,
          -0.14086158575826005,
          -0.15977659319746187,
          -0.2368522336986848,
          0.2966599733693766,
          -0.19746192581327243,
          -0.156152847964975,
          -0.17342221820097656,
          -0.1620742020766856,
          0.3005823193676283,
          0.5782041207775879,
          2.1027426044710187,
          -0.1566668831421222,
          0.3102482821776423,
          -0.2017078140326488,
          -0.15290952110701375,
          -0.23773861353457826,
          -0.1602098913409009,
          -0.138059923095108,
          -0.16720036034291516,
          -0.13385215505814713,
          -0.10802024301251464,
          -0.2377100210793143,
          -0.20113636745786728,
          -0.03674421290624319,
          -0.16147279836991563,
          -0.14814633926181595,
          0.37631436713567534,
          -0.14291845791732122,
          -0.1433098182880853,
          -0.2646845580365496,
          -0.1548607036840886,
          -0.1591036070853947,
          -0.1399321856052985,
          -0.1417023608562249,
          -0.18795852432018753,
          -0.14742333364849083,
          -0.11966099530626145,
          -0.1462927363509112,
          0.5346848377413727,
          -0.11057266280112149,
          -0.09384799018653095,
          -0.14378308021152303,
          -0.14793673806419122,
          0.5545974431826312,
          -0.2035370552264493,
          -0.16028659440863383,
          -0.15824491087437478,
          -0.13401680944280317,
          -0.14039004615174924,
          -0.15132631130994198,
          0.318208824586559,
          -0.1419902422473947
         ]
        },
        {
         "customdata": [
          [
           "VeChainThor Authority"
          ],
          [
           "Proof-of-BibleHash"
          ],
          [
           "SHA-256 + Hive"
          ],
          [
           "Proof-of-Authority"
          ],
          [
           "ECC 256K1"
          ],
          [
           "Leased POS"
          ]
         ],
         "hovertemplate": "<b>%{hovertext}</b><br><br>Class=%{marker.color}<br>PC3=%{x}<br>PC2=%{y}<br>PC1=%{z}<br>Algorithm=%{customdata[0]}<extra></extra>",
         "hovertext": [
          "Vechain",
          "BiblePay",
          "LitecoinCash",
          "Poa Network",
          "Acute Angle Cloud",
          "Waves"
         ],
         "legendgroup": "3",
         "marker": {
          "color": [
           3,
           3,
           3,
           3,
           3,
           3
          ],
          "coloraxis": "coloraxis",
          "symbol": "x"
         },
         "mode": "markers",
         "name": "3",
         "scene": "scene",
         "showlegend": true,
         "type": "scatter3d",
         "x": [
          7.638715591078933,
          16.33720046126859,
          14.579039187946625,
          7.417255736302421,
          9.343111225057642,
          17.80251411978809
         ],
         "y": [
          2.860279953992504,
          3.3393629234137063,
          3.971200495442574,
          2.200883553763091,
          2.013875922628369,
          2.8956498709879197
         ],
         "z": [
          4.410741865196918,
          -0.199036733132836,
          -0.3732979277795151,
          -0.36491012396615896,
          -0.3089053027226825,
          -0.40454531921638137
         ]
        },
        {
         "customdata": [
          [
           "TRC10"
          ]
         ],
         "hovertemplate": "<b>%{hovertext}</b><br><br>Class=%{marker.color}<br>PC3=%{x}<br>PC2=%{y}<br>PC1=%{z}<br>Algorithm=%{customdata[0]}<extra></extra>",
         "hovertext": [
          "BitTorrent"
         ],
         "legendgroup": "2",
         "marker": {
          "color": [
           2
          ],
          "coloraxis": "coloraxis",
          "symbol": "cross"
         },
         "mode": "markers",
         "name": "2",
         "scene": "scene",
         "showlegend": true,
         "type": "scatter3d",
         "x": [
          -0.8580911830392816
         ],
         "y": [
          1.752694612445951
         ],
         "z": [
          34.038104638546166
         ]
        }
       ],
       "layout": {
        "coloraxis": {
         "colorbar": {
          "title": {
           "text": "Class"
          }
         },
         "colorscale": [
          [
           0,
           "#0d0887"
          ],
          [
           0.1111111111111111,
           "#46039f"
          ],
          [
           0.2222222222222222,
           "#7201a8"
          ],
          [
           0.3333333333333333,
           "#9c179e"
          ],
          [
           0.4444444444444444,
           "#bd3786"
          ],
          [
           0.5555555555555556,
           "#d8576b"
          ],
          [
           0.6666666666666666,
           "#ed7953"
          ],
          [
           0.7777777777777778,
           "#fb9f3a"
          ],
          [
           0.8888888888888888,
           "#fdca26"
          ],
          [
           1,
           "#f0f921"
          ]
         ]
        },
        "legend": {
         "title": {
          "text": "Class"
         },
         "tracegroupgap": 0,
         "x": 0,
         "y": 1
        },
        "margin": {
         "t": 60
        },
        "scene": {
         "domain": {
          "x": [
           0,
           1
          ],
          "y": [
           0,
           1
          ]
         },
         "xaxis": {
          "title": {
           "text": "PC3"
          }
         },
         "yaxis": {
          "title": {
           "text": "PC2"
          }
         },
         "zaxis": {
          "title": {
           "text": "PC1"
          }
         }
        },
        "template": {
         "data": {
          "bar": [
           {
            "error_x": {
             "color": "#2a3f5f"
            },
            "error_y": {
             "color": "#2a3f5f"
            },
            "marker": {
             "line": {
              "color": "#E5ECF6",
              "width": 0.5
             }
            },
            "type": "bar"
           }
          ],
          "barpolar": [
           {
            "marker": {
             "line": {
              "color": "#E5ECF6",
              "width": 0.5
             }
            },
            "type": "barpolar"
           }
          ],
          "carpet": [
           {
            "aaxis": {
             "endlinecolor": "#2a3f5f",
             "gridcolor": "white",
             "linecolor": "white",
             "minorgridcolor": "white",
             "startlinecolor": "#2a3f5f"
            },
            "baxis": {
             "endlinecolor": "#2a3f5f",
             "gridcolor": "white",
             "linecolor": "white",
             "minorgridcolor": "white",
             "startlinecolor": "#2a3f5f"
            },
            "type": "carpet"
           }
          ],
          "choropleth": [
           {
            "colorbar": {
             "outlinewidth": 0,
             "ticks": ""
            },
            "type": "choropleth"
           }
          ],
          "contour": [
           {
            "colorbar": {
             "outlinewidth": 0,
             "ticks": ""
            },
            "colorscale": [
             [
              0,
              "#0d0887"
             ],
             [
              0.1111111111111111,
              "#46039f"
             ],
             [
              0.2222222222222222,
              "#7201a8"
             ],
             [
              0.3333333333333333,
              "#9c179e"
             ],
             [
              0.4444444444444444,
              "#bd3786"
             ],
             [
              0.5555555555555556,
              "#d8576b"
             ],
             [
              0.6666666666666666,
              "#ed7953"
             ],
             [
              0.7777777777777778,
              "#fb9f3a"
             ],
             [
              0.8888888888888888,
              "#fdca26"
             ],
             [
              1,
              "#f0f921"
             ]
            ],
            "type": "contour"
           }
          ],
          "contourcarpet": [
           {
            "colorbar": {
             "outlinewidth": 0,
             "ticks": ""
            },
            "type": "contourcarpet"
           }
          ],
          "heatmap": [
           {
            "colorbar": {
             "outlinewidth": 0,
             "ticks": ""
            },
            "colorscale": [
             [
              0,
              "#0d0887"
             ],
             [
              0.1111111111111111,
              "#46039f"
             ],
             [
              0.2222222222222222,
              "#7201a8"
             ],
             [
              0.3333333333333333,
              "#9c179e"
             ],
             [
              0.4444444444444444,
              "#bd3786"
             ],
             [
              0.5555555555555556,
              "#d8576b"
             ],
             [
              0.6666666666666666,
              "#ed7953"
             ],
             [
              0.7777777777777778,
              "#fb9f3a"
             ],
             [
              0.8888888888888888,
              "#fdca26"
             ],
             [
              1,
              "#f0f921"
             ]
            ],
            "type": "heatmap"
           }
          ],
          "heatmapgl": [
           {
            "colorbar": {
             "outlinewidth": 0,
             "ticks": ""
            },
            "colorscale": [
             [
              0,
              "#0d0887"
             ],
             [
              0.1111111111111111,
              "#46039f"
             ],
             [
              0.2222222222222222,
              "#7201a8"
             ],
             [
              0.3333333333333333,
              "#9c179e"
             ],
             [
              0.4444444444444444,
              "#bd3786"
             ],
             [
              0.5555555555555556,
              "#d8576b"
             ],
             [
              0.6666666666666666,
              "#ed7953"
             ],
             [
              0.7777777777777778,
              "#fb9f3a"
             ],
             [
              0.8888888888888888,
              "#fdca26"
             ],
             [
              1,
              "#f0f921"
             ]
            ],
            "type": "heatmapgl"
           }
          ],
          "histogram": [
           {
            "marker": {
             "colorbar": {
              "outlinewidth": 0,
              "ticks": ""
             }
            },
            "type": "histogram"
           }
          ],
          "histogram2d": [
           {
            "colorbar": {
             "outlinewidth": 0,
             "ticks": ""
            },
            "colorscale": [
             [
              0,
              "#0d0887"
             ],
             [
              0.1111111111111111,
              "#46039f"
             ],
             [
              0.2222222222222222,
              "#7201a8"
             ],
             [
              0.3333333333333333,
              "#9c179e"
             ],
             [
              0.4444444444444444,
              "#bd3786"
             ],
             [
              0.5555555555555556,
              "#d8576b"
             ],
             [
              0.6666666666666666,
              "#ed7953"
             ],
             [
              0.7777777777777778,
              "#fb9f3a"
             ],
             [
              0.8888888888888888,
              "#fdca26"
             ],
             [
              1,
              "#f0f921"
             ]
            ],
            "type": "histogram2d"
           }
          ],
          "histogram2dcontour": [
           {
            "colorbar": {
             "outlinewidth": 0,
             "ticks": ""
            },
            "colorscale": [
             [
              0,
              "#0d0887"
             ],
             [
              0.1111111111111111,
              "#46039f"
             ],
             [
              0.2222222222222222,
              "#7201a8"
             ],
             [
              0.3333333333333333,
              "#9c179e"
             ],
             [
              0.4444444444444444,
              "#bd3786"
             ],
             [
              0.5555555555555556,
              "#d8576b"
             ],
             [
              0.6666666666666666,
              "#ed7953"
             ],
             [
              0.7777777777777778,
              "#fb9f3a"
             ],
             [
              0.8888888888888888,
              "#fdca26"
             ],
             [
              1,
              "#f0f921"
             ]
            ],
            "type": "histogram2dcontour"
           }
          ],
          "mesh3d": [
           {
            "colorbar": {
             "outlinewidth": 0,
             "ticks": ""
            },
            "type": "mesh3d"
           }
          ],
          "parcoords": [
           {
            "line": {
             "colorbar": {
              "outlinewidth": 0,
              "ticks": ""
             }
            },
            "type": "parcoords"
           }
          ],
          "pie": [
           {
            "automargin": true,
            "type": "pie"
           }
          ],
          "scatter": [
           {
            "marker": {
             "colorbar": {
              "outlinewidth": 0,
              "ticks": ""
             }
            },
            "type": "scatter"
           }
          ],
          "scatter3d": [
           {
            "line": {
             "colorbar": {
              "outlinewidth": 0,
              "ticks": ""
             }
            },
            "marker": {
             "colorbar": {
              "outlinewidth": 0,
              "ticks": ""
             }
            },
            "type": "scatter3d"
           }
          ],
          "scattercarpet": [
           {
            "marker": {
             "colorbar": {
              "outlinewidth": 0,
              "ticks": ""
             }
            },
            "type": "scattercarpet"
           }
          ],
          "scattergeo": [
           {
            "marker": {
             "colorbar": {
              "outlinewidth": 0,
              "ticks": ""
             }
            },
            "type": "scattergeo"
           }
          ],
          "scattergl": [
           {
            "marker": {
             "colorbar": {
              "outlinewidth": 0,
              "ticks": ""
             }
            },
            "type": "scattergl"
           }
          ],
          "scattermapbox": [
           {
            "marker": {
             "colorbar": {
              "outlinewidth": 0,
              "ticks": ""
             }
            },
            "type": "scattermapbox"
           }
          ],
          "scatterpolar": [
           {
            "marker": {
             "colorbar": {
              "outlinewidth": 0,
              "ticks": ""
             }
            },
            "type": "scatterpolar"
           }
          ],
          "scatterpolargl": [
           {
            "marker": {
             "colorbar": {
              "outlinewidth": 0,
              "ticks": ""
             }
            },
            "type": "scatterpolargl"
           }
          ],
          "scatterternary": [
           {
            "marker": {
             "colorbar": {
              "outlinewidth": 0,
              "ticks": ""
             }
            },
            "type": "scatterternary"
           }
          ],
          "surface": [
           {
            "colorbar": {
             "outlinewidth": 0,
             "ticks": ""
            },
            "colorscale": [
             [
              0,
              "#0d0887"
             ],
             [
              0.1111111111111111,
              "#46039f"
             ],
             [
              0.2222222222222222,
              "#7201a8"
             ],
             [
              0.3333333333333333,
              "#9c179e"
             ],
             [
              0.4444444444444444,
              "#bd3786"
             ],
             [
              0.5555555555555556,
              "#d8576b"
             ],
             [
              0.6666666666666666,
              "#ed7953"
             ],
             [
              0.7777777777777778,
              "#fb9f3a"
             ],
             [
              0.8888888888888888,
              "#fdca26"
             ],
             [
              1,
              "#f0f921"
             ]
            ],
            "type": "surface"
           }
          ],
          "table": [
           {
            "cells": {
             "fill": {
              "color": "#EBF0F8"
             },
             "line": {
              "color": "white"
             }
            },
            "header": {
             "fill": {
              "color": "#C8D4E3"
             },
             "line": {
              "color": "white"
             }
            },
            "type": "table"
           }
          ]
         },
         "layout": {
          "annotationdefaults": {
           "arrowcolor": "#2a3f5f",
           "arrowhead": 0,
           "arrowwidth": 1
          },
          "autotypenumbers": "strict",
          "coloraxis": {
           "colorbar": {
            "outlinewidth": 0,
            "ticks": ""
           }
          },
          "colorscale": {
           "diverging": [
            [
             0,
             "#8e0152"
            ],
            [
             0.1,
             "#c51b7d"
            ],
            [
             0.2,
             "#de77ae"
            ],
            [
             0.3,
             "#f1b6da"
            ],
            [
             0.4,
             "#fde0ef"
            ],
            [
             0.5,
             "#f7f7f7"
            ],
            [
             0.6,
             "#e6f5d0"
            ],
            [
             0.7,
             "#b8e186"
            ],
            [
             0.8,
             "#7fbc41"
            ],
            [
             0.9,
             "#4d9221"
            ],
            [
             1,
             "#276419"
            ]
           ],
           "sequential": [
            [
             0,
             "#0d0887"
            ],
            [
             0.1111111111111111,
             "#46039f"
            ],
            [
             0.2222222222222222,
             "#7201a8"
            ],
            [
             0.3333333333333333,
             "#9c179e"
            ],
            [
             0.4444444444444444,
             "#bd3786"
            ],
            [
             0.5555555555555556,
             "#d8576b"
            ],
            [
             0.6666666666666666,
             "#ed7953"
            ],
            [
             0.7777777777777778,
             "#fb9f3a"
            ],
            [
             0.8888888888888888,
             "#fdca26"
            ],
            [
             1,
             "#f0f921"
            ]
           ],
           "sequentialminus": [
            [
             0,
             "#0d0887"
            ],
            [
             0.1111111111111111,
             "#46039f"
            ],
            [
             0.2222222222222222,
             "#7201a8"
            ],
            [
             0.3333333333333333,
             "#9c179e"
            ],
            [
             0.4444444444444444,
             "#bd3786"
            ],
            [
             0.5555555555555556,
             "#d8576b"
            ],
            [
             0.6666666666666666,
             "#ed7953"
            ],
            [
             0.7777777777777778,
             "#fb9f3a"
            ],
            [
             0.8888888888888888,
             "#fdca26"
            ],
            [
             1,
             "#f0f921"
            ]
           ]
          },
          "colorway": [
           "#636efa",
           "#EF553B",
           "#00cc96",
           "#ab63fa",
           "#FFA15A",
           "#19d3f3",
           "#FF6692",
           "#B6E880",
           "#FF97FF",
           "#FECB52"
          ],
          "font": {
           "color": "#2a3f5f"
          },
          "geo": {
           "bgcolor": "white",
           "lakecolor": "white",
           "landcolor": "#E5ECF6",
           "showlakes": true,
           "showland": true,
           "subunitcolor": "white"
          },
          "hoverlabel": {
           "align": "left"
          },
          "hovermode": "closest",
          "mapbox": {
           "style": "light"
          },
          "paper_bgcolor": "white",
          "plot_bgcolor": "#E5ECF6",
          "polar": {
           "angularaxis": {
            "gridcolor": "white",
            "linecolor": "white",
            "ticks": ""
           },
           "bgcolor": "#E5ECF6",
           "radialaxis": {
            "gridcolor": "white",
            "linecolor": "white",
            "ticks": ""
           }
          },
          "scene": {
           "xaxis": {
            "backgroundcolor": "#E5ECF6",
            "gridcolor": "white",
            "gridwidth": 2,
            "linecolor": "white",
            "showbackground": true,
            "ticks": "",
            "zerolinecolor": "white"
           },
           "yaxis": {
            "backgroundcolor": "#E5ECF6",
            "gridcolor": "white",
            "gridwidth": 2,
            "linecolor": "white",
            "showbackground": true,
            "ticks": "",
            "zerolinecolor": "white"
           },
           "zaxis": {
            "backgroundcolor": "#E5ECF6",
            "gridcolor": "white",
            "gridwidth": 2,
            "linecolor": "white",
            "showbackground": true,
            "ticks": "",
            "zerolinecolor": "white"
           }
          },
          "shapedefaults": {
           "line": {
            "color": "#2a3f5f"
           }
          },
          "ternary": {
           "aaxis": {
            "gridcolor": "white",
            "linecolor": "white",
            "ticks": ""
           },
           "baxis": {
            "gridcolor": "white",
            "linecolor": "white",
            "ticks": ""
           },
           "bgcolor": "#E5ECF6",
           "caxis": {
            "gridcolor": "white",
            "linecolor": "white",
            "ticks": ""
           }
          },
          "title": {
           "x": 0.05
          },
          "xaxis": {
           "automargin": true,
           "gridcolor": "white",
           "linecolor": "white",
           "ticks": "",
           "title": {
            "standoff": 15
           },
           "zerolinecolor": "white",
           "zerolinewidth": 2
          },
          "yaxis": {
           "automargin": true,
           "gridcolor": "white",
           "linecolor": "white",
           "ticks": "",
           "title": {
            "standoff": 15
           },
           "zerolinecolor": "white",
           "zerolinewidth": 2
          }
         }
        },
        "width": 800
       }
      },
      "text/html": [
       "<div>                            <div id=\"a97eb15c-3018-462d-a42a-8465639dc5e6\" class=\"plotly-graph-div\" style=\"height:525px; width:800px;\"></div>            <script type=\"text/javascript\">                require([\"plotly\"], function(Plotly) {                    window.PLOTLYENV=window.PLOTLYENV || {};                                    if (document.getElementById(\"a97eb15c-3018-462d-a42a-8465639dc5e6\")) {                    Plotly.newPlot(                        \"a97eb15c-3018-462d-a42a-8465639dc5e6\",                        [{\"customdata\": [[\"Scrypt\"], [\"Scrypt\"], [\"X11\"], [\"SHA-512\"], [\"SHA-256\"], [\"SHA-256\"], [\"X15\"], [\"Scrypt\"], [\"Scrypt\"], [\"Scrypt\"], [\"Scrypt\"], [\"Scrypt\"], [\"Scrypt\"], [\"Groestl\"], [\"PoS\"], [\"Scrypt\"], [\"Scrypt\"], [\"X11\"], [\"X11\"], [\"SHA3\"], [\"Scrypt\"], [\"SHA-256\"], [\"Scrypt\"], [\"X13\"], [\"X13\"], [\"NeoScrypt\"], [\"Scrypt\"], [\"Scrypt\"], [\"Scrypt\"], [\"X11\"], [\"X11\"], [\"Multiple\"], [\"PHI1612\"], [\"X11\"], [\"Scrypt\"], [\"Scrypt\"], [\"Scrypt\"], [\"X11\"], [\"Multiple\"], [\"X13\"], [\"Scrypt\"], [\"Shabal256\"], [\"Counterparty\"], [\"SHA-256\"], [\"Groestl\"], [\"Scrypt\"], [\"X13\"], [\"Scrypt\"], [\"Scrypt\"], [\"X13\"], [\"X11\"], [\"Scrypt\"], [\"X11\"], [\"SHA3\"], [\"QUAIT\"], [\"X11\"], [\"Scrypt\"], [\"X13\"], [\"SHA-256\"], [\"X15\"], [\"BLAKE256\"], [\"SHA-256\"], [\"X11\"], [\"SHA-256\"], [\"NIST5\"], [\"Scrypt\"], [\"Scrypt\"], [\"X11\"], [\"Scrypt\"], [\"SHA-256\"], [\"Scrypt\"], [\"PoS\"], [\"X11\"], [\"SHA-256\"], [\"SHA-256\"], [\"NIST5\"], [\"X11\"], [\"POS 3.0\"], [\"Scrypt\"], [\"Scrypt\"], [\"Scrypt\"], [\"X13\"], [\"X11\"], [\"X11\"], [\"Scrypt\"], [\"SHA-256\"], [\"X11\"], [\"Scrypt\"], [\"Scrypt\"], [\"Scrypt\"], [\"Scrypt\"], [\"SHA-256D\"], [\"PoS\"], [\"Scrypt\"], [\"X11\"], [\"PoS\"], [\"X13\"], [\"X14\"], [\"PoS\"], [\"SHA-256D\"], [\"X11\"], [\"X13\"], [\"X11\"], [\"PoS\"], [\"Scrypt\"], [\"Scrypt\"], [\"PoS\"], [\"X11\"], [\"SHA-256\"], [\"Scrypt\"], [\"X11\"], [\"Scrypt\"], [\"Scrypt\"], [\"X11\"], [\"Scrypt\"], [\"Scrypt\"], [\"Scrypt\"], [\"Scrypt\"], [\"Quark\"], [\"QuBit\"], [\"Scrypt\"], [\"SHA-256\"], [\"X11\"], [\"Scrypt\"], [\"Scrypt\"], [\"Scrypt\"], [\"Scrypt\"], [\"X13\"], [\"Scrypt\"], [\"Scrypt\"], [\"X11\"], [\"Blake2S\"], [\"X11\"], [\"PoS\"], [\"X11\"], [\"PoS\"], [\"X11\"], [\"Scrypt\"], [\"Scrypt\"], [\"Scrypt\"], [\"SHA-256\"], [\"X11\"], [\"Scrypt\"], [\"PoS\"], [\"Scrypt\"], [\"X15\"], [\"SHA-256\"], [\"POS 3.0\"], [\"536\"], [\"NIST5\"], [\"NIST5\"], [\"Skein\"], [\"X13\"], [\"Scrypt\"], [\"X13\"], [\"SkunkHash v2 Raptor\"], [\"Skein\"], [\"X11\"], [\"Scrypt\"], [\"PoS\"], [\"Scrypt\"], [\"Scrypt\"], [\"SHA-512\"], [\"Ouroboros\"], [\"X11\"], [\"NeoScrypt\"], [\"Scrypt\"], [\"Lyra2REv2\"], [\"Scrypt\"], [\"SHA-256\"], [\"NIST5\"], [\"PHI1612\"], [\"Scrypt\"], [\"Quark\"], [\"POS 2.0\"], [\"Scrypt\"], [\"SHA-256\"], [\"X11\"], [\"NIST5\"], [\"X13\"], [\"Scrypt\"], [\"NIST5\"], [\"Quark\"], [\"Scrypt\"], [\"Scrypt\"], [\"X11\"], [\"Quark\"], [\"Scrypt\"], [\"Scrypt\"], [\"X11\"], [\"POS 3.0\"], [\"Ethash\"], [\"Scrypt\"], [\"Scrypt\"], [\"X13\"], [\"C11\"], [\"X11\"], [\"XEVAN\"], [\"Scrypt\"], [\"VBFT\"], [\"NIST5\"], [\"Scrypt\"], [\"Scrypt\"], [\"Scrypt\"], [\"Green Protocol\"], [\"PoS\"], [\"Scrypt\"], [\"Quark\"], [\"PoS\"], [\"X16R\"], [\"Scrypt\"], [\"XEVAN\"], [\"Scrypt\"], [\"Scrypt\"], [\"Scrypt\"], [\"SHA-256D\"], [\"Scrypt\"], [\"X15\"], [\"Quark\"], [\"SHA-256\"], [\"DPoS\"], [\"X16R\"], [\"Quark\"], [\"Quark\"], [\"Scrypt\"], [\"Lyra2REv2\"], [\"Quark\"], [\"Scrypt\"], [\"X11\"], [\"X11\"], [\"Scrypt\"], [\"PoS\"], [\"Keccak\"], [\"X11\"], [\"Scrypt\"], [\"SHA-512\"], [\"XEVAN\"], [\"XEVAN\"], [\"X11\"], [\"Quark\"], [\"Scrypt\"], [\"Quark\"], [\"Quark\"], [\"Scrypt\"], [\"X11\"], [\"Scrypt\"], [\"XEVAN\"], [\"SHA-256D\"], [\"X11\"], [\"X11\"], [\"Scrypt\"], [\"X11\"], [\"Scrypt\"], [\"Scrypt\"], [\"SHA-256\"], [\"Scrypt\"], [\"X11\"], [\"Scrypt\"], [\"SHA-256\"], [\"X11\"], [\"Scrypt\"], [\"Scrypt\"], [\"X11\"], [\"Scrypt\"], [\"PoS\"], [\"X11\"], [\"SHA-256\"], [\"Scrypt\"], [\"Scrypt\"], [\"NeoScrypt\"], [\"X13\"], [\"SHA-256\"], [\"PoS\"], [\"PoS\"], [\"Scrypt\"], [\"Scrypt\"]], \"hovertemplate\": \"<b>%{hovertext}</b><br><br>Class=%{marker.color}<br>PC3=%{x}<br>PC2=%{y}<br>PC1=%{z}<br>Algorithm=%{customdata[0]}<extra></extra>\", \"hovertext\": [\"42 Coin\", \"404Coin\", \"Dash\", \"Bitshares\", \"BitcoinDark\", \"PayCoin\", \"KoboCoin\", \"Aurora Coin\", \"BlueCoin\", \"EnergyCoin\", \"BitBar\", \"CryptoBullion\", \"CasinoCoin\", \"Diamond\", \"Exclusive Coin\", \"FlutterCoin\", \"HoboNickels\", \"HyperStake\", \"IOCoin\", \"MaxCoin\", \"MintCoin\", \"MazaCoin\", \"Nautilus Coin\", \"NavCoin\", \"OpalCoin\", \"Orbitcoin\", \"PotCoin\", \"PhoenixCoin\", \"Reddcoin\", \"SuperCoin\", \"SyncCoin\", \"TeslaCoin\", \"TittieCoin\", \"TorCoin\", \"UnitaryStatus Dollar\", \"UltraCoin\", \"VeriCoin\", \"X11 Coin\", \"Crypti\", \"StealthCoin\", \"ZCC Coin\", \"BurstCoin\", \"StorjCoin\", \"Neutron\", \"FairCoin\", \"RubyCoin\", \"Kore\", \"Dnotes\", \"8BIT Coin\", \"Sativa Coin\", \"Ucoin\", \"Vtorrent\", \"IslaCoin\", \"Nexus\", \"Droidz\", \"Squall Coin\", \"Diggits\", \"Paycon\", \"Emercoin\", \"EverGreenCoin\", \"Decred\", \"EDRCoin\", \"Hitcoin\", \"DubaiCoin\", \"PWR Coin\", \"BillaryCoin\", \"GPU Coin\", \"EuropeCoin\", \"ZeitCoin\", \"SwingCoin\", \"SafeExchangeCoin\", \"Nebuchadnezzar\", \"Ratecoin\", \"Revenu\", \"Clockcoin\", \"VIP Tokens\", \"BitSend\", \"Let it Ride\", \"PutinCoin\", \"iBankCoin\", \"Frankywillcoin\", \"MudraCoin\", \"Lutetium Coin\", \"GoldBlocks\", \"CarterCoin\", \"BitTokens\", \"MustangCoin\", \"ZoneCoin\", \"RootCoin\", \"BitCurrency\", \"Swiscoin\", \"BuzzCoin\", \"Opair\", \"PesoBit\", \"Halloween Coin\", \"CoffeeCoin\", \"RoyalCoin\", \"GanjaCoin V2\", \"TeamUP\", \"LanaCoin\", \"InsaneCoin\", \"EmberCoin\", \"XenixCoin\", \"FreeCoin\", \"PLNCoin\", \"AquariusCoin\", \"Creatio\", \"Eternity\", \"Eurocoin\", \"BitcoinFast\", \"Stakenet\", \"BitConnect Coin\", \"MoneyCoin\", \"Enigma\", \"Russiacoin\", \"PandaCoin\", \"GameUnits\", \"GAKHcoin\", \"Allsafe\", \"LiteCreed\", \"Klingon Empire Darsek\", \"Internet of People\", \"KushCoin\", \"Printerium\", \"Impeach\", \"Zilbercoin\", \"FirstCoin\", \"FindCoin\", \"OpenChat\", \"RenosCoin\", \"VirtacoinPlus\", \"TajCoin\", \"Impact\", \"Atmos\", \"HappyCoin\", \"MacronCoin\", \"Condensate\", \"Independent Money System\", \"ArgusCoin\", \"LomoCoin\", \"ProCurrency\", \"GoldReserve\", \"GrowthCoin\", \"Phreak\", \"Degas Coin\", \"HTML5 Coin\", \"Ultimate Secure Cash\", \"QTUM\", \"Espers\", \"Denarius\", \"Virta Unique Coin\", \"Bitcoin Planet\", \"BritCoin\", \"Linda\", \"DeepOnion\", \"Signatum\", \"Cream\", \"Monoeci\", \"Draftcoin\", \"Stakecoin\", \"CoinonatX\", \"Ethereum Dark\", \"Obsidian\", \"Cardano\", \"Regalcoin\", \"TrezarCoin\", \"TerraNovaCoin\", \"Rupee\", \"WomenCoin\", \"Theresa May Coin\", \"NamoCoin\", \"LUXCoin\", \"Xios\", \"Bitcloud 2.0\", \"KekCoin\", \"BlackholeCoin\", \"Infinity Economics\", \"Magnet\", \"Electra\", \"Bitcoin Diamond\", \"Cash & Back Coin\", \"Bulwark\", \"Kalkulus\", \"GermanCoin\", \"LiteCoin Ultra\", \"PhantomX\", \"Digiwage\", \"Trollcoin\", \"Litecoin Plus\", \"Monkey Project\", \"TokenPay\", \"1717 Masonic Commemorative Token\", \"My Big Coin\", \"Unified Society USDEX\", \"Tokyo Coin\", \"Stipend\", \"Pushi\", \"Ellerium\", \"Velox\", \"Ontology\", \"Bitspace\", \"Briacoin\", \"Ignition\", \"MedicCoin\", \"Bitcoin Green\", \"Deviant Coin\", \"Abjcoin\", \"Carebit\", \"Zealium\", \"Proton\", \"iDealCash\", \"Bitcoin Incognito\", \"HollyWoodCoin\", \"Swisscoin\", \"Xt3ch\", \"TheVig\", \"EmaratCoin\", \"Dekado\", \"Poseidon Quark\", \"BitcoinWSpectrum\", \"Muse\", \"Trivechain\", \"Dystem\", \"Giant\", \"Peony Coin\", \"Absolute Coin\", \"Vitae\", \"TPCash\", \"ARENON\", \"EUNO\", \"MMOCoin\", \"Ketan\", \"XDNA\", \"PAXEX\", \"ThunderStake\", \"Kcash\", \"Bettex coin\", \"BitMoney\", \"Junson Ming Chan Coin\", \"HerbCoin\", \"Oduwa\", \"Galilel\", \"Crypto Sports\", \"Credit\", \"Dash Platinum\", \"Nasdacoin\", \"Beetle Coin\", \"Titan Coin\", \"Award\", \"Insane Coin\", \"LiteDoge\", \"TruckCoin\", \"OrangeCoin\", \"BitstarCoin\", \"NeosCoin\", \"HyperCoin\", \"PinkCoin\", \"AudioCoin\", \"IncaKoin\", \"Piggy Coin\", \"Genstake\", \"XiaoMiCoin\", \"CapriCoin\", \" ClubCoin\", \"Radium\", \"Creditbit \", \"OKCash\", \"HiCoin\", \"WhiteCoin\", \"FriendshipCoin\", \"Triangles Coin\", \"TigerCash\", \"Particl\", \"Nxt\", \"Gapcoin\", \"BitcoinPlus\"], \"legendgroup\": \"0\", \"marker\": {\"color\": [0, 0, 0, 0, 0, 0, 0, 0, 0, 0, 0, 0, 0, 0, 0, 0, 0, 0, 0, 0, 0, 0, 0, 0, 0, 0, 0, 0, 0, 0, 0, 0, 0, 0, 0, 0, 0, 0, 0, 0, 0, 0, 0, 0, 0, 0, 0, 0, 0, 0, 0, 0, 0, 0, 0, 0, 0, 0, 0, 0, 0, 0, 0, 0, 0, 0, 0, 0, 0, 0, 0, 0, 0, 0, 0, 0, 0, 0, 0, 0, 0, 0, 0, 0, 0, 0, 0, 0, 0, 0, 0, 0, 0, 0, 0, 0, 0, 0, 0, 0, 0, 0, 0, 0, 0, 0, 0, 0, 0, 0, 0, 0, 0, 0, 0, 0, 0, 0, 0, 0, 0, 0, 0, 0, 0, 0, 0, 0, 0, 0, 0, 0, 0, 0, 0, 0, 0, 0, 0, 0, 0, 0, 0, 0, 0, 0, 0, 0, 0, 0, 0, 0, 0, 0, 0, 0, 0, 0, 0, 0, 0, 0, 0, 0, 0, 0, 0, 0, 0, 0, 0, 0, 0, 0, 0, 0, 0, 0, 0, 0, 0, 0, 0, 0, 0, 0, 0, 0, 0, 0, 0, 0, 0, 0, 0, 0, 0, 0, 0, 0, 0, 0, 0, 0, 0, 0, 0, 0, 0, 0, 0, 0, 0, 0, 0, 0, 0, 0, 0, 0, 0, 0, 0, 0, 0, 0, 0, 0, 0, 0, 0, 0, 0, 0, 0, 0, 0, 0, 0, 0, 0, 0, 0, 0, 0, 0, 0, 0, 0, 0, 0, 0, 0, 0, 0, 0, 0, 0, 0, 0, 0, 0, 0, 0, 0, 0, 0, 0, 0, 0, 0, 0, 0, 0, 0, 0], \"coloraxis\": \"coloraxis\", \"symbol\": \"circle\"}, \"mode\": \"markers\", \"name\": \"0\", \"scene\": \"scene\", \"showlegend\": true, \"type\": \"scatter3d\", \"x\": [-0.5657477435216917, -0.5659843096628753, -0.4141707592129473, -0.1894570480833094, -0.35069954392131086, -0.08185731583158955, -0.5525474080086407, -0.5657516768116571, -0.5658957678112507, -0.5657764114378149, -0.5657477447446538, -0.5657479682045732, -0.693718952216029, -0.38727696933756806, -0.13583259888164512, -0.4136171401346794, -0.5657664536822621, -0.14571516764817224, -0.4141727671845432, -0.8129332988367703, -0.3018633533037279, -0.3510335435705021, -0.29690634433530627, -0.5740595544309647, -0.5740476899325344, -0.2616169109609246, -0.565792319878379, -0.5657632699367207, -0.5725769110474599, -0.14533596284790523, -0.4141690378260958, 0.07311631427907483, -0.25498213690072774, -0.41416919738367214, -0.5659759500208837, -0.565757708582121, -0.3999691823560676, -0.4141705612332911, 0.07310997847774708, -0.5740518685057565, -0.5657648443257998, -1.0989346710682215, -0.045893487429597424, -0.350707558010292, -0.3872886673390806, -0.2969091889833023, -0.5740444218545118, -0.2969348536781709, -0.5657480854515112, -0.5740456386952705, -0.1453244294349412, -0.5657500993936757, -0.41416939019211196, -1.0056498024891463, -0.6524040423297706, -0.049153980383451236, -0.29692441421508825, -0.5740486583581894, -0.3506922827917465, -0.5525502337889057, -0.40467577038624397, -0.3507000985442451, -0.41626938869927355, -0.35070063830018594, -0.4545020221854548, -0.5657491100924155, -0.2969084449521431, -0.4141647903457682, -0.30379540876039657, -0.3506999506003759, -0.6855587235448595, -0.13583558736524987, -0.4141990795764468, -0.35069603477219324, -0.35069438619400534, -0.45217418397737597, -0.41417230378525377, -0.06302742976359742, -0.5659024082200197, -0.5657480276867154, -0.5657693014699026, -0.3051969619061292, -0.14546578609371877, -0.41417179452742653, -0.5657562354077954, -0.3506993997576311, -0.4141691386459057, -0.565747980136874, -0.5657481954168027, -0.2969423648695984, -0.4518212889118841, -0.6155502526056996, -0.13584723653758995, -0.5657555528068671, -0.41420463430159155, -0.1358652249344681, -0.3051998109234259, -0.5239048037896217, -0.1358301971116759, -0.6114587012344627, -0.4141727893725372, -0.5955060431796765, -0.4141698682678235, -0.13584205475243022, -0.5657510550010055, -0.5657475844405189, -0.13583558736524987, -0.41416940903419125, -0.35070217090555733, -0.5657518860876459, -0.008085154601990038, -0.5657498383336764, -0.565738981470207, -0.4141691404795995, -0.5657471933054765, -0.3042148348116401, -0.5657483266939685, -0.5657484583290108, -0.1496019969266671, -0.3238651809481365, -0.5657446393084795, -0.3506998495094179, -0.414170193359562, -0.5657501499460093, -0.5657474342332531, -0.2969025815186485, -0.5410223795326866, -0.3052024032090381, -0.565963323085313, -0.2969106561945492, -0.4141703664744802, -0.5583844224571831, -0.4141928981734107, -0.13585524908511265, -0.4141723136343125, -0.13591783872337856, -0.4141886929524902, -0.5657486256848299, -0.5657475141210762, -0.5657304859407447, -0.0805751074933383, -0.41417234274295656, -0.29693686103610495, -0.135833407946725, -0.5657508948389433, -0.5604555402671667, -0.08185367184349204, -0.06304058011581956, -0.5507182703410751, -0.4521571055662307, -0.4521688852666387, -0.5537337570903258, -0.5740485924601668, -0.566986090495941, -0.574048936513269, -0.12824785912230535, -0.5537431981043508, -0.41417180044471985, -0.29690690152972343, -0.13583113734749017, -0.5657514569978219, -0.5657486489468403, -0.18888518195533524, -0.1454132564159435, -0.4141702602728245, -0.2616518228640654, -0.565747735899271, -0.07842707174436438, -0.5766022018933972, -0.3507193320676527, -0.4522660439418444, -0.5234899500540581, -0.5657478794352165, -0.41844837419613706, 0.08046171586020975, -0.5657512982945184, -0.08379495480227217, -0.41417543420726877, -0.45825077099219247, -0.5740832655680937, -0.5657699474511578, -0.18331402475041714, -0.14960340981001227, -0.5660231928517517, -0.5657470987355901, -0.41417869236361804, -0.1496040820576235, -0.5658697877582683, -0.5657482574455766, -0.14532481214476006, -0.06302335074482111, 0.1702422559652999, -0.5033745201585628, -0.5657984210214174, -0.3052390216773802, -0.3468506116648041, -0.41416910822123965, -0.4018917777576078, -0.29690665850293985, -0.10437432202052126, -0.45215865079640605, -0.5657478883848798, -0.56574793202933, -0.29695643719515313, 0.019020012017895212, -0.13583484308764224, -0.5657495239899825, -0.4184737726742794, -0.13583246587044984, -0.11129367730662283, -0.5659858580641692, -0.03687976415026418, -0.2969114214239912, -0.5679466551539534, -0.2969038692358123, -0.6113430226895382, -0.56575131573694, -0.28370814259353877, -0.1495891470162508, -0.08186646397210319, -0.3307052264633677, -0.38014548771910933, -0.14960109239804847, -0.4184459841118167, -0.2966098250563224, -0.34726897883350993, -0.149613457469278, -0.5657316282992942, -0.14532768364391316, -0.41417533711207843, -0.29692344298844353, -0.13582980001265235, -0.4758634939182378, -0.14532346228156698, -0.5656819307775509, -0.286614025845374, -0.13304854772217858, -0.11608059626626964, -0.1493332643706429, -0.41845198254188154, -0.5657508211412586, -0.4184486188071045, -0.1496000257888795, -0.5716291254458965, -0.14532397476116837, -0.5657510704806962, -0.40193037886562155, -0.6114589574757867, -0.4141653326683074, -0.41417405504388116, -0.5687082420291234, -0.4142255460855483, -0.5657450926947962, -0.5657515942418259, -0.08185539698793874, -0.5657499871355512, -0.41426200070195995, -0.5657937811955052, -0.35487544875191673, -0.4142667986735669, -0.5657614601191872, -0.565834980880316, -0.41421233231644466, -0.5657691027561498, -0.13583200958039213, -0.09287473954122885, -0.3507151976899585, -0.2990585554724065, -0.565801236906811, -0.2616154418403256, -0.5740441899123783, -0.08207031822317544, -0.13583328830433947, -0.26781482409651786, -0.5657468782417324, -0.29690286877801014], \"y\": [1.0171192885589313, 1.0173211198941026, 1.2966902169734904, 1.3361988403805607, 0.895201627139574, 0.665360185936, 1.9194634301329887, 1.0171191283611063, 1.0173932976180655, 1.0171723560046355, 1.0171190689632965, 1.0171192607337716, 0.397462711444975, 1.0221180642937877, 1.6212832007673754, 0.14369872462778702, 1.017100672370732, 1.0675700289323768, 1.296693933947061, 1.8191395683955738, 0.7964511281819171, 0.8947561243590535, 0.787267986104343, 1.858277193119808, 1.858255230644322, 0.5758726698944873, 1.0170154266431484, 1.0171045415487514, 1.0297608195498185, 1.0668680796524233, 1.296696792692563, 0.13030809999493118, 1.6276138293875997, 1.296692650932508, 1.0168317136436877, 1.017093359364789, 0.22181224541479508, 1.2966971724693122, 0.130364203873659, 1.8582629656372922, 1.0167071878018672, 0.8196657815292192, 1.5115026353376817, 0.8951960493026786, 1.022141662217643, 0.7872804318324798, 1.8582438560022143, 0.7871060618598267, 1.0171199215268132, 1.8582469960190928, 1.0668378549276656, 1.0171147744281057, 1.2966974454040936, 1.6829495961415746, 1.9646834853449147, 0.7376304055411234, 0.7872642397683138, 1.858234835494321, 0.8947541924149802, 1.9196123057357584, 0.8909185320487929, 0.8952026538068764, 1.2888030430828525, 0.8952087561503099, 1.5737874602548119, 1.01710318048712, 0.7871809610691718, 1.2965185281996225, 0.7560957067573073, 0.8951943923347092, 0.3991545313377105, 1.6212798576507441, 1.2967191219631462, 0.8951060583557137, 0.8949688702464383, 1.5694384407885438, 1.2966411566666793, 1.523131010760202, 1.016518077292387, 1.017100141405547, 1.017114819059459, 1.6283050882060848, 1.0668168487459349, 1.2966797082788626, 1.0170950699212942, 0.8952018040331633, 1.2966956484960739, 1.0171104076973194, 1.0171201250845132, 0.787341844002054, 0.12965898590379488, 1.9887244479891093, 1.6212774586982655, 1.0171337444127884, 1.2960970517466963, 1.6213258449318495, 1.6283980038453905, 1.9056585272126334, 1.6211451842074744, 1.9866948321537068, 1.2966904249696733, 1.8975997808300786, 1.2966966204364394, 1.6212785168003394, 1.0171083161207328, 1.0171003563397223, 1.6212798576507441, 1.2966708549095187, 0.8952073774852384, 1.0171123129618573, 0.738788523241544, 1.0171107411279123, 1.0168143347192171, 1.2966947643779965, 1.0170543691716398, 0.7863752792284888, 1.017114599261925, 1.017119140361573, 1.4685110987778658, 0.6837996345396375, 1.01689166423077, 0.8952026365725793, 1.2966947812585958, 1.0171148680059667, 1.0171089829980882, 0.7872437941054067, 0.23680481508976253, 1.6283974664000336, 1.0170745935473338, 0.7872678708604853, 1.2966548769866313, 1.9450539724962557, 1.2966921480468492, 1.621276186867564, 1.2966584813910091, 1.6212634864856605, 1.2965112987995753, 1.017111508546701, 1.0171061725041672, 1.0166435866986299, 0.6297105093245996, 1.2966851606475822, 0.7864441433646662, 1.621271385748075, 1.0170785276048517, 1.8943194967499577, 0.6652701988622998, 1.5231258437019928, 1.9072954142432224, 1.5694423272919593, 1.5694153196126923, 2.042255206143424, 1.85824358863436, 0.997223792261753, 1.8582491520123443, 1.4643950433356183, 2.0422726824860016, 1.2966976881328487, 0.7872684735348935, 1.6212531599411484, 1.017104750500083, 1.0171191008417502, 1.3366974752024352, 1.5977917403221993, 1.2966870746000236, 0.575761466092051, 1.0171122927032337, 0.7118341691657992, 1.0261181646443545, 0.8952036441628208, 1.5691159141556752, 1.8578344618360072, 1.017110221287612, 1.6982823413469643, 1.4598029747411694, 1.0171193064587636, 0.6649587071210343, 1.2966447326367914, 1.5674141148836143, 1.858227896203891, 1.0170672016565352, 1.339587230276726, 1.4685114953973157, 0.9954413641186165, 1.0170515315751751, 1.296692476922995, 1.4684683641784892, 1.01694582511801, 1.0171184648816247, 1.0668381196088939, 1.5231272319812112, -0.08552468560437967, 0.21501761033274416, 1.0171101466914132, 1.6281166916786993, 1.000702969857224, 1.2966858295398316, 1.2939393113378936, 0.7872207218669233, 1.5097637352868594, 1.5694274374320056, 1.0171182254664044, 1.0171174187445795, 0.7871460152944719, 1.4758760972409066, 1.6212483044889512, 1.017109271731142, 1.6983293566891522, 1.6212474540514559, 0.7139516912856361, 1.0152871667412606, 0.7348958647051566, 0.7872730266609467, 1.016663399423385, 0.7872510591282074, 1.9897671571793596, 1.0170886256134264, 1.6897386340955547, 1.4682055269968735, 0.665338175113382, 1.6298990701412448, 0.943798424572341, 1.4685067618597987, 1.6983643824973123, 0.7792356716577303, 0.9416665847942203, 1.46849459420839, 1.016645701328405, 1.0668283473542268, 1.2966862659878995, 0.7871914409267907, 1.6211848309502295, 1.0246890894280396, 1.066800564123956, 1.009009850045469, 1.1134757596902392, 1.0640962373020801, 0.5053443004331482, 1.07426751901519, 1.698353809195316, 1.0171156667050667, 1.6983630980498114, 1.4685081733103291, 0.9948134000454136, 1.0668371464039852, 1.017088171617476, 1.2938155134446212, 1.9878073595761734, 1.2965035568735714, 1.2966927678648263, 1.0070680251620996, 1.2968013960633027, 1.017025630364649, 1.0171023401884811, 0.6653528620200652, 1.01712344175056, 1.2966469994075815, 1.0125450689837208, 0.9028571295823861, 1.2964340028633297, 1.0171380231463014, 1.0171032719166204, 1.2966846346470793, 1.0170878258454055, 1.6212781161007415, 0.9263297195372818, 0.8951937721994645, 0.7868176596123684, 1.0170851837780932, 0.5758449233649177, 1.8582486984760438, 0.6653162672331283, 1.6212806455103326, 1.9982131403560075, 1.0170067477949072, 0.7872682886896704], \"z\": [-0.33011777711416374, -0.31347393845566385, -0.40741637666223424, -0.2481626599985042, -0.31807724966936174, -0.27164401674708527, -0.25872453110123217, -0.329777751231129, -0.3223626684471599, -0.32861584276661254, -0.33011371906114423, -0.3300980175036813, 0.7044467853517538, -0.3748376570770579, -0.3466599041218464, -0.24324597693599925, -0.32817890146433126, -0.3408268098857544, -0.4073111774501216, -0.3857893114204278, -0.023863625355678535, -0.28142839439554196, -0.28343596953580313, -0.2886177017900504, -0.2892392921983506, -0.35523320989280416, -0.32442716121972603, -0.3285214503226984, 0.027667682732101725, -0.36069364774770574, -0.40768230340930534, -0.2557542358041716, -0.30577442467687044, -0.4075940657217222, -0.3053800467144579, -0.32879683680025595, -0.25504296156294815, -0.407558561415198, -0.2562211614797387, -0.28902037345935605, -0.3212332199422863, 0.08526590702391333, -0.34297693383113254, -0.3172899081272597, -0.3742597797855082, -0.28341619226969705, -0.28931464578234095, -0.27807728224920125, -0.3300998634772544, -0.28926687180338506, -0.36113811966942727, -0.32983457880411016, -0.40766385066509514, -0.33558436125027025, -0.41863704973699667, -0.3742761964809383, -0.2818196671040895, -0.2887891239700663, -0.31064478296062237, -0.2611624227045694, -0.07408730914960983, -0.31804819253743244, -0.08554507235715147, -0.3181117835776166, -0.24470800799352238, -0.32971065915124176, -0.2816892643135662, -0.4048372051914745, 0.8682329397600577, -0.31791214804051227, -0.025463873985012674, -0.346343562455792, -0.40550925298949275, -0.3166575784090591, -0.3143291847002953, -0.3659463064029774, -0.4064007852513623, -0.3648943536230338, -0.306037506358082, -0.32974872709671094, -0.32818947628755146, -0.24157775904946693, -0.3486435739172788, -0.40713845399990894, -0.32895390389158013, -0.3180927911509072, -0.4076530634700019, -0.32993761970256763, -0.3300941023091298, -0.2816780814823203, -0.21349998457148073, 0.02580540175162274, -0.34530186697287746, -0.3297086428544946, -0.39383443465124834, -0.3446310550406106, -0.24300625080351224, -0.4251158060291074, -0.34438115623009186, -0.28836417376712636, -0.4072461059402602, 0.8417710568355489, -0.4076080210892381, -0.34576507196484235, -0.3296364045297576, -0.32979058925453464, -0.346343562455792, -0.40718354553827785, -0.31795559716350835, -0.32963712027313663, -0.41188640778899954, -0.32978434687949804, -0.32537894565678327, -0.40763699013547927, -0.3289962405688887, 0.3590820767624319, -0.3299833723670861, -0.3300538395105009, -0.36605485275759636, -0.3576313001945428, -0.3262860931601124, -0.3180692283009074, -0.4075470464180515, -0.32983193032757796, -0.3299587639680656, -0.28332298773113207, -0.27102880878512825, -0.2427743777866787, -0.31083476155905954, -0.2830643038617586, -0.40681383917120384, -0.41553469461493203, -0.40555349940600266, -0.3445921755750533, -0.4067118259354771, -0.33899866857301525, -0.40265824739840034, -0.32990210438040785, -0.32990132102666186, -0.32303328277010035, 0.26022769092480486, -0.40718961888617633, -0.2659891658010373, -0.34637785757797057, -0.32911387100208844, 0.8717696820764248, -0.27033638683457684, -0.36367415223333105, 0.5644786371769845, -0.3674801484349138, -0.3659842510400337, -0.4262536109197901, -0.28895234907780676, 0.13419184113741547, -0.2890230121689553, -0.3500104318808323, -0.42575898876642054, -0.40746162553633475, -0.28339698448708894, -0.3462443755376656, -0.3295377579972986, -0.3300367892553177, -0.30615673972977486, 0.6471940245982161, -0.40740257336299934, -0.350238811793336, -0.3299924889721608, -0.31494990703104153, 0.43827166054535194, -0.31641741974418125, -0.352266308038759, -0.38769834901319156, -0.32994289554163325, -0.41086870180982027, -0.3616980983801577, -0.3298134019956254, -0.09833174804103575, -0.4061968368142134, 0.19135087941160575, -0.2856978437447164, -0.32727688319962667, -0.3208741709032752, -0.3659408875227946, 0.0837448759056877, -0.32895326336210756, -0.4067770709343057, -0.3651068046490535, -0.3165340142333284, -0.3300588980411548, -0.361110080567962, -0.3651759600061484, -0.27513163000410507, -0.25223729657698707, -0.3256093805250557, -0.23458103478443643, -0.37298485048326063, -0.4074789075178673, -0.3048228951416367, -0.2825581756443739, -0.33231628292462906, -0.3670796472931868, -0.3300862220543741, -0.33006795822142626, -0.27694650481158023, -0.35171157401374276, -0.34583932870647416, -0.3297848383271212, -0.40953805555524075, -0.3460277820490924, -0.3249552910588397, -0.27672538105659106, -0.2715688679822371, -0.28309152848938385, -0.13343101100113985, -0.28334339817786536, -0.35358847919463227, -0.3292595811162593, -0.21413723387203504, -0.3616552877682465, -0.2704636384270045, 1.0321959719101725, -0.3706624448470436, -0.3660543099261024, -0.4125504973446738, -0.16425198019475312, -0.36124817340050047, -0.3647753921139483, -0.3229734337068076, -0.3606880269484712, -0.40695285520251984, -0.28059236916432334, -0.34512892615654217, -0.34876234940240736, -0.36054969896175815, -0.18977036626148974, -0.24728752147917382, -0.25844614925984155, 0.5755022007063137, -0.1512718757087098, -0.4118459981440236, -0.32978877724742034, -0.41230154142527653, -0.36617114368893383, 0.5755621920451259, -0.3611643369760222, -0.32927243028385217, -0.2992855542329588, -0.3083702631909231, -0.4045212017016398, -0.4071797964226666, 0.10458722116466557, -0.40472179922190255, -0.3286589297715193, -0.3294826029732111, -0.2716766430959115, -0.3300002327540621, -0.39881759672173095, -0.2438251817883033, -0.09795621946646779, -0.39457191075181314, -0.32927932462004966, -0.3223518904190766, -0.4037524433341898, -0.3277205690819551, -0.3466188803818491, -0.4147085969838785, -0.3165940798800778, -0.09085227679592063, -0.3249186270347723, -0.3548596341989359, -0.2894217023723595, -0.2525958788389195, -0.3465548097493377, -0.3070260819937953, -0.32816595191638415, -0.28373932416506836]}, {\"customdata\": [[\"X13\"], [\"Scrypt\"], [\"CryptoNight\"], [\"DPoS\"], [\"Scrypt\"], [\"DPoS\"], [\"CryptoNight\"], [\"Semux BFT consensus\"], [\"Scrypt\"], [\"CryptoNight Heavy\"], [\"DPoS\"], [\"DPoS\"], [\"DPoS\"], [\"DPoS\"], [\"SHA-256\"]], \"hovertemplate\": \"<b>%{hovertext}</b><br><br>Class=%{marker.color}<br>PC3=%{x}<br>PC2=%{y}<br>PC1=%{z}<br>Algorithm=%{customdata[0]}<extra></extra>\", \"hovertext\": [\"EliteCoin\", \"MoonCoin\", \"ByteCoin\", \"ARK\", \"gCn Coin\", \"Lamden Tau\", \"TurtleCoin\", \"Semux\", \"Lynx\", \"Qwertycoin\", \"ALAX\", \"Lisk\", \"EOS\", \"Oxycoin\", \"ZEPHYR\"], \"legendgroup\": \"4\", \"marker\": {\"color\": [4, 4, 4, 4, 4, 4, 4, 4, 4, 4, 4, 4, 4, 4, 4], \"coloraxis\": \"coloraxis\", \"symbol\": \"diamond\"}, \"mode\": \"markers\", \"name\": \"4\", \"scene\": \"scene\", \"showlegend\": true, \"type\": \"scatter3d\", \"x\": [-0.5754066888240863, -0.043843388288442774, 0.380971688658327, -0.5161423527634954, -0.0850244886758842, -0.5161777431689069, 0.4256407083556709, -0.4249274207105101, -0.4949686446410852, 0.42473306862848315, -0.5163348980249519, -0.5161444972848271, -0.5163570579947022, -0.5163807814697575, -0.2677039142057217], \"y\": [1.7213607565738431, -1.3352549555281255, -2.304933277077435, 1.7765663895228159, -1.177373120210544, 1.776465492424655, -2.7495181324157065, 1.7279528485086395, 0.16931594681937817, -2.2964255471538824, 1.776534525024687, 1.776554864007513, 1.7770193017578708, 1.7770632164873812, 0.8119509627321814], \"z\": [2.291662779787416, 2.5577192015588865, 3.8485336119724516, 3.750870502270688, 3.2453209959834384, 3.7557203708036404, 8.023278776182705, 3.9606460114046205, 2.2590373091998353, 3.097667961110157, 3.7679481538308033, 3.7512618057105724, 3.7611204991581646, 3.7623633906830065, 2.4835063554944825]}, {\"customdata\": [[\"SHA-256\"], [\"Ethash\"], [\"Scrypt\"], [\"CryptoNight-V7\"], [\"Ethash\"], [\"Equihash\"], [\"Multiple\"], [\"Scrypt\"], [\"X11\"], [\"Scrypt\"], [\"Multiple\"], [\"SHA-256\"], [\"Scrypt\"], [\"Scrypt\"], [\"Quark\"], [\"Groestl\"], [\"Scrypt\"], [\"Scrypt\"], [\"Scrypt\"], [\"X11\"], [\"Multiple\"], [\"SHA-256\"], [\"Scrypt\"], [\"Scrypt\"], [\"Scrypt\"], [\"Scrypt\"], [\"Scrypt\"], [\"NeoScrypt\"], [\"Scrypt\"], [\"Scrypt\"], [\"Scrypt\"], [\"Scrypt\"], [\"SHA-256\"], [\"Scrypt\"], [\"Scrypt\"], [\"Scrypt\"], [\"Scrypt\"], [\"HybridScryptHash256\"], [\"Scrypt\"], [\"Scrypt\"], [\"SHA-256\"], [\"Scrypt\"], [\"Scrypt\"], [\"Scrypt\"], [\"Scrypt\"], [\"SHA-256\"], [\"SHA-256\"], [\"SHA-256\"], [\"SHA-256\"], [\"SHA-256\"], [\"X11\"], [\"Scrypt\"], [\"Lyra2REv2\"], [\"Scrypt\"], [\"SHA-256\"], [\"CryptoNight\"], [\"Scrypt\"], [\"Scrypt\"], [\"Scrypt\"], [\"Scrypt\"], [\"Scrypt\"], [\"Scrypt\"], [\"Stanford Folding\"], [\"Multiple\"], [\"QuBit\"], [\"Scrypt\"], [\"Scrypt\"], [\"M7 POW\"], [\"Scrypt\"], [\"SHA-256\"], [\"Scrypt\"], [\"X11\"], [\"Lyra2RE\"], [\"SHA-256\"], [\"X11\"], [\"Scrypt\"], [\"Scrypt\"], [\"Ethash\"], [\"Blake2b\"], [\"X11\"], [\"SHA-256\"], [\"Scrypt\"], [\"1GB AES Pattern Search\"], [\"Scrypt\"], [\"SHA-256\"], [\"X11\"], [\"Dagger\"], [\"Scrypt\"], [\"X11GOST\"], [\"Scrypt\"], [\"X11\"], [\"Scrypt\"], [\"X11\"], [\"Equihash\"], [\"CryptoNight\"], [\"SHA-256\"], [\"Multiple\"], [\"Scrypt\"], [\"SHA-256\"], [\"Scrypt\"], [\"Lyra2Z\"], [\"Ethash\"], [\"Equihash\"], [\"Scrypt\"], [\"X11\"], [\"X11\"], [\"CryptoNight\"], [\"Scrypt\"], [\"CryptoNight\"], [\"Lyra2RE\"], [\"X11\"], [\"CryptoNight-V7\"], [\"Scrypt\"], [\"X11\"], [\"Equihash\"], [\"Scrypt\"], [\"Lyra2RE\"], [\"Dagger-Hashimoto\"], [\"Scrypt\"], [\"NIST5\"], [\"Scrypt\"], [\"SHA-256\"], [\"Scrypt\"], [\"CryptoNight-V7\"], [\"Argon2d\"], [\"Blake2b\"], [\"Cloverhash\"], [\"CryptoNight\"], [\"X11\"], [\"Scrypt\"], [\"Scrypt\"], [\"X11\"], [\"X11\"], [\"CryptoNight\"], [\"Time Travel\"], [\"Keccak\"], [\"X11\"], [\"SHA-256\"], [\"Scrypt\"], [\"Scrypt\"], [\"Scrypt\"], [\"Scrypt\"], [\"Scrypt\"], [\"Scrypt\"], [\"CryptoNight\"], [\"Equihash\"], [\"X11\"], [\"NeoScrypt\"], [\"Equihash\"], [\"Dagger\"], [\"Scrypt\"], [\"X11\"], [\"NeoScrypt\"], [\"Ethash\"], [\"NeoScrypt\"], [\"Multiple\"], [\"CryptoNight\"], [\"CryptoNight\"], [\"Ethash\"], [\"X11\"], [\"CryptoNight-V7\"], [\"Scrypt\"], [\"BLAKE256\"], [\"X11\"], [\"NeoScrypt\"], [\"NeoScrypt\"], [\"Scrypt\"], [\"X11\"], [\"SHA-256\"], [\"C11\"], [\"SkunkHash\"], [\"CryptoNight\"], [\"Scrypt\"], [\"Dagger\"], [\"Lyra2REv2\"], [\"Scrypt\"], [\"Scrypt\"], [\"X11\"], [\"Ethash\"], [\"CryptoNight\"], [\"Scrypt\"], [\"IMesh\"], [\"Equihash\"], [\"Lyra2Z\"], [\"X11\"], [\"CryptoNight\"], [\"NIST5\"], [\"Lyra2RE\"], [\"Tribus\"], [\"Lyra2Z\"], [\"CryptoNight\"], [\"CryptoNight Heavy\"], [\"CryptoNight\"], [\"Jump Consistent Hash\"], [\"CryptoNight\"], [\"X16R\"], [\"HMQ1725\"], [\"X11\"], [\"Scrypt\"], [\"CryptoNight-V7\"], [\"Cryptonight-GPU\"], [\"XEVAN\"], [\"SHA-256\"], [\"X11\"], [\"X16R\"], [\"Equihash\"], [\"Lyra2Z\"], [\"SHA-256\"], [\"CryptoNight\"], [\"Blake\"], [\"Blake\"], [\"Equihash\"], [\"Exosis\"], [\"Scrypt\"], [\"Equihash\"], [\"Equihash\"], [\"QuBit\"], [\"SHA-256\"], [\"X13\"], [\"SHA-256\"], [\"Scrypt\"], [\"NeoScrypt\"], [\"Blake\"], [\"Scrypt\"], [\"SHA-256\"], [\"Scrypt\"], [\"Groestl\"], [\"Scrypt\"], [\"Scrypt\"], [\"Multiple\"], [\"Equihash+Scrypt\"], [\"Ethash\"], [\"CryptoNight\"], [\"Equihash\"]], \"hovertemplate\": \"<b>%{hovertext}</b><br><br>Class=%{marker.color}<br>PC3=%{x}<br>PC2=%{y}<br>PC1=%{z}<br>Algorithm=%{customdata[0]}<extra></extra>\", \"hovertext\": [\"Bitcoin\", \"Ethereum\", \"Litecoin\", \"Monero\", \"Ethereum Classic\", \"ZCash\", \"DigiByte\", \"ProsperCoin\", \"Spreadcoin\", \"Argentum\", \"MyriadCoin\", \"ZetaCoin\", \"SexCoin\", \"Quatloo\", \"QuarkCoin\", \"Riecoin\", \"Digitalcoin \", \"Catcoin\", \"CannaCoin\", \"CryptCoin\", \"Verge\", \"DevCoin\", \"EarthCoin\", \"E-Gulden\", \"Einsteinium\", \"Emerald\", \"Franko\", \"FeatherCoin\", \"GrandCoin\", \"GlobalCoin\", \"GoldCoin\", \"Infinite Coin\", \"IXcoin\", \"KrugerCoin\", \"LuckyCoin\", \"Litebar \", \"MegaCoin\", \"MediterraneanCoin\", \"MinCoin\", \"NobleCoin\", \"Namecoin\", \"NyanCoin\", \"RonPaulCoin\", \"StableCoin\", \"SmartCoin\", \"SysCoin\", \"TigerCoin\", \"TerraCoin\", \"UnbreakableCoin\", \"Unobtanium\", \"UroCoin\", \"ViaCoin\", \"Vertcoin\", \"WorldCoin\", \"JouleCoin\", \"DigitalNote \", \"MonaCoin\", \"Gulden\", \"PesetaCoin\", \"Wild Beast Coin\", \"Flo\", \"ArtByte\", \"Folding Coin\", \"Unitus\", \"CypherPunkCoin\", \"OmniCron\", \"GreenCoin\", \"Cryptonite\", \"MasterCoin\", \"SoonCoin\", \"1Credit\", \"MarsCoin \", \"Crypto\", \"Anarchists Prime\", \"BowsCoin\", \"Song Coin\", \"BitZeny\", \"Expanse\", \"Siacoin\", \"MindCoin\", \"I0coin\", \"Revolution VR\", \"HOdlcoin\", \"Gamecredits\", \"CarpeDiemCoin\", \"Adzcoin\", \"SoilCoin\", \"YoCoin\", \"SibCoin\", \"Francs\", \"BolivarCoin\", \"Omni\", \"PizzaCoin\", \"Komodo\", \"Karbo\", \"ZayedCoin\", \"Circuits of Value\", \"DopeCoin\", \"DollarCoin\", \"Shilling\", \"ZCoin\", \"Elementrem\", \"ZClassic\", \"KiloCoin\", \"ArtexCoin\", \"Kurrent\", \"Cannabis Industry Coin\", \"OsmiumCoin\", \"Bikercoins\", \"HexxCoin\", \"PacCoin\", \"Citadel\", \"BeaverCoin\", \"VaultCoin\", \"Zero\", \"Canada eCoin\", \"Zoin\", \"DubaiCoin\", \"EB3coin\", \"Coinonat\", \"BenjiRolls\", \"ILCoin\", \"EquiTrader\", \"Quantum Resistant Ledger\", \"Dynamic\", \"Nano\", \"ChanCoin\", \"Dinastycoin\", \"DigitalPrice\", \"Unify\", \"SocialCoin\", \"ArcticCoin\", \"DAS\", \"LeviarCoin\", \"Bitcore\", \"SmartCash\", \"Onix\", \"Bitcoin Cash\", \"Sojourn Coin\", \"NewYorkCoin\", \"FrazCoin\", \"Kronecoin\", \"AdCoin\", \"Linx\", \"Sumokoin\", \"BitcoinZ\", \"Elements\", \"VIVO Coin\", \"Bitcoin Gold\", \"Pirl\", \"eBoost\", \"Pura\", \"Innova\", \"Ellaism\", \"GoByte\", \"SHIELD\", \"UltraNote\", \"BitCoal\", \"DaxxCoin\", \"AC3\", \"Lethean\", \"PopularCoin\", \"Photon\", \"Sucre\", \"SparksPay\", \"GunCoin\", \"IrishCoin\", \"Pioneer Coin\", \"UnitedBitcoin\", \"Interzone\", \"MUNcoin\", \"Niobio Cash\", \"ShareChain\", \"Travelflex\", \"KREDS\", \"BitFlip\", \"LottoCoin\", \"Crypto Improvement Fund\", \"Callisto Network\", \"BitTube\", \"Poseidon\", \"Aidos Kuneen\", \"Bitrolium\", \"Alpenschillling\", \"FuturoCoin\", \"Monero Classic\", \"Jumpcoin\", \"Infinex\", \"KEYCO\", \"GINcoin\", \"PlatinCoin\", \"Loki\", \"Newton Coin\", \"MassGrid\", \"PluraCoin\", \"Motion\", \"PlusOneCoin\", \"Axe\", \"HexCoin\", \"Webchain\", \"Ryo\", \"Urals Coin\", \"Project Pai\", \"Azart\", \"Xchange\", \"CrypticCoin\", \"Actinium\", \"Bitcoin SV\", \"FREDEnergy\", \"Universal Molecule\", \"Lithium\", \"PirateCash\", \"Exosis\", \"Block-Logic\", \"Beam\", \"Bithereum\", \"SLICE\", \"BLAST\", \"Bitcoin Rhodium\", \"GlobalToken\", \"SolarCoin\", \"UFO Coin\", \"BlakeCoin\", \"Crypto Escudo\", \"Crown Coin\", \"SmileyCoin\", \"Groestlcoin\", \"Bata\", \"Pakcoin\", \"JoinCoin\", \"Vollar\", \"Reality Clash\", \"Beldex\", \"Horizen\"], \"legendgroup\": \"1\", \"marker\": {\"color\": [1, 1, 1, 1, 1, 1, 1, 1, 1, 1, 1, 1, 1, 1, 1, 1, 1, 1, 1, 1, 1, 1, 1, 1, 1, 1, 1, 1, 1, 1, 1, 1, 1, 1, 1, 1, 1, 1, 1, 1, 1, 1, 1, 1, 1, 1, 1, 1, 1, 1, 1, 1, 1, 1, 1, 1, 1, 1, 1, 1, 1, 1, 1, 1, 1, 1, 1, 1, 1, 1, 1, 1, 1, 1, 1, 1, 1, 1, 1, 1, 1, 1, 1, 1, 1, 1, 1, 1, 1, 1, 1, 1, 1, 1, 1, 1, 1, 1, 1, 1, 1, 1, 1, 1, 1, 1, 1, 1, 1, 1, 1, 1, 1, 1, 1, 1, 1, 1, 1, 1, 1, 1, 1, 1, 1, 1, 1, 1, 1, 1, 1, 1, 1, 1, 1, 1, 1, 1, 1, 1, 1, 1, 1, 1, 1, 1, 1, 1, 1, 1, 1, 1, 1, 1, 1, 1, 1, 1, 1, 1, 1, 1, 1, 1, 1, 1, 1, 1, 1, 1, 1, 1, 1, 1, 1, 1, 1, 1, 1, 1, 1, 1, 1, 1, 1, 1, 1, 1, 1, 1, 1, 1, 1, 1, 1, 1, 1, 1, 1, 1, 1, 1, 1, 1, 1, 1, 1, 1, 1, 1, 1, 1, 1, 1, 1, 1, 1, 1, 1, 1, 1, 1, 1, 1, 1, 1, 1, 1, 1, 1, 1, 1, 1, 1], \"coloraxis\": \"coloraxis\", \"symbol\": \"square\"}, \"mode\": \"markers\", \"name\": \"1\", \"scene\": \"scene\", \"showlegend\": true, \"type\": \"scatter3d\", \"x\": [0.1645292832928991, 0.41660535263924103, -0.05052824876903346, 0.42227740994541524, 0.41660767906577223, 0.41463751364460016, 0.31722884209617247, -0.050516001862786715, 0.10106143308430725, -0.050516754414239716, 0.31916257028465483, 0.16449639494606436, -0.050540716718452776, -0.05051499958917794, 0.09673185251307262, 0.127946361797763, -0.05052197679592058, -0.050516340029129914, -0.05051589045987403, 0.10106283164108948, 0.31609789264860055, 0.16052451156905465, -0.05320148230794231, -0.05051952928584584, -0.05056080136124818, -0.05051900884652347, -0.050515093961136, 0.2535737217961439, -0.05069630153581788, -0.05052910548375617, -0.0505234723017088, -0.07004554290406811, 0.16452854665301803, -0.05054569181367061, -0.050519177624164247, -0.050515256775127505, -0.05052318090562171, 0.4420031582028132, -0.050516201339166636, -0.05080559595294294, 0.1645300265954938, -0.0505871396404129, -0.050514915331553084, -0.05051632047120559, -0.05052009557156272, 0.16441729150611262, 0.16452376937121535, 0.16452848146470656, 0.1645339538588206, 0.16453305217859993, 0.10106340172700883, -0.05052001645015425, 0.16795547376990247, -0.05053827440524836, 0.16452474568098172, 0.4192106025990669, -0.05052908280557633, -0.05058251787251697, -0.050544167406237905, -0.05051501968885214, -0.050547715124122664, -0.05068227334287019, 0.45998222656412185, 0.31950593874909844, 0.19137172875642508, -0.05051732655540664, -0.0514152780301835, 0.3769718319302408, -0.05051515651590828, 0.16453055628077906, -0.04891663103815675, 0.10105675018531146, 0.33489347227044775, 0.16453059325343009, 0.10106035229087372, -0.05051895645367321, -0.05052829412853419, 0.41662828688842457, 0.416729069339804, 0.10106026452201146, 0.1645285680549644, -0.05056029467936806, 0.30019104647290223, -0.05052983212141287, 0.1598444254906144, 0.101054633780999, 0.3645449323853994, -0.05051224629167897, 0.24905143084106607, -0.05051620618157075, 0.10106093655749826, -0.05051515586270235, 0.10106379633470781, 0.5995156916120256, 0.42064412818372504, 0.16453180926681615, 0.31930900236566145, -0.05053876767836908, 0.1645311580265197, -0.0505170920055514, 0.3985611412405735, 0.41662478868997793, 0.4146379258574929, -0.050387010805310314, 0.10088041621457941, 0.10105334910193557, 0.42064591369987187, -0.05051518407756283, 0.42064403129095135, 0.33489526735336644, 0.10267599592558593, 0.42228207587053646, -0.050515690302934846, 0.1010739786013658, 0.4146375516337573, -0.050536544447773675, 0.33489157522165697, 0.434414546413923, -0.05046045818173157, 0.06307489307185253, -0.050519129226669846, 0.16426955570778115, -0.050516957307144436, 0.42226715909898727, 0.4993324879114615, 0.4244143087870387, 0.46297796954024867, 0.4202590028809425, 0.10105723462763774, -0.0505189122464863, -0.05051492376735409, 0.10105865875407738, 0.10106340033297374, 0.4206434158626048, 0.4016328995193563, 0.03892877524913687, 0.10105426328432286, 0.16452926735546275, -0.0503327084901042, -0.08382894456681432, -0.05051693607985773, -0.05051762946314523, -0.05052089073846301, -0.05052113995106783, 0.42064523691192246, 0.41378967351752577, 0.10046531624578237, 0.25361599295874815, 0.4146352262019823, 0.36454053776738504, -0.05053657859718525, 0.10102894672241358, 0.25361579102917736, 0.4166323311606252, 0.25361568817440766, 0.3194203531207315, 0.4176308007217887, 0.42064494559158155, 0.41668283492938907, 0.10105452874975468, 0.422195991214736, -0.051351627762419035, 0.10511316631141839, 0.10106304181010947, 0.2536150311074026, 0.25355534234218363, -0.05052450647104411, 0.10106210757225713, 0.1645287472605544, 0.16838201748597995, 0.32204883069369117, 0.4206204143342442, -0.0526708186958886, 0.3645224750721527, 0.16783507231864284, -0.05051722737122546, -0.0535709534917587, 0.1010231474485184, 0.4166856871678085, 0.42064450303221884, -0.05051560628474304, 0.5454230894776659, 0.41462346236590825, 0.3985613756401965, 0.10105801211356706, 0.4206423652032933, 0.06307186964986773, 0.33489479973272623, 0.4106722648981196, 0.39856108741485596, 0.4206561815074991, 0.4447174796812382, 0.41422289368716564, 0.3486884956890292, 0.42053267670507355, 0.1350928906256611, 0.3452831819230383, 0.10106288468468569, -0.05051496892798125, 0.4223081921353769, 0.3819289812911266, 0.1133402113951791, 0.1640803775355928, 0.10106294885773272, 0.13509386526370118, 0.41378432690759726, 0.39856081562686274, 0.16452926807179527, 0.4203512218267276, 0.3672985359431212, 0.36729382402474225, 0.1682497204213048, 0.38426744070295926, -0.0505211577859067, 0.4146351210622481, 0.4146335463471106, 0.19137193786779877, 0.16452202453871576, -0.058811674797421415, 0.1645163025503378, -0.04882357287730955, 0.2527950163072899, 0.3674132545415019, -0.05067940182840853, 0.16452846945988786, -0.05653801798167745, 0.1279411940930926, -0.05051611311006114, -0.05052809413849053, 0.31952037935956956, 0.5426809412057473, 0.41662515896835156, 0.4204417578398242, 0.4146375337994602], \"y\": [-1.2744126564674318, -2.025249532478565, -1.1525154389081291, -2.2020774860729264, -2.025347027753398, -2.2284755798662554, -1.814525922484937, -1.1525101526200465, -0.872929852011554, -1.152527841083094, -1.8096740952160633, -1.2744178055325879, -1.152566022912129, -1.1525470646789036, -0.47126327774424465, -1.147521821100749, -1.1525111474512557, -1.152509526637409, -1.1525068709150368, -0.8729315533796452, -1.810459915791444, -1.2763089507289336, -1.1535204266949122, -1.1525036229767653, -1.1525509397694713, -1.1525094676849283, -1.152507500325899, -1.5938187845089178, -1.1527974838128954, -1.1525076404489998, -1.1525190646242733, -1.1565538453923137, -1.2744112928669806, -1.1525636565463604, -1.1525038301845185, -1.152502812048487, -1.1525061823125278, -2.212023306877159, -1.1525049020491571, -1.1586211069462937, -1.274414032401276, -1.1525186958317581, -1.1525121639073952, -1.1526111830160535, -1.1525159761582853, -1.2745900841482678, -1.2744139925720297, -1.2744204910769934, -1.274447483809418, -1.2744104251426847, -0.8729246210586196, -1.152503608695151, -1.2279540230101695, -1.1525773869751352, -1.2744149070041495, -2.2982966485054233, -1.1525232671472854, -1.1531232158321514, -1.1525225310814424, -1.1525038180413891, -1.1525131300430012, -1.1526368033888053, -2.0785317574042224, -1.8094221951016662, -1.4857950707807601, -1.1524998776412114, -1.1552737380797014, -2.1115544516199467, -1.1525026734655106, -1.2744150129062808, -1.1962870152919145, -0.872926952287673, -2.1903307628010444, -1.2744296188005024, -0.8729282951017184, -1.1525886597787676, -1.1525890184755878, -2.0252994885841145, -2.160856664019148, -0.8729259138509107, -1.274411332484308, -1.1525120317307624, -2.146114132119293, -1.1525125079508647, -1.2753279531636603, -0.87294566616069, -2.193275620431278, -1.1525824926463233, -2.0727795209941227, -1.1525093306475596, -0.8729311516675999, -1.1525026733300847, -0.8729364454258846, -2.2694478201017123, -2.296517135436507, -1.2744123338494702, -1.809590151928083, -1.1525474429859648, -1.2744115287332858, -1.1525121284533586, -2.1603848095419957, -2.0252971395908865, -2.228476342917096, -1.1571771724180644, -0.8728077731075256, -0.8730071889761293, -2.296525321939304, -1.1525035520299773, -2.2965236124207853, -2.1903093289338544, -0.9202853302875785, -2.2021682181082465, -1.1525029014914254, -0.8733879562239093, -2.228473875163421, -1.1525071828051314, -2.190307375715852, -2.215644741268911, -1.1543786760143435, -0.6001952452843736, -1.1525108070476038, -1.2750319441659879, -1.1525310155560606, -2.202105105045887, -2.1901490515341324, -2.17523387953437, -2.1695501670855872, -2.296687301544695, -0.8729575807099094, -1.1525040005029297, -1.1525361111277903, -0.8729424666737847, -0.8729330054707021, -2.2965353421264925, -2.0624511109975647, -1.1461738878973182, -0.8733958366524867, -1.2744126269654992, -1.157499570013528, -1.0908349578649674, -1.1525079795265385, -1.1525350963969456, -1.152536159521596, -1.1525356982019916, -2.2965541952477317, -2.236215697464535, -0.8726162610595707, -1.5937599123504478, -2.22847134556147, -2.1933235349144273, -1.152507119590861, -0.8730161557797627, -1.5937675261688693, -2.025423724394564, -1.5937614781913887, -1.8095566459124373, -2.3286539802480846, -2.296519757937803, -2.0298305228333025, -0.8731522621358262, -2.2023702972989114, -1.1531727805302792, -1.308555108094639, -0.872932741186532, -1.5937554693217866, -1.59385753816338, -1.1525134911838095, -0.8729324318306874, -1.2744112941206347, -1.1689204191877964, -2.1766104763417227, -2.2966179030533014, -1.1529495959126603, -2.193265112440352, -1.2281820031655493, -1.1525163154390092, -1.155013998230871, -0.8730719841270588, -2.0282826558600173, -2.296957147981416, -1.1525108848779793, -2.225817686292015, -2.2284713134778116, -2.1605088739245657, -0.8729590199208261, -2.2965175995204716, -0.6001775553572747, -2.1903156876689853, -2.110898454289744, -2.1603798729619266, -2.2968012638489714, -2.2516257161955697, -2.366277440073752, -2.150860535265029, -2.296750145301691, -1.2258071486489879, -2.15880127314971, -0.8729329828377694, -1.1525125551619169, -2.2029110406387726, -2.1234210114109477, -0.8757478325504046, -1.2745042523292855, -0.8729348766539385, -1.2258435322028371, -2.2302594669360354, -2.160411985935131, -1.2744126282915085, -2.2995560466602916, -2.1805673244391133, -2.1805231499486077, -0.2887415745067353, -2.2335634640517927, -1.1525445403122039, -2.228578451190842, -2.2284726229416227, -1.4858398334908138, -1.274418301242421, -0.3113737342294113, -1.2744538598674007, -1.1991661890101961, -1.5940032388517313, -2.1838393269253156, -1.152642118874019, -1.2744204688547696, -1.1635412387977753, -1.1475215739986724, -1.152502846589707, -1.1525592132557996, -1.809450168757815, -2.233228542129926, -2.0252970628229128, -2.2967594458785148, -2.2284756171750852], \"z\": [-0.1481471367076074, -0.15048426733877332, -0.1590196956852915, -0.15042732755966637, -0.1489285377413771, -0.14198918631862362, 0.15377755411335, -0.16016460461407522, -0.23767055168149928, -0.15978166663557192, -0.09931601279070565, -0.14523541700537543, -0.15704037693926567, -0.15958601251605462, -0.23800891576944322, -0.20397555663174127, -0.1596345539638206, -0.1601468878132695, -0.16023323175511087, -0.2377598004376141, 0.17751941220688378, 0.22925953516521028, 0.08820861215573991, -0.15997980014447627, -0.15559035303032034, -0.15991919140790284, -0.16029017280169117, -0.1806400071186624, -0.139537595432186, -0.15908665258765547, -0.15936383935460646, 1.5866057989438207, -0.14810854356443637, -0.15665653667556367, -0.16000621260959924, -0.16036061697977794, -0.15962072761974433, -0.15477593424984978, -0.16024202885174554, -0.02533080979099248, -0.1481860789152287, -0.1539132324656351, -0.16022152884034627, -0.15831851552863685, -0.15970887527587346, -0.13535365413192865, -0.14765045794782014, -0.1479373670060978, -0.14792050198854248, -0.14851035572800886, -0.23793346308013813, -0.1599382999571766, -0.19082924056670086, -0.15704514053916682, -0.14771768045848546, 0.4514104811798085, -0.1588072799270406, -0.1434266365049391, -0.15752755424437218, -0.1603628286434051, -0.15739270192273275, -0.14363263930943806, -0.14424613789002788, -0.13328262266986787, -0.18874643210320977, -0.1602360318430529, -0.03333225065984692, -0.1215630954214639, -0.1603717055112622, -0.14821382954410242, 0.49082956717216364, -0.23732135869036902, -0.15576767747462736, -0.14795405895578215, -0.23760593943016298, -0.158498042378125, -0.15769120619976182, -0.15155075169973936, 0.36496621878565083, -0.23764128431503873, -0.14810966482924376, -0.15633421747902576, -0.14545261735671708, -0.15893674260812937, 0.269892900965913, -0.2368030583240079, -0.15268661137756206, -0.15918422649285174, -0.13888509321874914, -0.16016188882513843, -0.2376045950866616, -0.16037176393880195, -0.23775442106487796, -0.21550250789389255, 0.29650050492079993, -0.148369458429748, -0.11337861107367549, -0.15754192032906028, -0.1483281313106801, -0.16003559348053364, -0.16198994594951086, -0.1512931908986181, -0.14201078247622587, -0.08720397965943967, -0.22435239164027973, -0.23558538983593216, 0.2964948352871062, -0.16035352688233032, 0.296625410703309, -0.1563074019302626, 0.47644475042639467, -0.1491938819572328, -0.1603218469646579, -0.23049896092573727, -0.14202313113196874, -0.15845726042172673, -0.15602609327470515, -0.16160055674934098, -0.13128781136296036, -0.19740261904557152, -0.15988476141396793, -0.11473598313790989, -0.15970712785325317, -0.14905147119250922, -0.17036210648651473, -0.03495113203823783, -0.16208424534049093, 0.3325749020875183, -0.23681150059909234, -0.16002589333429315, -0.15978970070418425, -0.23720565702080917, -0.23778240488327274, 0.2968893238334417, -0.1565960005243755, -0.11893330325828524, -0.22866719666049384, -0.1481463017325988, -0.08605460421849222, 1.5849589145313403, -0.16012364887957076, -0.15957604947638981, -0.15927737056958063, -0.15926431412512837, 0.29707263214616797, 0.07002335517878815, -0.1922197548534019, -0.18532311416204164, -0.14186934539980783, -0.15144735575839924, -0.15845547130718296, -0.23333231675507787, -0.18516873952029989, -0.1496608760834419, -0.18526880083258132, -0.1235262265268933, 1.1333250139175874, 0.2964776518623243, -0.0746572962430966, -0.23307485271174497, -0.13817724524944264, -0.07661010290071135, 1.0996601388653449, -0.23775643181867478, -0.18532065381077342, -0.1783669572642756, -0.15937553027991236, -0.23768192273713995, -0.14812571607097977, -0.20321670168580416, -0.15026874311461919, 0.30034718648758274, 0.03244651273423855, -0.15095085076140405, -0.17640486274661268, -0.15994861523712534, 0.1467655589019024, -0.23183019329391322, -0.10276694249335776, 0.3043896129083434, -0.16018532925904788, -0.153083394099583, -0.14086158575826005, -0.15977659319746187, -0.2368522336986848, 0.2966599733693766, -0.19746192581327243, -0.156152847964975, -0.17342221820097656, -0.1620742020766856, 0.3005823193676283, 0.5782041207775879, 2.1027426044710187, -0.1566668831421222, 0.3102482821776423, -0.2017078140326488, -0.15290952110701375, -0.23773861353457826, -0.1602098913409009, -0.138059923095108, -0.16720036034291516, -0.13385215505814713, -0.10802024301251464, -0.2377100210793143, -0.20113636745786728, -0.03674421290624319, -0.16147279836991563, -0.14814633926181595, 0.37631436713567534, -0.14291845791732122, -0.1433098182880853, -0.2646845580365496, -0.1548607036840886, -0.1591036070853947, -0.1399321856052985, -0.1417023608562249, -0.18795852432018753, -0.14742333364849083, -0.11966099530626145, -0.1462927363509112, 0.5346848377413727, -0.11057266280112149, -0.09384799018653095, -0.14378308021152303, -0.14793673806419122, 0.5545974431826312, -0.2035370552264493, -0.16028659440863383, -0.15824491087437478, -0.13401680944280317, -0.14039004615174924, -0.15132631130994198, 0.318208824586559, -0.1419902422473947]}, {\"customdata\": [[\"VeChainThor Authority\"], [\"Proof-of-BibleHash\"], [\"SHA-256 + Hive\"], [\"Proof-of-Authority\"], [\"ECC 256K1\"], [\"Leased POS\"]], \"hovertemplate\": \"<b>%{hovertext}</b><br><br>Class=%{marker.color}<br>PC3=%{x}<br>PC2=%{y}<br>PC1=%{z}<br>Algorithm=%{customdata[0]}<extra></extra>\", \"hovertext\": [\"Vechain\", \"BiblePay\", \"LitecoinCash\", \"Poa Network\", \"Acute Angle Cloud\", \"Waves\"], \"legendgroup\": \"3\", \"marker\": {\"color\": [3, 3, 3, 3, 3, 3], \"coloraxis\": \"coloraxis\", \"symbol\": \"x\"}, \"mode\": \"markers\", \"name\": \"3\", \"scene\": \"scene\", \"showlegend\": true, \"type\": \"scatter3d\", \"x\": [7.638715591078933, 16.33720046126859, 14.579039187946625, 7.417255736302421, 9.343111225057642, 17.80251411978809], \"y\": [2.860279953992504, 3.3393629234137063, 3.971200495442574, 2.200883553763091, 2.013875922628369, 2.8956498709879197], \"z\": [4.410741865196918, -0.199036733132836, -0.3732979277795151, -0.36491012396615896, -0.3089053027226825, -0.40454531921638137]}, {\"customdata\": [[\"TRC10\"]], \"hovertemplate\": \"<b>%{hovertext}</b><br><br>Class=%{marker.color}<br>PC3=%{x}<br>PC2=%{y}<br>PC1=%{z}<br>Algorithm=%{customdata[0]}<extra></extra>\", \"hovertext\": [\"BitTorrent\"], \"legendgroup\": \"2\", \"marker\": {\"color\": [2], \"coloraxis\": \"coloraxis\", \"symbol\": \"cross\"}, \"mode\": \"markers\", \"name\": \"2\", \"scene\": \"scene\", \"showlegend\": true, \"type\": \"scatter3d\", \"x\": [-0.8580911830392816], \"y\": [1.752694612445951], \"z\": [34.038104638546166]}],                        {\"coloraxis\": {\"colorbar\": {\"title\": {\"text\": \"Class\"}}, \"colorscale\": [[0.0, \"#0d0887\"], [0.1111111111111111, \"#46039f\"], [0.2222222222222222, \"#7201a8\"], [0.3333333333333333, \"#9c179e\"], [0.4444444444444444, \"#bd3786\"], [0.5555555555555556, \"#d8576b\"], [0.6666666666666666, \"#ed7953\"], [0.7777777777777778, \"#fb9f3a\"], [0.8888888888888888, \"#fdca26\"], [1.0, \"#f0f921\"]]}, \"legend\": {\"title\": {\"text\": \"Class\"}, \"tracegroupgap\": 0, \"x\": 0, \"y\": 1}, \"margin\": {\"t\": 60}, \"scene\": {\"domain\": {\"x\": [0.0, 1.0], \"y\": [0.0, 1.0]}, \"xaxis\": {\"title\": {\"text\": \"PC3\"}}, \"yaxis\": {\"title\": {\"text\": \"PC2\"}}, \"zaxis\": {\"title\": {\"text\": \"PC1\"}}}, \"template\": {\"data\": {\"bar\": [{\"error_x\": {\"color\": \"#2a3f5f\"}, \"error_y\": {\"color\": \"#2a3f5f\"}, \"marker\": {\"line\": {\"color\": \"#E5ECF6\", \"width\": 0.5}}, \"type\": \"bar\"}], \"barpolar\": [{\"marker\": {\"line\": {\"color\": \"#E5ECF6\", \"width\": 0.5}}, \"type\": \"barpolar\"}], \"carpet\": [{\"aaxis\": {\"endlinecolor\": \"#2a3f5f\", \"gridcolor\": \"white\", \"linecolor\": \"white\", \"minorgridcolor\": \"white\", \"startlinecolor\": \"#2a3f5f\"}, \"baxis\": {\"endlinecolor\": \"#2a3f5f\", \"gridcolor\": \"white\", \"linecolor\": \"white\", \"minorgridcolor\": \"white\", \"startlinecolor\": \"#2a3f5f\"}, \"type\": \"carpet\"}], \"choropleth\": [{\"colorbar\": {\"outlinewidth\": 0, \"ticks\": \"\"}, \"type\": \"choropleth\"}], \"contour\": [{\"colorbar\": {\"outlinewidth\": 0, \"ticks\": \"\"}, \"colorscale\": [[0.0, \"#0d0887\"], [0.1111111111111111, \"#46039f\"], [0.2222222222222222, \"#7201a8\"], [0.3333333333333333, \"#9c179e\"], [0.4444444444444444, \"#bd3786\"], [0.5555555555555556, \"#d8576b\"], [0.6666666666666666, \"#ed7953\"], [0.7777777777777778, \"#fb9f3a\"], [0.8888888888888888, \"#fdca26\"], [1.0, \"#f0f921\"]], \"type\": \"contour\"}], \"contourcarpet\": [{\"colorbar\": {\"outlinewidth\": 0, \"ticks\": \"\"}, \"type\": \"contourcarpet\"}], \"heatmap\": [{\"colorbar\": {\"outlinewidth\": 0, \"ticks\": \"\"}, \"colorscale\": [[0.0, \"#0d0887\"], [0.1111111111111111, \"#46039f\"], [0.2222222222222222, \"#7201a8\"], [0.3333333333333333, \"#9c179e\"], [0.4444444444444444, \"#bd3786\"], [0.5555555555555556, \"#d8576b\"], [0.6666666666666666, \"#ed7953\"], [0.7777777777777778, \"#fb9f3a\"], [0.8888888888888888, \"#fdca26\"], [1.0, \"#f0f921\"]], \"type\": \"heatmap\"}], \"heatmapgl\": [{\"colorbar\": {\"outlinewidth\": 0, \"ticks\": \"\"}, \"colorscale\": [[0.0, \"#0d0887\"], [0.1111111111111111, \"#46039f\"], [0.2222222222222222, \"#7201a8\"], [0.3333333333333333, \"#9c179e\"], [0.4444444444444444, \"#bd3786\"], [0.5555555555555556, \"#d8576b\"], [0.6666666666666666, \"#ed7953\"], [0.7777777777777778, \"#fb9f3a\"], [0.8888888888888888, \"#fdca26\"], [1.0, \"#f0f921\"]], \"type\": \"heatmapgl\"}], \"histogram\": [{\"marker\": {\"colorbar\": {\"outlinewidth\": 0, \"ticks\": \"\"}}, \"type\": \"histogram\"}], \"histogram2d\": [{\"colorbar\": {\"outlinewidth\": 0, \"ticks\": \"\"}, \"colorscale\": [[0.0, \"#0d0887\"], [0.1111111111111111, \"#46039f\"], [0.2222222222222222, \"#7201a8\"], [0.3333333333333333, \"#9c179e\"], [0.4444444444444444, \"#bd3786\"], [0.5555555555555556, \"#d8576b\"], [0.6666666666666666, \"#ed7953\"], [0.7777777777777778, \"#fb9f3a\"], [0.8888888888888888, \"#fdca26\"], [1.0, \"#f0f921\"]], \"type\": \"histogram2d\"}], \"histogram2dcontour\": [{\"colorbar\": {\"outlinewidth\": 0, \"ticks\": \"\"}, \"colorscale\": [[0.0, \"#0d0887\"], [0.1111111111111111, \"#46039f\"], [0.2222222222222222, \"#7201a8\"], [0.3333333333333333, \"#9c179e\"], [0.4444444444444444, \"#bd3786\"], [0.5555555555555556, \"#d8576b\"], [0.6666666666666666, \"#ed7953\"], [0.7777777777777778, \"#fb9f3a\"], [0.8888888888888888, \"#fdca26\"], [1.0, \"#f0f921\"]], \"type\": \"histogram2dcontour\"}], \"mesh3d\": [{\"colorbar\": {\"outlinewidth\": 0, \"ticks\": \"\"}, \"type\": \"mesh3d\"}], \"parcoords\": [{\"line\": {\"colorbar\": {\"outlinewidth\": 0, \"ticks\": \"\"}}, \"type\": \"parcoords\"}], \"pie\": [{\"automargin\": true, \"type\": \"pie\"}], \"scatter\": [{\"marker\": {\"colorbar\": {\"outlinewidth\": 0, \"ticks\": \"\"}}, \"type\": \"scatter\"}], \"scatter3d\": [{\"line\": {\"colorbar\": {\"outlinewidth\": 0, \"ticks\": \"\"}}, \"marker\": {\"colorbar\": {\"outlinewidth\": 0, \"ticks\": \"\"}}, \"type\": \"scatter3d\"}], \"scattercarpet\": [{\"marker\": {\"colorbar\": {\"outlinewidth\": 0, \"ticks\": \"\"}}, \"type\": \"scattercarpet\"}], \"scattergeo\": [{\"marker\": {\"colorbar\": {\"outlinewidth\": 0, \"ticks\": \"\"}}, \"type\": \"scattergeo\"}], \"scattergl\": [{\"marker\": {\"colorbar\": {\"outlinewidth\": 0, \"ticks\": \"\"}}, \"type\": \"scattergl\"}], \"scattermapbox\": [{\"marker\": {\"colorbar\": {\"outlinewidth\": 0, \"ticks\": \"\"}}, \"type\": \"scattermapbox\"}], \"scatterpolar\": [{\"marker\": {\"colorbar\": {\"outlinewidth\": 0, \"ticks\": \"\"}}, \"type\": \"scatterpolar\"}], \"scatterpolargl\": [{\"marker\": {\"colorbar\": {\"outlinewidth\": 0, \"ticks\": \"\"}}, \"type\": \"scatterpolargl\"}], \"scatterternary\": [{\"marker\": {\"colorbar\": {\"outlinewidth\": 0, \"ticks\": \"\"}}, \"type\": \"scatterternary\"}], \"surface\": [{\"colorbar\": {\"outlinewidth\": 0, \"ticks\": \"\"}, \"colorscale\": [[0.0, \"#0d0887\"], [0.1111111111111111, \"#46039f\"], [0.2222222222222222, \"#7201a8\"], [0.3333333333333333, \"#9c179e\"], [0.4444444444444444, \"#bd3786\"], [0.5555555555555556, \"#d8576b\"], [0.6666666666666666, \"#ed7953\"], [0.7777777777777778, \"#fb9f3a\"], [0.8888888888888888, \"#fdca26\"], [1.0, \"#f0f921\"]], \"type\": \"surface\"}], \"table\": [{\"cells\": {\"fill\": {\"color\": \"#EBF0F8\"}, \"line\": {\"color\": \"white\"}}, \"header\": {\"fill\": {\"color\": \"#C8D4E3\"}, \"line\": {\"color\": \"white\"}}, \"type\": \"table\"}]}, \"layout\": {\"annotationdefaults\": {\"arrowcolor\": \"#2a3f5f\", \"arrowhead\": 0, \"arrowwidth\": 1}, \"autotypenumbers\": \"strict\", \"coloraxis\": {\"colorbar\": {\"outlinewidth\": 0, \"ticks\": \"\"}}, \"colorscale\": {\"diverging\": [[0, \"#8e0152\"], [0.1, \"#c51b7d\"], [0.2, \"#de77ae\"], [0.3, \"#f1b6da\"], [0.4, \"#fde0ef\"], [0.5, \"#f7f7f7\"], [0.6, \"#e6f5d0\"], [0.7, \"#b8e186\"], [0.8, \"#7fbc41\"], [0.9, \"#4d9221\"], [1, \"#276419\"]], \"sequential\": [[0.0, \"#0d0887\"], [0.1111111111111111, \"#46039f\"], [0.2222222222222222, \"#7201a8\"], [0.3333333333333333, \"#9c179e\"], [0.4444444444444444, \"#bd3786\"], [0.5555555555555556, \"#d8576b\"], [0.6666666666666666, \"#ed7953\"], [0.7777777777777778, \"#fb9f3a\"], [0.8888888888888888, \"#fdca26\"], [1.0, \"#f0f921\"]], \"sequentialminus\": [[0.0, \"#0d0887\"], [0.1111111111111111, \"#46039f\"], [0.2222222222222222, \"#7201a8\"], [0.3333333333333333, \"#9c179e\"], [0.4444444444444444, \"#bd3786\"], [0.5555555555555556, \"#d8576b\"], [0.6666666666666666, \"#ed7953\"], [0.7777777777777778, \"#fb9f3a\"], [0.8888888888888888, \"#fdca26\"], [1.0, \"#f0f921\"]]}, \"colorway\": [\"#636efa\", \"#EF553B\", \"#00cc96\", \"#ab63fa\", \"#FFA15A\", \"#19d3f3\", \"#FF6692\", \"#B6E880\", \"#FF97FF\", \"#FECB52\"], \"font\": {\"color\": \"#2a3f5f\"}, \"geo\": {\"bgcolor\": \"white\", \"lakecolor\": \"white\", \"landcolor\": \"#E5ECF6\", \"showlakes\": true, \"showland\": true, \"subunitcolor\": \"white\"}, \"hoverlabel\": {\"align\": \"left\"}, \"hovermode\": \"closest\", \"mapbox\": {\"style\": \"light\"}, \"paper_bgcolor\": \"white\", \"plot_bgcolor\": \"#E5ECF6\", \"polar\": {\"angularaxis\": {\"gridcolor\": \"white\", \"linecolor\": \"white\", \"ticks\": \"\"}, \"bgcolor\": \"#E5ECF6\", \"radialaxis\": {\"gridcolor\": \"white\", \"linecolor\": \"white\", \"ticks\": \"\"}}, \"scene\": {\"xaxis\": {\"backgroundcolor\": \"#E5ECF6\", \"gridcolor\": \"white\", \"gridwidth\": 2, \"linecolor\": \"white\", \"showbackground\": true, \"ticks\": \"\", \"zerolinecolor\": \"white\"}, \"yaxis\": {\"backgroundcolor\": \"#E5ECF6\", \"gridcolor\": \"white\", \"gridwidth\": 2, \"linecolor\": \"white\", \"showbackground\": true, \"ticks\": \"\", \"zerolinecolor\": \"white\"}, \"zaxis\": {\"backgroundcolor\": \"#E5ECF6\", \"gridcolor\": \"white\", \"gridwidth\": 2, \"linecolor\": \"white\", \"showbackground\": true, \"ticks\": \"\", \"zerolinecolor\": \"white\"}}, \"shapedefaults\": {\"line\": {\"color\": \"#2a3f5f\"}}, \"ternary\": {\"aaxis\": {\"gridcolor\": \"white\", \"linecolor\": \"white\", \"ticks\": \"\"}, \"baxis\": {\"gridcolor\": \"white\", \"linecolor\": \"white\", \"ticks\": \"\"}, \"bgcolor\": \"#E5ECF6\", \"caxis\": {\"gridcolor\": \"white\", \"linecolor\": \"white\", \"ticks\": \"\"}}, \"title\": {\"x\": 0.05}, \"xaxis\": {\"automargin\": true, \"gridcolor\": \"white\", \"linecolor\": \"white\", \"ticks\": \"\", \"title\": {\"standoff\": 15}, \"zerolinecolor\": \"white\", \"zerolinewidth\": 2}, \"yaxis\": {\"automargin\": true, \"gridcolor\": \"white\", \"linecolor\": \"white\", \"ticks\": \"\", \"title\": {\"standoff\": 15}, \"zerolinecolor\": \"white\", \"zerolinewidth\": 2}}}, \"width\": 800},                        {\"responsive\": true}                    ).then(function(){\n",
       "                            \n",
       "var gd = document.getElementById('a97eb15c-3018-462d-a42a-8465639dc5e6');\n",
       "var x = new MutationObserver(function (mutations, observer) {{\n",
       "        var display = window.getComputedStyle(gd).display;\n",
       "        if (!display || display === 'none') {{\n",
       "            console.log([gd, 'removed!']);\n",
       "            Plotly.purge(gd);\n",
       "            observer.disconnect();\n",
       "        }}\n",
       "}});\n",
       "\n",
       "// Listen for the removal of the full notebook cells\n",
       "var notebookContainer = gd.closest('#notebook-container');\n",
       "if (notebookContainer) {{\n",
       "    x.observe(notebookContainer, {childList: true});\n",
       "}}\n",
       "\n",
       "// Listen for the clearing of the current output cell\n",
       "var outputEl = gd.closest('.output');\n",
       "if (outputEl) {{\n",
       "    x.observe(outputEl, {childList: true});\n",
       "}}\n",
       "\n",
       "                        })                };                });            </script>        </div>"
      ]
     },
     "metadata": {},
     "output_type": "display_data"
    }
   ],
   "source": [
    "# Creating a 3D-Scatter with the PCA data and the clusters\n",
    "fig = px.scatter_3d(\n",
    "    clustered_df,\n",
    "    x=\"PC3\",\n",
    "    y=\"PC2\",\n",
    "    z=\"PC1\",\n",
    "    color=\"Class\",\n",
    "    symbol=\"Class\",\n",
    "    width=800,\n",
    "    hover_name=\"CoinName\",\n",
    "    hover_data=[\"Algorithm\"]\n",
    ")\n",
    "fig.update_layout(legend=dict(x=0, y=1))\n",
    "fig.show()\n"
   ]
  },
  {
   "cell_type": "code",
   "execution_count": 112,
   "metadata": {},
   "outputs": [
    {
     "data": {},
     "metadata": {},
     "output_type": "display_data"
    },
    {
     "data": {
      "application/vnd.holoviews_exec.v0+json": "",
      "text/html": [
       "<div id='1423'>\n",
       "\n",
       "\n",
       "\n",
       "\n",
       "\n",
       "  <div class=\"bk-root\" id=\"6bafa078-6f9d-4a5d-8cc1-9684ecc157a7\" data-root-id=\"1423\"></div>\n",
       "</div>\n",
       "<script type=\"application/javascript\">(function(root) {\n",
       "  function embed_document(root) {\n",
       "    var docs_json = {\"10ea999b-7f22-4b05-82f6-adf348061389\":{\"defs\":[],\"roots\":{\"references\":[{\"attributes\":{\"columns\":[{\"id\":\"1429\"},{\"id\":\"1434\"},{\"id\":\"1439\"},{\"id\":\"1444\"},{\"id\":\"1449\"},{\"id\":\"1454\"}],\"height\":300,\"reorderable\":false,\"source\":{\"id\":\"1425\"},\"view\":{\"id\":\"1459\"},\"width\":700},\"id\":\"1457\",\"type\":\"DataTable\"},{\"attributes\":{},\"id\":\"1427\",\"type\":\"StringFormatter\"},{\"attributes\":{},\"id\":\"1443\",\"type\":\"StringEditor\"},{\"attributes\":{},\"id\":\"1433\",\"type\":\"StringEditor\"},{\"attributes\":{},\"id\":\"1453\",\"type\":\"IntEditor\"},{\"attributes\":{},\"id\":\"1438\",\"type\":\"StringEditor\"},{\"attributes\":{\"margin\":[5,5,5,5],\"name\":\"HSpacer02280\",\"sizing_mode\":\"stretch_width\"},\"id\":\"1424\",\"type\":\"Spacer\"},{\"attributes\":{\"editor\":{\"id\":\"1453\"},\"field\":\"Class\",\"formatter\":{\"id\":\"1452\"},\"title\":\"Class\"},\"id\":\"1454\",\"type\":\"TableColumn\"},{\"attributes\":{},\"id\":\"1426\",\"type\":\"Selection\"},{\"attributes\":{},\"id\":\"1437\",\"type\":\"StringFormatter\"},{\"attributes\":{},\"id\":\"1452\",\"type\":\"NumberFormatter\"},{\"attributes\":{\"editor\":{\"id\":\"1438\"},\"field\":\"ProofType\",\"formatter\":{\"id\":\"1437\"},\"title\":\"ProofType\"},\"id\":\"1439\",\"type\":\"TableColumn\"},{\"attributes\":{\"data\":{\"Algorithm\":[\"Scrypt\",\"Scrypt\",\"X13\",\"SHA-256\",\"Ethash\",\"Scrypt\",\"X11\",\"CryptoNight-V7\",\"Ethash\",\"Equihash\",\"SHA-512\",\"Multiple\",\"SHA-256\",\"SHA-256\",\"Scrypt\",\"X15\",\"X11\",\"Scrypt\",\"Scrypt\",\"Scrypt\",\"Multiple\",\"Scrypt\",\"SHA-256\",\"Scrypt\",\"Scrypt\",\"Scrypt\",\"Quark\",\"Groestl\",\"Scrypt\",\"Scrypt\",\"Scrypt\",\"Scrypt\",\"Scrypt\",\"X11\",\"Scrypt\",\"Groestl\",\"Multiple\",\"SHA-256\",\"Scrypt\",\"Scrypt\",\"Scrypt\",\"Scrypt\",\"PoS\",\"Scrypt\",\"Scrypt\",\"NeoScrypt\",\"Scrypt\",\"Scrypt\",\"Scrypt\",\"Scrypt\",\"X11\",\"Scrypt\",\"X11\",\"SHA-256\",\"Scrypt\",\"Scrypt\",\"Scrypt\",\"SHA3\",\"Scrypt\",\"HybridScryptHash256\",\"Scrypt\",\"Scrypt\",\"SHA-256\",\"Scrypt\",\"X13\",\"Scrypt\",\"SHA-256\",\"Scrypt\",\"X13\",\"NeoScrypt\",\"Scrypt\",\"Scrypt\",\"Scrypt\",\"Scrypt\",\"Scrypt\",\"Scrypt\",\"X11\",\"X11\",\"SHA-256\",\"Multiple\",\"SHA-256\",\"PHI1612\",\"X11\",\"SHA-256\",\"SHA-256\",\"SHA-256\",\"X11\",\"Scrypt\",\"Scrypt\",\"Scrypt\",\"Scrypt\",\"Lyra2REv2\",\"Scrypt\",\"X11\",\"Multiple\",\"SHA-256\",\"X13\",\"Scrypt\",\"CryptoNight\",\"CryptoNight\",\"Shabal256\",\"Counterparty\",\"Scrypt\",\"SHA-256\",\"Groestl\",\"Scrypt\",\"Scrypt\",\"Scrypt\",\"X13\",\"Scrypt\",\"Scrypt\",\"Scrypt\",\"Scrypt\",\"X13\",\"Scrypt\",\"Stanford Folding\",\"X11\",\"Multiple\",\"QuBit\",\"Scrypt\",\"Scrypt\",\"Scrypt\",\"M7 POW\",\"Scrypt\",\"SHA-256\",\"Scrypt\",\"X11\",\"SHA3\",\"X11\",\"Lyra2RE\",\"SHA-256\",\"QUAIT\",\"X11\",\"X11\",\"Scrypt\",\"Scrypt\",\"Scrypt\",\"Ethash\",\"X13\",\"Blake2b\",\"SHA-256\",\"X15\",\"X11\",\"SHA-256\",\"BLAKE256\",\"Scrypt\",\"1GB AES Pattern Search\",\"SHA-256\",\"X11\",\"Scrypt\",\"SHA-256\",\"SHA-256\",\"NIST5\",\"Scrypt\",\"Scrypt\",\"X11\",\"Dagger\",\"Scrypt\",\"X11GOST\",\"X11\",\"Scrypt\",\"SHA-256\",\"Scrypt\",\"PoS\",\"Scrypt\",\"X11\",\"X11\",\"SHA-256\",\"SHA-256\",\"NIST5\",\"X11\",\"Scrypt\",\"POS 3.0\",\"Scrypt\",\"Scrypt\",\"Scrypt\",\"X13\",\"X11\",\"X11\",\"Equihash\",\"X11\",\"Scrypt\",\"CryptoNight\",\"SHA-256\",\"SHA-256\",\"X11\",\"Scrypt\",\"Multiple\",\"Scrypt\",\"Scrypt\",\"Scrypt\",\"SHA-256\",\"Scrypt\",\"Scrypt\",\"SHA-256D\",\"PoS\",\"Scrypt\",\"X11\",\"Lyra2Z\",\"PoS\",\"X13\",\"X14\",\"PoS\",\"SHA-256D\",\"Ethash\",\"Equihash\",\"DPoS\",\"X11\",\"Scrypt\",\"X11\",\"X13\",\"X11\",\"PoS\",\"Scrypt\",\"Scrypt\",\"X11\",\"PoS\",\"X11\",\"SHA-256\",\"Scrypt\",\"X11\",\"Scrypt\",\"Scrypt\",\"X11\",\"CryptoNight\",\"Scrypt\",\"Scrypt\",\"Scrypt\",\"Scrypt\",\"Quark\",\"QuBit\",\"Scrypt\",\"CryptoNight\",\"Lyra2RE\",\"Scrypt\",\"SHA-256\",\"X11\",\"Scrypt\",\"X11\",\"Scrypt\",\"CryptoNight-V7\",\"Scrypt\",\"Scrypt\",\"Scrypt\",\"X13\",\"X11\",\"Equihash\",\"Scrypt\",\"Scrypt\",\"Lyra2RE\",\"Scrypt\",\"Dagger-Hashimoto\",\"X11\",\"Blake2S\",\"X11\",\"Scrypt\",\"PoS\",\"X11\",\"NIST5\",\"PoS\",\"X11\",\"Scrypt\",\"Scrypt\",\"Scrypt\",\"SHA-256\",\"X11\",\"Scrypt\",\"Scrypt\",\"SHA-256\",\"PoS\",\"Scrypt\",\"X15\",\"SHA-256\",\"Scrypt\",\"POS 3.0\",\"CryptoNight-V7\",\"536\",\"Argon2d\",\"Blake2b\",\"Cloverhash\",\"CryptoNight\",\"NIST5\",\"X11\",\"NIST5\",\"Skein\",\"Scrypt\",\"X13\",\"Scrypt\",\"X11\",\"X11\",\"Scrypt\",\"CryptoNight\",\"X13\",\"Time Travel\",\"Scrypt\",\"Keccak\",\"SkunkHash v2 Raptor\",\"X11\",\"Skein\",\"SHA-256\",\"X11\",\"Scrypt\",\"VeChainThor Authority\",\"Scrypt\",\"PoS\",\"Scrypt\",\"Scrypt\",\"Scrypt\",\"Scrypt\",\"Scrypt\",\"Scrypt\",\"Scrypt\",\"CryptoNight\",\"SHA-512\",\"Ouroboros\",\"X11\",\"Equihash\",\"NeoScrypt\",\"X11\",\"Scrypt\",\"NeoScrypt\",\"Lyra2REv2\",\"Equihash\",\"Scrypt\",\"SHA-256\",\"NIST5\",\"PHI1612\",\"Dagger\",\"Scrypt\",\"Quark\",\"Scrypt\",\"POS 2.0\",\"Scrypt\",\"SHA-256\",\"X11\",\"NeoScrypt\",\"Ethash\",\"NeoScrypt\",\"X11\",\"DPoS\",\"NIST5\",\"X13\",\"Multiple\",\"Scrypt\",\"CryptoNight\",\"CryptoNight\",\"Ethash\",\"NIST5\",\"Quark\",\"X11\",\"CryptoNight-V7\",\"Scrypt\",\"Scrypt\",\"Scrypt\",\"X11\",\"BLAKE256\",\"X11\",\"NeoScrypt\",\"Quark\",\"NeoScrypt\",\"Scrypt\",\"Scrypt\",\"Scrypt\",\"X11\",\"X11\",\"SHA-256\",\"C11\",\"POS 3.0\",\"Ethash\",\"Scrypt\",\"CryptoNight\",\"SkunkHash\",\"Scrypt\",\"CryptoNight\",\"Scrypt\",\"Dagger\",\"Lyra2REv2\",\"X13\",\"Proof-of-BibleHash\",\"SHA-256 + Hive\",\"Scrypt\",\"Scrypt\",\"X11\",\"C11\",\"Proof-of-Authority\",\"X11\",\"XEVAN\",\"Scrypt\",\"VBFT\",\"Ethash\",\"CryptoNight\",\"Scrypt\",\"IMesh\",\"NIST5\",\"Scrypt\",\"Scrypt\",\"Equihash\",\"Scrypt\",\"Lyra2Z\",\"Green Protocol\",\"PoS\",\"Scrypt\",\"Semux BFT consensus\",\"X11\",\"Quark\",\"PoS\",\"CryptoNight\",\"X16R\",\"Scrypt\",\"NIST5\",\"Lyra2RE\",\"XEVAN\",\"Tribus\",\"Scrypt\",\"Lyra2Z\",\"CryptoNight\",\"CryptoNight Heavy\",\"CryptoNight\",\"Scrypt\",\"Scrypt\",\"Jump Consistent Hash\",\"SHA-256D\",\"CryptoNight\",\"Scrypt\",\"X15\",\"Scrypt\",\"Quark\",\"SHA-256\",\"DPoS\",\"X16R\",\"HMQ1725\",\"X11\",\"X16R\",\"Quark\",\"Quark\",\"Scrypt\",\"Lyra2REv2\",\"Quark\",\"Scrypt\",\"Scrypt\",\"CryptoNight-V7\",\"Cryptonight-GPU\",\"XEVAN\",\"CryptoNight Heavy\",\"X11\",\"X11\",\"Scrypt\",\"PoS\",\"SHA-256\",\"Keccak\",\"X11\",\"X11\",\"Scrypt\",\"SHA-512\",\"X16R\",\"ECC 256K1\",\"Equihash\",\"XEVAN\",\"Lyra2Z\",\"SHA-256\",\"XEVAN\",\"X11\",\"CryptoNight\",\"Quark\",\"Blake\",\"Blake\",\"Equihash\",\"Exosis\",\"Scrypt\",\"Scrypt\",\"Equihash\",\"Quark\",\"Equihash\",\"Quark\",\"Scrypt\",\"QuBit\",\"X11\",\"Scrypt\",\"XEVAN\",\"SHA-256D\",\"X11\",\"SHA-256\",\"X13\",\"SHA-256\",\"X11\",\"DPoS\",\"Scrypt\",\"Scrypt\",\"X11\",\"NeoScrypt\",\"Scrypt\",\"Blake\",\"Scrypt\",\"SHA-256\",\"Scrypt\",\"X11\",\"Scrypt\",\"Scrypt\",\"SHA-256\",\"X11\",\"SHA-256\",\"Scrypt\",\"Scrypt\",\"Scrypt\",\"Groestl\",\"X11\",\"Scrypt\",\"PoS\",\"Scrypt\",\"Scrypt\",\"X11\",\"SHA-256\",\"DPoS\",\"Scrypt\",\"Scrypt\",\"NeoScrypt\",\"Multiple\",\"X13\",\"Equihash+Scrypt\",\"DPoS\",\"Ethash\",\"DPoS\",\"SHA-256\",\"Leased POS\",\"PoS\",\"TRC10\",\"PoS\",\"SHA-256\",\"Scrypt\",\"CryptoNight\",\"Equihash\",\"Scrypt\"],\"Class\":{\"__ndarray__\":\"AAAAAAAAAAAEAAAAAQAAAAEAAAABAAAAAAAAAAEAAAABAAAAAQAAAAAAAAABAAAAAAAAAAAAAAABAAAAAAAAAAEAAAABAAAAAAAAAAAAAAABAAAABAAAAAEAAAABAAAAAQAAAAAAAAABAAAAAQAAAAEAAAAAAAAAAQAAAAAAAAABAAAAAQAAAAAAAAAAAAAAAQAAAAEAAAABAAAAAQAAAAEAAAABAAAAAAAAAAAAAAABAAAAAQAAAAEAAAABAAAAAQAAAAAAAAAAAAAAAQAAAAAAAAABAAAAAQAAAAEAAAABAAAAAAAAAAEAAAABAAAAAAAAAAEAAAAAAAAAAAAAAAAAAAABAAAAAQAAAAEAAAAAAAAAAAAAAAAAAAAAAAAAAAAAAAEAAAABAAAAAQAAAAAAAAAAAAAAAQAAAAAAAAABAAAAAAAAAAAAAAABAAAAAQAAAAEAAAABAAAAAAAAAAAAAAABAAAAAAAAAAEAAAABAAAAAAAAAAAAAAABAAAAAAAAAAAAAAAEAAAAAQAAAAAAAAAAAAAAAQAAAAAAAAAAAAAAAQAAAAAAAAABAAAAAAAAAAEAAAAAAAAAAQAAAAAAAAAAAAAAAQAAAAEAAAAAAAAAAQAAAAEAAAABAAAAAAAAAAEAAAABAAAAAQAAAAEAAAABAAAAAAAAAAAAAAABAAAAAQAAAAEAAAAAAAAAAQAAAAAAAAABAAAAAQAAAAAAAAABAAAAAAAAAAEAAAAAAAAAAAAAAAEAAAABAAAAAAAAAAEAAAABAAAAAAAAAAAAAAABAAAAAAAAAAEAAAAAAAAAAAAAAAAAAAABAAAAAQAAAAEAAAABAAAAAAAAAAAAAAAAAAAAAAAAAAAAAAABAAAAAQAAAAAAAAAAAAAAAAAAAAAAAAAAAAAAAQAAAAAAAAAAAAAAAAAAAAAAAAAAAAAAAQAAAAAAAAABAAAAAAAAAAAAAAABAAAAAAAAAAEAAAAAAAAAAAAAAAEAAAAAAAAAAQAAAAAAAAABAAAAAAAAAAEAAAAAAAAAAAAAAAAAAAAAAAAAAQAAAAAAAAAAAAAAAAAAAAAAAAAAAAAAAQAAAAEAAAAEAAAAAAAAAAEAAAABAAAAAAAAAAAAAAAAAAAAAAAAAAAAAAABAAAAAAAAAAAAAAAAAAAAAAAAAAAAAAAAAAAAAAAAAAAAAAABAAAAAAAAAAAAAAAAAAAAAAAAAAAAAAAAAAAAAQAAAAEAAAABAAAAAAAAAAAAAAAAAAAAAAAAAAEAAAAAAAAAAQAAAAAAAAAAAAAAAQAAAAAAAAABAAAAAQAAAAAAAAABAAAAAQAAAAAAAAABAAAAAAAAAAAAAAAAAAAAAQAAAAAAAAAAAAAAAQAAAAAAAAAAAAAAAAAAAAAAAAAAAAAAAAAAAAAAAAABAAAAAAAAAAEAAAAAAAAAAAAAAAAAAAAAAAAAAQAAAAAAAAABAAAAAAAAAAEAAAABAAAAAQAAAAEAAAAAAAAAAQAAAAAAAAAAAAAAAQAAAAAAAAABAAAAAQAAAAEAAAAAAAAAAQAAAAAAAAABAAAABAAAAAEAAAAAAAAAAQAAAAAAAAABAAAAAAAAAAAAAAADAAAAAQAAAAAAAAABAAAAAQAAAAEAAAABAAAAAQAAAAAAAAAAAAAAAQAAAAAAAAAAAAAAAAAAAAEAAAAAAAAAAQAAAAAAAAABAAAAAAAAAAEAAAAAAAAAAAAAAAAAAAAAAAAAAQAAAAAAAAAAAAAAAQAAAAAAAAAAAAAAAAAAAAEAAAABAAAAAQAAAAEAAAAAAAAABAAAAAAAAAAAAAAAAQAAAAAAAAABAAAAAQAAAAEAAAAAAAAAAAAAAAEAAAABAAAAAAAAAAAAAAABAAAAAAAAAAEAAAABAAAAAQAAAAAAAAABAAAAAQAAAAAAAAAAAAAAAAAAAAEAAAABAAAAAQAAAAAAAAAAAAAAAAAAAAQAAAABAAAAAAAAAAEAAAABAAAAAQAAAAEAAAAAAAAAAwAAAAMAAAABAAAAAQAAAAEAAAAAAAAAAwAAAAAAAAAAAAAAAAAAAAAAAAABAAAAAQAAAAEAAAABAAAAAAAAAAAAAAAAAAAAAQAAAAAAAAABAAAAAAAAAAAAAAAAAAAABAAAAAEAAAAAAAAAAAAAAAEAAAAAAAAAAAAAAAEAAAABAAAAAAAAAAEAAAAAAAAAAQAAAAEAAAABAAAAAQAAAAAAAAAAAAAAAQAAAAAAAAABAAAAAAAAAAAAAAAEAAAAAAAAAAAAAAAAAAAAAQAAAAEAAAABAAAAAAAAAAAAAAAAAAAAAAAAAAAAAAAAAAAAAQAAAAAAAAABAAAAAQAAAAEAAAAEAAAAAAAAAAAAAAAAAAAAAAAAAAEAAAAAAAAAAAAAAAEAAAAAAAAAAAAAAAEAAAADAAAAAQAAAAAAAAABAAAAAQAAAAAAAAAAAAAAAQAAAAAAAAABAAAAAQAAAAEAAAABAAAAAQAAAAAAAAABAAAAAAAAAAEAAAAAAAAAAAAAAAEAAAAAAAAAAAAAAAAAAAAAAAAAAAAAAAEAAAABAAAAAQAAAAAAAAAEAAAAAAAAAAEAAAAAAAAAAQAAAAAAAAABAAAAAAAAAAAAAAAAAAAAAAAAAAEAAAAAAAAAAAAAAAAAAAABAAAAAAAAAAEAAAAAAAAAAQAAAAAAAAAAAAAAAAAAAAEAAAABAAAAAAAAAAAAAAAEAAAAAAAAAAAAAAAAAAAAAQAAAAAAAAABAAAABAAAAAEAAAAEAAAAAAAAAAMAAAAAAAAAAgAAAAAAAAAEAAAAAAAAAAEAAAABAAAAAAAAAA==\",\"dtype\":\"int32\",\"order\":\"little\",\"shape\":[532]},\"CoinName\":[\"42 Coin\",\"404Coin\",\"EliteCoin\",\"Bitcoin\",\"Ethereum\",\"Litecoin\",\"Dash\",\"Monero\",\"Ethereum Classic\",\"ZCash\",\"Bitshares\",\"DigiByte\",\"BitcoinDark\",\"PayCoin\",\"ProsperCoin\",\"KoboCoin\",\"Spreadcoin\",\"Argentum\",\"Aurora Coin\",\"BlueCoin\",\"MyriadCoin\",\"MoonCoin\",\"ZetaCoin\",\"SexCoin\",\"Quatloo\",\"EnergyCoin\",\"QuarkCoin\",\"Riecoin\",\"Digitalcoin \",\"BitBar\",\"Catcoin\",\"CryptoBullion\",\"CannaCoin\",\"CryptCoin\",\"CasinoCoin\",\"Diamond\",\"Verge\",\"DevCoin\",\"EarthCoin\",\"E-Gulden\",\"Einsteinium\",\"Emerald\",\"Exclusive Coin\",\"FlutterCoin\",\"Franko\",\"FeatherCoin\",\"GrandCoin\",\"GlobalCoin\",\"GoldCoin\",\"HoboNickels\",\"HyperStake\",\"Infinite Coin\",\"IOCoin\",\"IXcoin\",\"KrugerCoin\",\"LuckyCoin\",\"Litebar \",\"MaxCoin\",\"MegaCoin\",\"MediterraneanCoin\",\"MintCoin\",\"MinCoin\",\"MazaCoin\",\"Nautilus Coin\",\"NavCoin\",\"NobleCoin\",\"Namecoin\",\"NyanCoin\",\"OpalCoin\",\"Orbitcoin\",\"PotCoin\",\"PhoenixCoin\",\"Reddcoin\",\"RonPaulCoin\",\"StableCoin\",\"SmartCoin\",\"SuperCoin\",\"SyncCoin\",\"SysCoin\",\"TeslaCoin\",\"TigerCoin\",\"TittieCoin\",\"TorCoin\",\"TerraCoin\",\"UnbreakableCoin\",\"Unobtanium\",\"UroCoin\",\"UnitaryStatus Dollar\",\"UltraCoin\",\"ViaCoin\",\"VeriCoin\",\"Vertcoin\",\"WorldCoin\",\"X11 Coin\",\"Crypti\",\"JouleCoin\",\"StealthCoin\",\"ZCC Coin\",\"ByteCoin\",\"DigitalNote \",\"BurstCoin\",\"StorjCoin\",\"MonaCoin\",\"Neutron\",\"FairCoin\",\"Gulden\",\"RubyCoin\",\"PesetaCoin\",\"Kore\",\"Wild Beast Coin\",\"Dnotes\",\"Flo\",\"8BIT Coin\",\"Sativa Coin\",\"ArtByte\",\"Folding Coin\",\"Ucoin\",\"Unitus\",\"CypherPunkCoin\",\"OmniCron\",\"Vtorrent\",\"GreenCoin\",\"Cryptonite\",\"MasterCoin\",\"SoonCoin\",\"1Credit\",\"IslaCoin\",\"Nexus\",\"MarsCoin \",\"Crypto\",\"Anarchists Prime\",\"Droidz\",\"BowsCoin\",\"Squall Coin\",\"Song Coin\",\"BitZeny\",\"Diggits\",\"Expanse\",\"Paycon\",\"Siacoin\",\"Emercoin\",\"EverGreenCoin\",\"MindCoin\",\"I0coin\",\"Decred\",\"Revolution VR\",\"HOdlcoin\",\"EDRCoin\",\"Hitcoin\",\"Gamecredits\",\"DubaiCoin\",\"CarpeDiemCoin\",\"PWR Coin\",\"BillaryCoin\",\"GPU Coin\",\"Adzcoin\",\"SoilCoin\",\"YoCoin\",\"SibCoin\",\"EuropeCoin\",\"ZeitCoin\",\"SwingCoin\",\"SafeExchangeCoin\",\"Nebuchadnezzar\",\"Francs\",\"BolivarCoin\",\"Ratecoin\",\"Revenu\",\"Clockcoin\",\"VIP Tokens\",\"BitSend\",\"Omni\",\"Let it Ride\",\"PutinCoin\",\"iBankCoin\",\"Frankywillcoin\",\"MudraCoin\",\"PizzaCoin\",\"Lutetium Coin\",\"Komodo\",\"GoldBlocks\",\"CarterCoin\",\"Karbo\",\"BitTokens\",\"ZayedCoin\",\"MustangCoin\",\"ZoneCoin\",\"Circuits of Value\",\"RootCoin\",\"DopeCoin\",\"BitCurrency\",\"DollarCoin\",\"Swiscoin\",\"Shilling\",\"BuzzCoin\",\"Opair\",\"PesoBit\",\"Halloween Coin\",\"ZCoin\",\"CoffeeCoin\",\"RoyalCoin\",\"GanjaCoin V2\",\"TeamUP\",\"LanaCoin\",\"Elementrem\",\"ZClassic\",\"ARK\",\"InsaneCoin\",\"KiloCoin\",\"ArtexCoin\",\"EmberCoin\",\"XenixCoin\",\"FreeCoin\",\"PLNCoin\",\"AquariusCoin\",\"Kurrent\",\"Creatio\",\"Eternity\",\"Eurocoin\",\"BitcoinFast\",\"Stakenet\",\"BitConnect Coin\",\"MoneyCoin\",\"Enigma\",\"Cannabis Industry Coin\",\"Russiacoin\",\"PandaCoin\",\"GameUnits\",\"GAKHcoin\",\"Allsafe\",\"LiteCreed\",\"OsmiumCoin\",\"Bikercoins\",\"HexxCoin\",\"Klingon Empire Darsek\",\"Internet of People\",\"KushCoin\",\"Printerium\",\"PacCoin\",\"Impeach\",\"Citadel\",\"Zilbercoin\",\"FirstCoin\",\"BeaverCoin\",\"FindCoin\",\"VaultCoin\",\"Zero\",\"OpenChat\",\"Canada eCoin\",\"Zoin\",\"RenosCoin\",\"DubaiCoin\",\"VirtacoinPlus\",\"TajCoin\",\"Impact\",\"EB3coin\",\"Atmos\",\"HappyCoin\",\"Coinonat\",\"MacronCoin\",\"Condensate\",\"Independent Money System\",\"ArgusCoin\",\"LomoCoin\",\"ProCurrency\",\"GoldReserve\",\"BenjiRolls\",\"GrowthCoin\",\"ILCoin\",\"Phreak\",\"Degas Coin\",\"HTML5 Coin\",\"Ultimate Secure Cash\",\"EquiTrader\",\"QTUM\",\"Quantum Resistant Ledger\",\"Espers\",\"Dynamic\",\"Nano\",\"ChanCoin\",\"Dinastycoin\",\"Denarius\",\"DigitalPrice\",\"Virta Unique Coin\",\"Bitcoin Planet\",\"Unify\",\"BritCoin\",\"SocialCoin\",\"ArcticCoin\",\"DAS\",\"Linda\",\"LeviarCoin\",\"DeepOnion\",\"Bitcore\",\"gCn Coin\",\"SmartCash\",\"Signatum\",\"Onix\",\"Cream\",\"Bitcoin Cash\",\"Monoeci\",\"Draftcoin\",\"Vechain\",\"Sojourn Coin\",\"Stakecoin\",\"NewYorkCoin\",\"FrazCoin\",\"Kronecoin\",\"AdCoin\",\"Linx\",\"CoinonatX\",\"Ethereum Dark\",\"Sumokoin\",\"Obsidian\",\"Cardano\",\"Regalcoin\",\"BitcoinZ\",\"TrezarCoin\",\"Elements\",\"TerraNovaCoin\",\"VIVO Coin\",\"Rupee\",\"Bitcoin Gold\",\"WomenCoin\",\"Theresa May Coin\",\"NamoCoin\",\"LUXCoin\",\"Pirl\",\"Xios\",\"Bitcloud 2.0\",\"eBoost\",\"KekCoin\",\"BlackholeCoin\",\"Infinity Economics\",\"Pura\",\"Innova\",\"Ellaism\",\"GoByte\",\"Magnet\",\"Lamden Tau\",\"Electra\",\"Bitcoin Diamond\",\"SHIELD\",\"Cash & Back Coin\",\"UltraNote\",\"BitCoal\",\"DaxxCoin\",\"Bulwark\",\"Kalkulus\",\"AC3\",\"Lethean\",\"GermanCoin\",\"LiteCoin Ultra\",\"PopularCoin\",\"PhantomX\",\"Photon\",\"Sucre\",\"SparksPay\",\"Digiwage\",\"GunCoin\",\"IrishCoin\",\"Trollcoin\",\"Litecoin Plus\",\"Monkey Project\",\"Pioneer Coin\",\"UnitedBitcoin\",\"Interzone\",\"TokenPay\",\"1717 Masonic Commemorative Token\",\"My Big Coin\",\"TurtleCoin\",\"MUNcoin\",\"Unified Society USDEX\",\"Niobio Cash\",\"ShareChain\",\"Travelflex\",\"KREDS\",\"Tokyo Coin\",\"BiblePay\",\"LitecoinCash\",\"BitFlip\",\"LottoCoin\",\"Crypto Improvement Fund\",\"Stipend\",\"Poa Network\",\"Pushi\",\"Ellerium\",\"Velox\",\"Ontology\",\"Callisto Network\",\"BitTube\",\"Poseidon\",\"Aidos Kuneen\",\"Bitspace\",\"Briacoin\",\"Ignition\",\"Bitrolium\",\"MedicCoin\",\"Alpenschillling\",\"Bitcoin Green\",\"Deviant Coin\",\"Abjcoin\",\"Semux\",\"FuturoCoin\",\"Carebit\",\"Zealium\",\"Monero Classic\",\"Proton\",\"iDealCash\",\"Jumpcoin\",\"Infinex\",\"Bitcoin Incognito\",\"KEYCO\",\"HollyWoodCoin\",\"GINcoin\",\"PlatinCoin\",\"Loki\",\"Newton Coin\",\"Swisscoin\",\"Xt3ch\",\"MassGrid\",\"TheVig\",\"PluraCoin\",\"EmaratCoin\",\"Dekado\",\"Lynx\",\"Poseidon Quark\",\"BitcoinWSpectrum\",\"Muse\",\"Motion\",\"PlusOneCoin\",\"Axe\",\"Trivechain\",\"Dystem\",\"Giant\",\"Peony Coin\",\"Absolute Coin\",\"Vitae\",\"HexCoin\",\"TPCash\",\"Webchain\",\"Ryo\",\"Urals Coin\",\"Qwertycoin\",\"ARENON\",\"EUNO\",\"MMOCoin\",\"Ketan\",\"Project Pai\",\"XDNA\",\"PAXEX\",\"Azart\",\"ThunderStake\",\"Kcash\",\"Xchange\",\"Acute Angle Cloud\",\"CrypticCoin\",\"Bettex coin\",\"Actinium\",\"Bitcoin SV\",\"BitMoney\",\"Junson Ming Chan Coin\",\"FREDEnergy\",\"HerbCoin\",\"Universal Molecule\",\"Lithium\",\"PirateCash\",\"Exosis\",\"Block-Logic\",\"Oduwa\",\"Beam\",\"Galilel\",\"Bithereum\",\"Crypto Sports\",\"Credit\",\"SLICE\",\"Dash Platinum\",\"Nasdacoin\",\"Beetle Coin\",\"Titan Coin\",\"Award\",\"BLAST\",\"Bitcoin Rhodium\",\"GlobalToken\",\"Insane Coin\",\"ALAX\",\"LiteDoge\",\"SolarCoin\",\"TruckCoin\",\"UFO Coin\",\"OrangeCoin\",\"BlakeCoin\",\"BitstarCoin\",\"NeosCoin\",\"HyperCoin\",\"PinkCoin\",\"Crypto Escudo\",\"AudioCoin\",\"IncaKoin\",\"Piggy Coin\",\"Crown Coin\",\"Genstake\",\"SmileyCoin\",\"XiaoMiCoin\",\"Groestlcoin\",\"CapriCoin\",\" ClubCoin\",\"Radium\",\"Bata\",\"Pakcoin\",\"Creditbit \",\"OKCash\",\"Lisk\",\"HiCoin\",\"WhiteCoin\",\"FriendshipCoin\",\"JoinCoin\",\"Triangles Coin\",\"Vollar\",\"EOS\",\"Reality Clash\",\"Oxycoin\",\"TigerCash\",\"Waves\",\"Particl\",\"BitTorrent\",\"Nxt\",\"ZEPHYR\",\"Gapcoin\",\"Beldex\",\"Horizen\",\"BitcoinPlus\"],\"ProofType\":[\"PoW/PoS\",\"PoW/PoS\",\"PoW/PoS\",\"PoW\",\"PoW\",\"PoW\",\"PoW/PoS\",\"PoW\",\"PoW\",\"PoW\",\"PoS\",\"PoW\",\"PoW/PoS\",\"PoS\",\"PoW\",\"PoW/PoS\",\"PoW\",\"PoW\",\"PoW/PoS\",\"PoW/PoS\",\"PoW\",\"PoW\",\"PoW\",\"PoW\",\"PoW\",\"PoW/PoS\",\"PoW\",\"PoW\",\"PoW\",\"PoW/PoS\",\"PoW\",\"PoW/PoS\",\"PoW\",\"PoW\",\"PoC\",\"PoW/PoS\",\"PoW\",\"PoW\",\"PoW\",\"PoW\",\"PoW\",\"PoW\",\"PoS\",\"PoS/PoW/PoT\",\"PoW\",\"PoW\",\"PoW\",\"PoW\",\"PoW\",\"PoW/PoS\",\"PoS\",\"PoW\",\"PoW/PoS\",\"PoW\",\"PoW\",\"PoW\",\"PoW\",\"PoW/PoS\",\"PoW\",\"PoW\",\"PoS\",\"PoW\",\"PoW/PoS\",\"PoS\",\"PoW/PoS\",\"PoW\",\"PoW\",\"PoW\",\"PoW/PoS\",\"PoW/PoS\",\"PoW/PoS\",\"PoW/PoS\",\"PoW/PoS\",\"PoW\",\"PoW\",\"PoW\",\"PoS\",\"PoW/PoS\",\"PoW\",\"PoS\",\"PoW\",\"PoS\",\"PoW/PoS\",\"PoW\",\"PoW\",\"PoW\",\"PoW\",\"PoW/PoS\",\"PoW/PoS\",\"PoW\",\"PoST\",\"PoW\",\"PoW\",\"PoW/PoS\",\"PoS\",\"PoW\",\"PoW/PoS\",\"PoW/PoS\",\"PoW\",\"PoW\",\"PoC\",\"PoS\",\"PoW\",\"PoW/PoS\",\"PoW/PoS\",\"PoW\",\"PoS\",\"PoW\",\"PoW/PoS\",\"PoW\",\"PoS\",\"PoW\",\"PoW/PoS\",\"PoW/PoS\",\"PoW\",\"PoW\",\"PoS\",\"PoW\",\"PoW\",\"PoW\",\"PoW/PoS\",\"PoW\",\"PoW\",\"PoW\",\"PoW\",\"PoW\",\"PoW/PoS\",\"PoW/nPoS\",\"PoW\",\"PoW\",\"PoW\",\"PoW/PoS\",\"PoW\",\"PoS/PoW\",\"PoW\",\"PoW\",\"PoS\",\"PoW\",\"PoW/PoS\",\"PoW\",\"PoW/PoS\",\"PoW/PoS\",\"PoW\",\"PoW\",\"PoW/PoS\",\"PoW\",\"PoW\",\"PoW/PoS\",\"PoW/PoS\",\"PoW\",\"PoW/PoS\",\"PoW\",\"PoW/PoS\",\"PoW/PoS\",\"PoS\",\"PoW\",\"PoW\",\"PoW\",\"PoW\",\"PoW/PoS\",\"PoS\",\"PoW/PoS\",\"PoC\",\"PoS\",\"PoW\",\"PoW\",\"PoW/PoS\",\"PoW/PoS\",\"PoW/PoS\",\"PoW/PoS\",\"PoW/PoS\",\"PoW\",\"PoS\",\"PoW/PoS\",\"PoW/PoS\",\"PoW/PoS\",\"PoS\",\"PoW\",\"PoS\",\"dPoW/PoW\",\"PoW/PoS\",\"PoW/PoS\",\"PoW\",\"PoW/PoS\",\"PoW\",\"PoW/PoS\",\"PoW/PoS\",\"PoW\",\"PoW/PoS\",\"PoW\",\"PoS\",\"PoW\",\"PoW/PoW\",\"PoW\",\"PoW/PoS\",\"PoS\",\"PoW/PoS\",\"PoW/PoS\",\"PoW\",\"PoS\",\"PoS\",\"PoW/PoS\",\"PoS\",\"PoW/PoS\",\"PoW\",\"PoW\",\"DPoS\",\"PoW/PoS\",\"PoW\",\"PoW\",\"PoW/PoS\",\"PoW/PoS\",\"PoS\",\"PoW/PoS\",\"PoW/PoS\",\"PoW\",\"PoS\",\"PoW/PoS\",\"PoW/PoS\",\"PoW/PoS\",\"TPoS\",\"PoW/PoS\",\"PoW/PoS\",\"PoW/PoS\",\"PoW\",\"PoW/PoS\",\"PoS\",\"PoW/PoS\",\"PoW/PoS\",\"PoS\",\"PoW/PoS\",\"PoW\",\"PoW\",\"PoW\",\"PoW/PoS\",\"PoW/PoS\",\"PoW/PoS\",\"PoW/PoS\",\"PoW\",\"PoW/PoS\",\"PoW\",\"PoS\",\"PoW/PoS \",\"PoW\",\"PoS\",\"PoW\",\"PoW\",\"PoW/PoS\",\"PoW\",\"PoW\",\"PoS\",\"PoW\",\"PoW/PoS\",\"PoW/PoS\",\"PoW/PoS\",\"PoW\",\"PoS\",\"PoW/PoS\",\"PoW\",\"PoS\",\"PoW/PoS\",\"PoW/PoS\",\"PoW/PoS\",\"PoW/PoS\",\"PoS\",\"PoW/PoS\",\"PoW\",\"PoS\",\"PoW\",\"PoS\",\"PoW/PoS\",\"PoW/PoS\",\"PoS\",\"PoW\",\"PoS\",\"PoW\",\"PoW/PoS\",\"PoW\",\"PoW\",\"PoW\",\"PoW\",\"PoW/PoS\",\"PoW\",\"PoW/PoS\",\"PoW/PoS\",\"PoW\",\"PoW/PoS\",\"PoW\",\"PoW\",\"PoW\",\"PoW/PoS\",\"PoW\",\"PoW/PoS\",\"PoW\",\"PoW\",\"PoW\",\"PoS\",\"PoW\",\"PoW/PoS\",\"PoW\",\"PoW/PoS\",\"PoS\",\"Proof of Authority\",\"PoW\",\"PoS\",\"PoW\",\"PoW\",\"PoW\",\"PoW\",\"PoW\",\"PoW/PoS\",\"PoW/PoS\",\"PoW\",\"PoS\",\"PoS\",\"PoW/PoS\",\"PoW\",\"PoW/PoS\",\"PoW\",\"PoW/PoS\",\"PoW\",\"PoS\",\"PoW\",\"PoW/PoS\",\"PoW/PoS\",\"PoW/PoS\",\"PoW/PoS\",\"PoW\",\"PoW/PoS\",\"PoW/PoS\",\"PoW\",\"PoS\",\"PoW/PoS\",\"PoS\",\"PoW\",\"PoW\",\"PoW\",\"PoW\",\"PoW/PoS\",\"DPoS\",\"PoW/PoS\",\"PoW/PoS\",\"PoW\",\"PoW/PoS\",\"PoW\",\"PoW\",\"PoW\",\"PoS\",\"PoS\",\"PoW\",\"PoW\",\"PoW/PoS\",\"PoW/PoS\",\"PoW\",\"PoW/PoS\",\"PoW\",\"PoW\",\"PoW\",\"PoS\",\"PoW\",\"PoW\",\"PoW/PoS\",\"PoW/PoS\",\"PoS\",\"PoW\",\"PoW\",\"PoW\",\"PoS\",\"PoS\",\"PoW and PoS\",\"PoW\",\"PoW\",\"PoW/PoS\",\"PoW\",\"PoW\",\"PoW\",\"PoW\",\"PoS\",\"POBh\",\"PoW + Hive\",\"PoW\",\"PoW\",\"PoW\",\"PoW/PoS\",\"PoA\",\"PoW/PoS\",\"PoW/PoS\",\"PoS\",\"PoS\",\"PoW\",\"PoW\",\"PoW\",\"PoW\",\"PoW/PoS\",\"PoW/PoS\",\"PoW/PoS\",\"PoW\",\"PoS\",\"PoW\",\"PoS\",\"PoS\",\"PoW/PoS\",\"DPoS\",\"PoW\",\"PoW/PoS\",\"PoS\",\"PoW\",\"PoS\",\"PoW/PoS\",\"PoW\",\"PoW\",\"PoS/PoW\",\"PoW\",\"PoS\",\"PoW\",\"PoW\",\"PoW\",\"PoW\",\"PoW/PoS\",\"PoS\",\"PoW\",\"PoW/PoS\",\"PoW\",\"PoW/PoS\",\"PoS\",\"HPoW\",\"PoS\",\"PoS\",\"PoS\",\"PoW\",\"PoW\",\"PoW\",\"PoW/PoS\",\"PoS\",\"PoW/PoS\",\"PoS\",\"PoW/PoS\",\"PoS\",\"PoW\",\"PoW/PoS\",\"PoW\",\"PoW\",\"PoW\",\"PoW\",\"PoS\",\"PoW/PoS\",\"PoS\",\"PoS\",\"PoW\",\"PoW/PoS\",\"PoS\",\"PoW\",\"PoW/PoS\",\"Zero-Knowledge Proof\",\"PoW\",\"DPOS\",\"PoW\",\"PoS\",\"PoW\",\"PoW\",\"Pos\",\"PoS\",\"PoW\",\"PoW/PoS\",\"PoW\",\"PoW\",\"PoS\",\"PoW\",\"PoW\",\"PoW/PoS\",\"PoW\",\"PoW/PoS\",\"PoW\",\"PoS\",\"PoW/PoS\",\"PoW\",\"PoS\",\"PoW/PoS\",\"PoW/PoS\",\"PoW/PoS\",\"PoW/PoS\",\"PoW\",\"PoW\",\"PoW\",\"PoW/PoS\",\"DPoS\",\"PoW/PoS\",\"PoW\",\"PoW/PoS\",\"PoW\",\"PoW/PoS\",\"PoW\",\"PoW/PoS\",\"PoS\",\"PoW/PoS\",\"PoW/PoS\",\"PoW\",\"PoW/PoS\",\"PoW/PoS\",\"PoW/PoS\",\"PoW\",\"PoW/PoS\",\"PoW\",\"PoW/PoS\",\"PoW\",\"PoW/PoS\",\"PoW/PoS\",\"PoS\",\"PoW\",\"PoW\",\"Proof of Trust\",\"PoW/PoS\",\"DPoS\",\"PoS\",\"PoW/PoS\",\"PoW/PoS\",\"PoW\",\"PoW/PoS\",\"PoW\",\"DPoS\",\"PoW\",\"DPoS\",\"PoS\",\"LPoS\",\"PoS\",\"DPoS\",\"PoS/LPoS\",\"DPoS\",\"PoW/PoS\",\"PoW\",\"PoW\",\"PoS\"],\"TotalCoinSupply\":[\"42\",\"532000000\",\"314159265359\",\"21000000\",\"0\",\"84000000\",\"22000000\",\"0\",\"210000000\",\"21000000\",\"3600570502\",\"21000000000\",\"22000000\",\"12500000\",\"21000000\",\"350000000\",\"20000000\",\"64000000\",\"16768584\",\"0\",\"2000000000\",\"384000000000\",\"169795588\",\"250000000\",\"100000000\",\"0\",\"247000000\",\"84000000\",\"48166000\",\"500000\",\"21000000\",\"1000000\",\"13140000\",\"18000000\",\"40000000000\",\"4380000\",\"16555000000\",\"21000000000\",\"13500000000\",\"21000000\",\"299792458\",\"32000000\",\"0\",\"0\",\"11235813\",\"336000000\",\"1420609614\",\"70000000\",\"72245700\",\"120000000\",\"0\",\"90600000000\",\"22000000\",\"21000000\",\"265420800\",\"20000000\",\"1350000\",\"100000000\",\"42000000\",\"200000000\",\"0\",\"10000000\",\"2419200000\",\"16180000\",\"0\",\"15000000000\",\"21000000\",\"337000000\",\"0\",\"3770000\",\"420000000\",\"98000000\",\"0\",\"21000000\",\"250000000\",\"51200000\",\"0\",\"1000\",\"888000000\",\"100000000\",\"47011968\",\"2300000000\",\"10000000\",\"42000000\",\"80000000\",\"250000\",\"0\",\"1600000000\",\"100000000\",\"23000000\",\"0\",\"84000000\",\"265420800\",\"5500000\",\"0\",\"45000000\",\"0\",\"1000000000\",\"184467440735\",\"10000000000\",\"2158812800\",\"500000000\",\"105120000\",\"68000000\",\"0\",\"1680000000\",\"0\",\"166386000\",\"12000000\",\"2628000\",\"500000000\",\"160000000\",\"0\",\"10000000\",\"1000000000\",\"1000000000\",\"20000000\",\"0\",\"0\",\"3371337\",\"20000000\",\"10000000000\",\"1840000000\",\"619478\",\"21000000\",\"92000000000\",\"0\",\"78000000\",\"33000000\",\"65789100\",\"53760000\",\"5060000\",\"21000000\",\"0\",\"210240000\",\"250000000\",\"100000000\",\"16906397\",\"50000000\",\"0\",\"1000000000\",\"26298000\",\"16000000\",\"21000000\",\"21000000\",\"210000000\",\"81962100\",\"22000000\",\"26550000000\",\"84000000\",\"10500000\",\"21626280000\",\"0\",\"42000000\",\"221052632\",\"84000000\",\"30000000\",\"168351300\",\"24000000\",\"384000000\",\"99000000000\",\"40000000\",\"2147483647\",\"20000000\",\"20000000\",\"25000000\",\"75000000\",\"222725000\",\"525000000\",\"90000000\",\"139000000\",\"616448\",\"33500000\",\"2000000000\",\"44333333\",\"100000000\",\"200000000\",\"25000000\",\"657000000\",\"200000000\",\"50000000\",\"90000000\",\"10000000\",\"21000000\",\"9736000\",\"3000000\",\"21000000\",\"1200000000\",\"0\",\"200000000\",\"0\",\"10638298\",\"3100000000\",\"30000000\",\"20000000000\",\"74000000\",\"0\",\"1500000000\",\"21400000\",\"39999898\",\"2500124\",\"100000000\",\"301000000\",\"7506000000\",\"26205539\",\"21000000\",\"125000000\",\"30000000\",\"10000000000\",\"500000000\",\"850000000\",\"3853326.77707314\",\"50000000\",\"38540000\",\"42000000\",\"228000000\",\"20000000\",\"60000000\",\"20000000\",\"33000000\",\"76500000\",\"28000000\",\"650659833\",\"5000000\",\"21000000\",\"144000000\",\"32514916898\",\"13000000\",\"3315789\",\"15000000\",\"78835200\",\"2714286\",\"25000000\",\"9999999\",\"500000000\",\"21000000\",\"9354000\",\"20000000\",\"100000000000\",\"21933333\",\"185000000\",\"55000000\",\"110000000\",\"3360000\",\"14524851.4827\",\"1000000000\",\"17000000\",\"1000000000\",\"100000000\",\"21000000\",\"34426423\",\"2232901\",\"100000000\",\"36900000\",\"110000000\",\"4000000000\",\"110290030\",\"100000000\",\"48252000\",\"400000000\",\"500000000\",\"21212121\",\"28600000\",\"1000000000\",\"75000000000\",\"40000000\",\"35520400\",\"2000000000\",\"2500000000\",\"30000000\",\"105000000\",\"90000000000\",\"200084200\",\"72000000\",\"100000000\",\"105000000\",\"50000000000\",\"0\",\"340282367\",\"30000000\",\"2000000000\",\"10000000\",\"100000000\",\"120000000\",\"100000000\",\"19276800\",\"30000000\",\"75000000\",\"60000000\",\"18900000\",\"50000000000\",\"54000000\",\"18898187.6216583\",\"21000000\",\"200000000000\",\"5000000000\",\"137500000\",\"1100000000\",\"100000000\",\"21000000\",\"9507271\",\"17405891.19707120\",\"86712634466\",\"10500000000\",\"61599965\",\"0\",\"20000000\",\"84000000\",\"100000000\",\"100000000\",\"48252000\",\"4200000\",\"88888888\",\"91388946\",\"45000000000\",\"27000000\",\"21000000000\",\"400000000\",\"1800000000\",\"15733333\",\"27000000\",\"24000000\",\"21000000\",\"25000000000\",\"100000000\",\"1200000000\",\"60000000\",\"156306732.71\",\"21000000\",\"200000000\",\"100000000\",\"21000000\",\"14788275.991\",\"9000000000\",\"350000000\",\"45000000\",\"280000000\",\"31800000\",\"144000000\",\"500000000\",\"30000000000\",\"210000000\",\"660000000\",\"210000000\",\"85000000000\",\"12500000\",\"10000000000\",\"27716121\",\"20000000\",\"550000000\",\"999481516\",\"50000000000\",\"150000000\",\"4999999999\",\"50000000\",\"90000000000\",\"19800000\",\"21000000\",\"120000000\",\"500000000\",\"64000000\",\"900000000\",\"4000000\",\"21000000\",\"23000000\",\"20166000\",\"23000000\",\"25000000\",\"1618033\",\"30000000\",\"1000000000000\",\"16600000\",\"232000000\",\"336000000\",\"10000000000\",\"100000000\",\"1100000000\",\"800000000\",\"5200000000\",\"840000000\",\"40000000\",\"18406979840\",\"500000000\",\"19340594\",\"252460800\",\"25000000\",\"60000000\",\"124000000\",\"1000000000\",\"6500000000\",\"1000000000\",\"21000000\",\"25000000\",\"50000000\",\"3000000\",\"5000000\",\"70000000\",\"500000000\",\"300000000\",\"21000000\",\"88000000\",\"30000000\",\"100000000\",\"100000000\",\"200000000\",\"80000000\",\"18400000\",\"45000000\",\"5121951220\",\"21000000\",\"26280000\",\"21000000\",\"18000000\",\"26000000\",\"10500000\",\"600000518\",\"150000000\",\"184000000000\",\"10200000000\",\"44000000\",\"168000000\",\"100000000\",\"1000000000\",\"84000000\",\"90000000\",\"92000000000\",\"650000000\",\"100262205\",\"18081806\",\"22075700\",\"21000000\",\"21000000\",\"82546564\",\"21000000\",\"5151000\",\"16880000000\",\"52500000\",\"100000000\",\"22105263\",\"1000000000\",\"1750000000\",\"88188888\",\"210000000\",\"184470000000\",\"55000000\",\"50000000\",\"260000000\",\"210000000\",\"2100000000\",\"366000000\",\"100000000\",\"25000000\",\"18000000000\",\"1000000000\",\"100000000\",\"1000000000\",\"7600000000\",\"50000000\",\"84000000\",\"21000000\",\"70000000000\",\"0\",\"8080000000\",\"54000000\",\"105120001.44\",\"25228800\",\"105000000\",\"21000000\",\"120000000\",\"21000000\",\"262800000\",\"19035999\",\"30886000\",\"13370000\",\"74800000000\",\"100000000\",\"19700000\",\"84000000\",\"500000000\",\"5000000000\",\"420000000\",\"64000000\",\"2100000\",\"168000000\",\"30000000\",\"1000000000\",\"35000000000\",\"98100000000\",\"0\",\"4000000000\",\"200000000\",\"7000000000\",\"54256119\",\"21000000\",\"0\",\"500000000\",\"1000000000\",\"10500000000\",\"190000000\",\"1000000000\",\"42000000\",\"15000000\",\"50000000000\",\"400000000\",\"105000000\",\"208000000\",\"160000000\",\"9000000\",\"5000000\",\"182000000\",\"16504333\",\"105000000\",\"159918400\",\"10008835635\",\"300000000\",\"60168145\",\"2800000\",\"120000\",\"2100000000\",\"0\",\"24487944\",\"0\",\"1000000000\",\"100000000\",\"8634140\",\"990000000000\",\"1000000000\",\"2000000000\",\"250000000\",\"1400222610\",\"21000000\",\"1000000\"],\"TotalCoinsMined\":{\"__ndarray__\":\"E66yfP7/REC4HgUDbHLPQcQCukHCRBtCAAAAcMAYcUHb+b76hayZQfhoZlo4D45BczEFzM85YUFmkFFyf2dwQQAAAFztBptBAAAAEAQqXEEAAAA6IW3kQQAAKLzoPgVCAAAAAJ6qM0Epu0/cGOFmQQAAAIAdAVZBuzNpefhbeEFogey/NERlQQ8SPW7cR2dB+ijjv4NLcUEAAABO5u/CQQAAgMotKNlBAAAAAAAAVkCRe4LLOUqkQWlwu1zuvZ5B7FG4slgRXEES3YNEKFedQbxc1FkO8a5Bi10hSWmgh0FQLIHFyuR/Qc7ixUJvyuRAZlhcKb2KW0HCR4pNGbYvQdDqKuGh8VFBQQ4rjd4PU0GutucKX6AiQqBfqd8TNklB/fZoycqrDUIAAHBTCXwRQnWTloARWwdCTGbm7Bjxc0He//+wcBeqQbTI9iT1l3JBAAAAQJaqVUHCNFQR94a7QaQ8LSbMbzFBMPUDShPgqEEAAAA1WFnKQQJaxIOwUI9BD/H/v0jdg0EMI73Wa0iVQftcscYLA9lBo6E6fO0XNUJp65YfTtVwQW3n+0/EHHRBmpmZw9ANokHNzEzyVm5yQeu2uDrY2TBBAAAAaLVMjUFB3vH/OTGCQTMzM4eHR4NB0/wVEd7UE0K3KNQ4KyRWQdb//9BLDNhBAAAAAGTcbkFIZKnBRYOPQWh5ONDpoOFBAAAAAIIbbEHvrnvnQfOzQWC5lIqR6GxBEqW9I0SSSEECRgfUkYuqQQAAgKodopFB7loEOWBNG0KzdfRrHdkwQZqZmdvoF3dBqQYrknhoeEEorP5t5i2IQQAAAAAAZJJASWWmrurJwEEmvO6+tSKTQQAAAACNwoRBsaedNq8s2EHonwEAK9k1QQAAAEB233VBAAAAAINhQUF75AdVfoYIQQAAAAAObDJBZmYm5Ctg0EHqsCJZOvSHQfP/r8ISFHZBBGSeRqeJfkHGd4jeymaIQQAAAHQ6hJxBqj02xuuDWkEAAAAAhNeXQWWO5dqisIJBhvyY1oWPf0HN5/S7TaShQQAAB3WebUVCcSCmnaK6+UEAAADwLATbQQAAAMC4ZohBcBN8y0VCkEEAAADwmKeCQQAAADhjXYlBAAAAZOS8uEGF80Sm1ux5QeDz06y0ZKBBm6kQ40DcPkGTMePy+TQGQRqL3sPG0aRB26a4ke4mokEAAAAAwWU2QQAAAICAEltBAAAAUZSex0EAAABPt3DFQQAAAACKhURBAAAAsGYMj0EAAABAGUhYQchLLY4xV2NBAAAAQF4iZkFxPQ5ywyzxQQAAAMx5HcVBAAAAAKznIkEAAACAQ8VnQQAAAABQifVAAAAAAOgYN0EAAAAgqFqOQbTMIm2Yun5BAAAAQFI2akFuowEAyCBsQb/Mf8ucV2BBAAAAsANCbkFIisgQwBcUQQAAAECDDn9BAAAAkCQHkkEAAAAAhNeXQQAAAMClBGRBAAAAwKL5dUEAAEizP9MeQnMvcJZSiIRBdN9gjbfOaUEAAADg5UNuQXYi101WBnRBZYmz3Q7FY0EAAAAAsQipQQAAAKBO1mVB0TYn7F3/S0EAAJj8c3sEQgAAABB1ppBBAAAAgM2QU0EAAGSVNj8UQs9mP8p8wQJCZta35+opYUEAAACQC02DQQAAAKChgoVBAAAAAGjAVUEVe6IeXWwjQQAAALCvdnBBhtM4uazZY0FWnZ2VUDchQsSzAmd+slBBAADA////30EAAAAA0BJzQfWeCOrNEFlBACv2TwgLakHHaE16SgqgQQAAAAAFPjJBAAAAgCTIb0EAAACMaOWTQWZvBMgIQndBAAAAAADQIkH8k1OFq2aCQZ+vSflmO8hBAAAAAD1EUUEAAAAAhNeXQQAAAADQElNBAAAAAH0GNUEAAAAgg5TDQQAAAEzcoZtBAAAAIIyvbUEAAADgOZWEQSqHXC4Y111BAAAAAMorIkEAAAAAgNFXQXUZ5bDIESRBAAAAAOmyQ0EAAAAAZc3NQQAAAACxmT1BAAAAsKrbm0EAAAAwvTekQQAAAECjXmFBAACA3BLTw0EAAAAATDVlQQAA7E21OxJCLAwuO6qmkUEAAADQUPh/Qd/Fk3RYja9BUc34T+beXEEAAAAgerqhQQAAAAAOE0NBAAAAAITXl0F4eqWiQ/5wQWxb4nIfINBBAAAAMNb9eEEAAACA+2lVQQAAAJAhzJlBAAAA0Dl+cUEAAADmiWanQQAAAACfjshBAADD1R53NUL1IXdjB2ZNQQAAAACE14dBAAAAAERMcEGnlim1VLBCQQAAAGjSQo1BAAAAANASc0H6EPGEOidXQQAAAEDFrmdBAWxAemNOc0EAAACEqwWSQW8KEEyCImVBAAAAQE7RZEEAAAAAntwoQQAAAADC2S1BAAAAQIT1X0G1VTeErn0fQgAAAIArf0pBAAAAgCZMSUG3QKeXoQ9kQQAAAGDS03xBAAAAAJRIK0EAAAAA5NhhQemBj3GyoDxBAAAAwOvadkGII9U8v0VDQawzRD12llVBAAAAAFSMZkEAAAAd2QDAQQAAAABMzxJBBwq80BzsZEGMg2z7OkxGQQAAAADeOZpBAAAAAH3ER0FFR3JvNrRrQQAAAEBY+nxBHHiWeW1nWkEAAAAAZc3NQaJtQ0H1zZdBAAAA2MWvcUEAAADorTCBQQAAAIAiCUFBTuW+oh8baUEhj6B9UD1nQd/hZs9XYJpBAAAAoDmQjkEEVo5zMX+aQcubKKA6hnRBAAAAAPhOY0EAAABZNO23QTtUk67eAZ1BAAAAgBl7VEEAAAAApIUxQQAAAACAhB5BAAAARNP4l0EAAABgO2BwQY0pWDI4VnNBCaRc6miXsUEAAADLzqLTQWFHLT+iuWVBAAAAwIpedEEAAMDR7u4iQgAAACBZumNBckLXzXcUakEAAAAAhNeXQWUIVsOfdZBBAADce2Q8FUKonWsKIt5yQQAAAKTUxJ9BkdtqsfWNcUEAAMDBkfbaQQAAAAA7009BAAAA+GzBgEEAAADYWwOOQQAAAIDi9FlBAAAAsAxLcUEAAADAZ0h0QQAAAMCntlNBHxX6xf/VeEEAAAAA0wJEQX/w+Yv12ABCAAAAYPECa0Ga3cmg1eZ0QZKakZIo+nBBAABOq2v7QkJLH6e/YrLgQQAAAHgivplByhiP2VEznUGSw9HTzpGGQWq8WVp0KXFBJFgm0VX5Z0Hza5UVeMxxQQAAoDO40ilCAAAAAHidHUEAAAAAgIROQfDX1k3upUBCAAAAQE2CYkFw2XdWK6VwQQkyArFkIn9BAAAAcMkTgEEAAABAaKJyQQAAAACQBVBBAAAAoHsQYUEAAAAAhNd3QQAAKM1+JRhCzr66gjC0W0EDPqDeH2rzQQAAAICuxaVBy0qbvkkj5EGLprPq/mcxQVF7mcmnyE9BAAAAAGDjdkH5hGyRy2dwQQAAjLzRkCZCAAAAwFXylUEAAAAKwrTAQdlvVtQbr19BAAAAIM00gEEAAAAAnGZAQYpweOjvSX1BJ0/5xefWl0Hg88PJ5oRnQcl2vh+GNW9BAACwz4jDAEIAAADmKeOkQSlcj8LWUVhBAAAA4LFUaEEAAAC4nD9WQY52rBbqNoJBYW9+x+krsUEAAACS4nIaQsiUx5ED4aVB6fCQBqC2vEHPayxFf3WaQTj4lfsk9RFCAAAAAIgqUUEAAACELQy/Qb/tLlxZRGlBqdpuTpcrcEEAAAC8HCaTQRKDYLnxTLpBXI/WvvhL8kHLoUVKCQ9gQUjhGyQdie1BBOfcMG6KhUFZF6rN7wUcQv52QCDsIVBBqQRZVX7vXUEAAAAA9gh6QQAAAMGN3rFBm/K3SiGwhUEAAABOJZ3BQQndJR2TG0NBAAAAAPXPUEFs0d4KsytgQQAAAABXO3NBRN0Hg6W6ZkFVAY1Yqn9zQQAAAABxsDhB6KPo0IXtYUE9ipsSw74oQiP3U79oYVJB4naQc/D+q0HErxjPlu6fQQAAACBfoAJCJnMcSJ2WmUHVIcXjxS/DQQAAAFoqdKtB8dd4J/5n2kGWsBp+eAbDQRXGFoAyvWdBAACoqNr9CkJPPwDNSjCpQURLA8bRdWVBAAAAfjRgqEHNzMyMCYpAQVK4HoUtlxlBWiYo0q1ieEEAAIC4lGXDQQAAAEqIhK1BdXWf684Vk0GZUBwTog1PQQAAAACE13dBGcIW1FlMakEZtn+gi84pQQAAAIDJCTJBAAAAVDEDkUEAAKAYR92vQYN0bFrtEnpBfQaUa/WyYkFNBaat9tx0Qeux5ct22GJBAAAAACvJMkGJEf1SB1R+QXJuA5mDqKBBTNr5wtYfZUEAAAAAvIxuQQAAAACWzFBB5nRdlm/s1EGSQQkk4hd0QURRfW02clNBjX70YrDMZEEAAAAAbkYoQbR2u8vzdIJBBFMT7aemWkEAAAAAwJT0QAAAAAAuRHJBAACivbA6I0IAAAAwvf8CQkhQ/AAsG11Bg20UIDEyoEGcs497yrJ/QSXLM+AdscBB78nDukaZdEHP8+dFmuF8QVnmi1WJITJC6NT8eTS5REEY0gHIAZGLQQAAAIAfWnFBpq1XQWr/XkE4UF7FY31gQaKloawBDFNBrPn2hDebgUFNI9YPZgRbQasgKXHAlFZBluWQ57jML0GotR8+EW5pQSFAAa03f49BSGTlENedNUEZ8ryfJp1UQddG4emEt21BAAAAQESoUkFpyxQjRSBsQV3NAOrTLTdCcT0KX3hgckEWDZ5fe1h9Qf+yq29isZlBB1Ybc0PKYUEAAABA3UrfQXtmCXYA01FBAAAAwA8vUUHawOFXUiJTQReaN9DOls9BAAAAAGXNzUFRV68zk5piQQAAAABlzc1BAAAAitWN70FyYIdLU+RZQQAAAECkAWpBP8xZKrQocUFiFLwwZtuoQXBOQWIqBxBCkSxSxj/S20GEJfPNkdaAQZO4O1ApFThByd3xJ6g5bkEAAAAACrRpQTMzM7MvyRhBzT1kaTfTgEEcRpysmS9sQQAAAABjBIFBn0T6MztrcUEAAAA4VPx3QfT+3KxthT1BTx7ABmy1HEKNuYbNa6doQdWNf+IW1yVBJsJLAz6Yc0FvD7pAHLenQQAAAGixtspBrfE+UWlpbUHOuQVlhu+IQQAAAIB02zFB0v7/r18slEE4zCGFrax2QQAAAABlzc1B5x1IVZ2IDEL7Pxej2H6KQSibcjLG6qxBAACA+gF/7EEAAAAAf/xKQUgFZGJXRnZBAAAAQJGfc0FeS8aPUMFQQW94x/+7XmJBFoV9WDoCukEAAAAGiUDHQR9ofThlOs1BBFbV6ym1EEJuUAeag3W9QUrmXREL7HVBAAAAADicjEFprytpX40bQpijizthGbhBuqmMb8R5kUGs4drOJgGoQa4Pq9CTtJhBBonp3l4nTUGfQd76IkZTQZk6wZ0znZBBDFuTijkecEEqosuD3c2RQQAAALD1nJxBApot/nygAkKJmGJ4mQquQaD9SAGBGDFBAAAAQJ1tSUGoOuQGTi8BQQAAAACE15dB2T2JBSNqzkH5eoiBgFp3QRSu13KMudBBAAAAAGXNzUEAAAAAhNeXQdmqyTHItGFBxfR7nv3PbEIAAAAAZc3NQfOO0/5kzd1BlPryxIx6bEEAAIBBgTbNQQAAAGCG1VtBR9gB8W9U/0A=\",\"dtype\":\"float64\",\"order\":\"little\",\"shape\":[532]}},\"selected\":{\"id\":\"1426\"},\"selection_policy\":{\"id\":\"1461\"}},\"id\":\"1425\",\"type\":\"ColumnDataSource\"},{\"attributes\":{},\"id\":\"1432\",\"type\":\"StringFormatter\"},{\"attributes\":{\"editor\":{\"id\":\"1428\"},\"field\":\"CoinName\",\"formatter\":{\"id\":\"1427\"},\"title\":\"CoinName\"},\"id\":\"1429\",\"type\":\"TableColumn\"},{\"attributes\":{\"source\":{\"id\":\"1425\"}},\"id\":\"1459\",\"type\":\"CDSView\"},{\"attributes\":{},\"id\":\"1448\",\"type\":\"NumberEditor\"},{\"attributes\":{\"format\":\"0,0.0[00000]\"},\"id\":\"1447\",\"type\":\"NumberFormatter\"},{\"attributes\":{\"margin\":[5,5,5,5],\"name\":\"HSpacer02281\",\"sizing_mode\":\"stretch_width\"},\"id\":\"1464\",\"type\":\"Spacer\"},{\"attributes\":{\"editor\":{\"id\":\"1448\"},\"field\":\"TotalCoinsMined\",\"formatter\":{\"id\":\"1447\"},\"title\":\"TotalCoinsMined\"},\"id\":\"1449\",\"type\":\"TableColumn\"},{\"attributes\":{},\"id\":\"1461\",\"type\":\"UnionRenderers\"},{\"attributes\":{\"editor\":{\"id\":\"1443\"},\"field\":\"TotalCoinSupply\",\"formatter\":{\"id\":\"1442\"},\"title\":\"TotalCoinSupply\"},\"id\":\"1444\",\"type\":\"TableColumn\"},{\"attributes\":{},\"id\":\"1428\",\"type\":\"StringEditor\"},{\"attributes\":{\"editor\":{\"id\":\"1433\"},\"field\":\"Algorithm\",\"formatter\":{\"id\":\"1432\"},\"title\":\"Algorithm\"},\"id\":\"1434\",\"type\":\"TableColumn\"},{\"attributes\":{},\"id\":\"1442\",\"type\":\"StringFormatter\"},{\"attributes\":{\"children\":[{\"id\":\"1424\"},{\"id\":\"1457\"},{\"id\":\"1464\"}],\"margin\":[0,0,0,0],\"name\":\"Row02276\",\"tags\":[\"embedded\"]},\"id\":\"1423\",\"type\":\"Row\"}],\"root_ids\":[\"1423\"]},\"title\":\"Bokeh Application\",\"version\":\"2.3.2\"}};\n",
       "    var render_items = [{\"docid\":\"10ea999b-7f22-4b05-82f6-adf348061389\",\"root_ids\":[\"1423\"],\"roots\":{\"1423\":\"6bafa078-6f9d-4a5d-8cc1-9684ecc157a7\"}}];\n",
       "    root.Bokeh.embed.embed_items_notebook(docs_json, render_items);\n",
       "  }\n",
       "  if (root.Bokeh !== undefined && root.Bokeh.Panel !== undefined) {\n",
       "    embed_document(root);\n",
       "  } else {\n",
       "    var attempts = 0;\n",
       "    var timer = setInterval(function(root) {\n",
       "      if (root.Bokeh !== undefined && root.Bokeh.Panel !== undefined) {\n",
       "        clearInterval(timer);\n",
       "        embed_document(root);\n",
       "      } else if (document.readyState == \"complete\") {\n",
       "        attempts++;\n",
       "        if (attempts > 100) {\n",
       "          clearInterval(timer);\n",
       "          console.log(\"Bokeh: ERROR: Unable to run BokehJS code because BokehJS library is missing\");\n",
       "        }\n",
       "      }\n",
       "    }, 10, root)\n",
       "  }\n",
       "})(window);</script>"
      ],
      "text/plain": [
       ":Table   [CoinName,Algorithm,ProofType,TotalCoinSupply,TotalCoinsMined,Class]"
      ]
     },
     "execution_count": 112,
     "metadata": {
      "application/vnd.holoviews_exec.v0+json": {
       "id": "1423"
      }
     },
     "output_type": "execute_result"
    }
   ],
   "source": [
    "# Create a table with tradable cryptocurrencies.\n",
    "columns = ['CoinName', 'Algorithm', 'ProofType', 'TotalCoinSupply', 'TotalCoinsMined', 'Class']\n",
    "table = clustered_df.hvplot.table(columns)\n",
    "table"
   ]
  },
  {
   "cell_type": "code",
   "execution_count": 115,
   "metadata": {},
   "outputs": [
    {
     "name": "stdout",
     "output_type": "stream",
     "text": [
      "The total number of tradable cryptocurrencies is 532\n"
     ]
    }
   ],
   "source": [
    "# Print the total number of tradable cryptocurrencies.\n",
    "print(f\"The total number of tradable cryptocurrencies is {coin_name.count()}\")"
   ]
  },
  {
   "cell_type": "code",
   "execution_count": 20,
   "metadata": {},
   "outputs": [
    {
     "data": {
      "text/plain": [
       "array([[4.20000000e-11, 0.00000000e+00],\n",
       "       [5.32000000e-04, 1.06585544e-03],\n",
       "       [3.14159265e-01, 2.95755135e-02],\n",
       "       ...,\n",
       "       [1.40022261e-03, 9.90135079e-04],\n",
       "       [2.10000000e-05, 7.37028150e-06],\n",
       "       [1.00000000e-06, 1.29582282e-07]])"
      ]
     },
     "execution_count": 20,
     "metadata": {},
     "output_type": "execute_result"
    }
   ],
   "source": [
    "# Scaling data to create the scatter plot with tradable cryptocurrencies.\n",
    "# YOUR CODE HERE"
   ]
  },
  {
   "cell_type": "code",
   "execution_count": 118,
   "metadata": {},
   "outputs": [],
   "source": [
    "# Create a new DataFrame that has the scaled data with the clustered_df DataFrame index.\n",
    "\n",
    "clustered_df[\"TotalCoinSupply\"]= clustered_df[\"TotalCoinSupply\"].astype(float)/100000000\n",
    "clustered_df[\"TotalCoinsMined\"]= clustered_df[\"TotalCoinsMined\"].astype(float)/100000000\n"
   ]
  },
  {
   "cell_type": "code",
   "execution_count": 117,
   "metadata": {},
   "outputs": [
    {
     "data": {},
     "metadata": {},
     "output_type": "display_data"
    },
    {
     "data": {
      "application/vnd.holoviews_exec.v0+json": "",
      "text/html": [
       "<div id='1529'>\n",
       "\n",
       "\n",
       "\n",
       "\n",
       "\n",
       "  <div class=\"bk-root\" id=\"8c72a77c-a80a-4a0a-8dcf-824c2461b3c2\" data-root-id=\"1529\"></div>\n",
       "</div>\n",
       "<script type=\"application/javascript\">(function(root) {\n",
       "  function embed_document(root) {\n",
       "    var docs_json = {\"df11be89-d3bc-452f-af8c-ed8c243ce9f5\":{\"defs\":[],\"roots\":{\"references\":[{\"attributes\":{\"fill_color\":{\"value\":\"#e5ae38\"},\"line_color\":{\"value\":\"#e5ae38\"},\"size\":{\"value\":5.477225575051661},\"x\":{\"field\":\"TotalCoinsMined\"},\"y\":{\"field\":\"TotalCoinSupply\"}},\"id\":\"1620\",\"type\":\"Scatter\"},{\"attributes\":{},\"id\":\"1691\",\"type\":\"UnionRenderers\"},{\"attributes\":{\"source\":{\"id\":\"1641\"}},\"id\":\"1648\",\"type\":\"CDSView\"},{\"attributes\":{\"overlay\":{\"id\":\"1560\"}},\"id\":\"1558\",\"type\":\"BoxZoomTool\"},{\"attributes\":{\"end\":11000.0,\"reset_end\":11000.0,\"reset_start\":-1000.0,\"start\":-1000.0,\"tags\":[[[\"TotalCoinSupply\",\"TotalCoinSupply\",null]]]},\"id\":\"1532\",\"type\":\"Range1d\"},{\"attributes\":{\"angle\":{\"value\":0.0},\"fill_alpha\":{\"value\":1.0},\"fill_color\":{\"value\":\"#30a2da\"},\"hatch_alpha\":{\"value\":1.0},\"hatch_color\":{\"value\":\"black\"},\"hatch_scale\":{\"value\":12.0},\"hatch_weight\":{\"value\":1.0},\"line_alpha\":{\"value\":1.0},\"line_cap\":{\"value\":\"butt\"},\"line_color\":{\"value\":\"#30a2da\"},\"line_dash\":{\"value\":[]},\"line_dash_offset\":{\"value\":0},\"line_join\":{\"value\":\"bevel\"},\"line_width\":{\"value\":1},\"marker\":{\"value\":\"circle\"},\"size\":{\"value\":5.477225575051661},\"x\":{\"field\":\"TotalCoinsMined\"},\"y\":{\"field\":\"TotalCoinSupply\"}},\"id\":\"1594\",\"type\":\"Scatter\"},{\"attributes\":{\"fill_alpha\":{\"value\":0.2},\"fill_color\":{\"value\":\"#6d904f\"},\"line_alpha\":{\"value\":0.2},\"line_color\":{\"value\":\"#6d904f\"},\"size\":{\"value\":5.477225575051661},\"x\":{\"field\":\"TotalCoinsMined\"},\"y\":{\"field\":\"TotalCoinSupply\"}},\"id\":\"1646\",\"type\":\"Scatter\"},{\"attributes\":{\"fill_alpha\":{\"value\":0.2},\"fill_color\":{\"value\":\"#30a2da\"},\"line_alpha\":{\"value\":0.2},\"line_color\":{\"value\":\"#30a2da\"},\"size\":{\"value\":5.477225575051661},\"x\":{\"field\":\"TotalCoinsMined\"},\"y\":{\"field\":\"TotalCoinSupply\"}},\"id\":\"1579\",\"type\":\"Scatter\"},{\"attributes\":{},\"id\":\"1559\",\"type\":\"ResetTool\"},{\"attributes\":{\"data_source\":{\"id\":\"1641\"},\"glyph\":{\"id\":\"1644\"},\"hover_glyph\":null,\"muted_glyph\":{\"id\":\"1646\"},\"nonselection_glyph\":{\"id\":\"1645\"},\"selection_glyph\":{\"id\":\"1666\"},\"view\":{\"id\":\"1648\"}},\"id\":\"1647\",\"type\":\"GlyphRenderer\"},{\"attributes\":{\"fill_color\":{\"value\":\"#fc4f30\"},\"line_color\":{\"value\":\"#fc4f30\"},\"size\":{\"value\":5.477225575051661},\"x\":{\"field\":\"TotalCoinsMined\"},\"y\":{\"field\":\"TotalCoinSupply\"}},\"id\":\"1598\",\"type\":\"Scatter\"},{\"attributes\":{\"source\":{\"id\":\"1574\"}},\"id\":\"1581\",\"type\":\"CDSView\"},{\"attributes\":{\"label\":{\"value\":\"4\"},\"renderers\":[{\"id\":\"1673\"}]},\"id\":\"1693\",\"type\":\"LegendItem\"},{\"attributes\":{\"fill_color\":{\"value\":\"#30a2da\"},\"line_color\":{\"value\":\"#30a2da\"},\"size\":{\"value\":5.477225575051661},\"x\":{\"field\":\"TotalCoinsMined\"},\"y\":{\"field\":\"TotalCoinSupply\"}},\"id\":\"1577\",\"type\":\"Scatter\"},{\"attributes\":{\"active_multi\":null,\"tools\":[{\"id\":\"1533\"},{\"id\":\"1555\"},{\"id\":\"1556\"},{\"id\":\"1557\"},{\"id\":\"1558\"},{\"id\":\"1559\"}]},\"id\":\"1561\",\"type\":\"Toolbar\"},{\"attributes\":{\"fill_alpha\":{\"value\":0.1},\"fill_color\":{\"value\":\"#fc4f30\"},\"line_alpha\":{\"value\":0.1},\"line_color\":{\"value\":\"#fc4f30\"},\"size\":{\"value\":5.477225575051661},\"x\":{\"field\":\"TotalCoinsMined\"},\"y\":{\"field\":\"TotalCoinSupply\"}},\"id\":\"1599\",\"type\":\"Scatter\"},{\"attributes\":{\"fill_alpha\":{\"value\":0.1},\"fill_color\":{\"value\":\"#6d904f\"},\"line_alpha\":{\"value\":0.1},\"line_color\":{\"value\":\"#6d904f\"},\"size\":{\"value\":5.477225575051661},\"x\":{\"field\":\"TotalCoinsMined\"},\"y\":{\"field\":\"TotalCoinSupply\"}},\"id\":\"1645\",\"type\":\"Scatter\"},{\"attributes\":{\"margin\":[5,5,5,5],\"name\":\"HSpacer02568\",\"sizing_mode\":\"stretch_width\"},\"id\":\"1857\",\"type\":\"Spacer\"},{\"attributes\":{\"label\":{\"value\":\"1\"},\"renderers\":[{\"id\":\"1601\"}]},\"id\":\"1615\",\"type\":\"LegendItem\"},{\"attributes\":{\"label\":{\"value\":\"0\"},\"renderers\":[{\"id\":\"1580\"}]},\"id\":\"1593\",\"type\":\"LegendItem\"},{\"attributes\":{\"fill_alpha\":{\"value\":0.2},\"fill_color\":{\"value\":\"#fc4f30\"},\"line_alpha\":{\"value\":0.2},\"line_color\":{\"value\":\"#fc4f30\"},\"size\":{\"value\":5.477225575051661},\"x\":{\"field\":\"TotalCoinsMined\"},\"y\":{\"field\":\"TotalCoinSupply\"}},\"id\":\"1600\",\"type\":\"Scatter\"},{\"attributes\":{\"fill_color\":{\"value\":\"#6d904f\"},\"line_color\":{\"value\":\"#6d904f\"},\"size\":{\"value\":5.477225575051661},\"x\":{\"field\":\"TotalCoinsMined\"},\"y\":{\"field\":\"TotalCoinSupply\"}},\"id\":\"1644\",\"type\":\"Scatter\"},{\"attributes\":{\"label\":{\"value\":\"2\"},\"renderers\":[{\"id\":\"1623\"}]},\"id\":\"1639\",\"type\":\"LegendItem\"},{\"attributes\":{\"label\":{\"value\":\"3\"},\"renderers\":[{\"id\":\"1647\"}]},\"id\":\"1665\",\"type\":\"LegendItem\"},{\"attributes\":{},\"id\":\"1663\",\"type\":\"UnionRenderers\"},{\"attributes\":{},\"id\":\"1596\",\"type\":\"Selection\"},{\"attributes\":{\"fill_alpha\":{\"value\":0.1},\"fill_color\":{\"value\":\"#8b8b8b\"},\"line_alpha\":{\"value\":0.1},\"line_color\":{\"value\":\"#8b8b8b\"},\"size\":{\"value\":5.477225575051661},\"x\":{\"field\":\"TotalCoinsMined\"},\"y\":{\"field\":\"TotalCoinSupply\"}},\"id\":\"1671\",\"type\":\"Scatter\"},{\"attributes\":{\"data_source\":{\"id\":\"1574\"},\"glyph\":{\"id\":\"1577\"},\"hover_glyph\":null,\"muted_glyph\":{\"id\":\"1579\"},\"nonselection_glyph\":{\"id\":\"1578\"},\"selection_glyph\":{\"id\":\"1594\"},\"view\":{\"id\":\"1581\"}},\"id\":\"1580\",\"type\":\"GlyphRenderer\"},{\"attributes\":{\"end\":10324.168011566911,\"reset_end\":10324.168011566911,\"reset_start\":-424.28087675042156,\"start\":-424.28087675042156,\"tags\":[[[\"TotalCoinsMined\",\"TotalCoinsMined\",null]]]},\"id\":\"1531\",\"type\":\"Range1d\"},{\"attributes\":{\"angle\":{\"value\":0.0},\"fill_alpha\":{\"value\":1.0},\"fill_color\":{\"value\":\"#6d904f\"},\"hatch_alpha\":{\"value\":1.0},\"hatch_color\":{\"value\":\"black\"},\"hatch_scale\":{\"value\":12.0},\"hatch_weight\":{\"value\":1.0},\"line_alpha\":{\"value\":1.0},\"line_cap\":{\"value\":\"butt\"},\"line_color\":{\"value\":\"#6d904f\"},\"line_dash\":{\"value\":[]},\"line_dash_offset\":{\"value\":0},\"line_join\":{\"value\":\"bevel\"},\"line_width\":{\"value\":1},\"marker\":{\"value\":\"circle\"},\"size\":{\"value\":5.477225575051661},\"x\":{\"field\":\"TotalCoinsMined\"},\"y\":{\"field\":\"TotalCoinSupply\"}},\"id\":\"1666\",\"type\":\"Scatter\"},{\"attributes\":{\"bottom_units\":\"screen\",\"fill_alpha\":0.5,\"fill_color\":\"lightgrey\",\"left_units\":\"screen\",\"level\":\"overlay\",\"line_alpha\":1.0,\"line_color\":\"black\",\"line_dash\":[4,4],\"line_width\":2,\"right_units\":\"screen\",\"syncable\":false,\"top_units\":\"screen\"},\"id\":\"1560\",\"type\":\"BoxAnnotation\"},{\"attributes\":{\"angle\":{\"value\":0.0},\"fill_alpha\":{\"value\":1.0},\"fill_color\":{\"value\":\"#fc4f30\"},\"hatch_alpha\":{\"value\":1.0},\"hatch_color\":{\"value\":\"black\"},\"hatch_scale\":{\"value\":12.0},\"hatch_weight\":{\"value\":1.0},\"line_alpha\":{\"value\":1.0},\"line_cap\":{\"value\":\"butt\"},\"line_color\":{\"value\":\"#fc4f30\"},\"line_dash\":{\"value\":[]},\"line_dash_offset\":{\"value\":0},\"line_join\":{\"value\":\"bevel\"},\"line_width\":{\"value\":1},\"marker\":{\"value\":\"circle\"},\"size\":{\"value\":5.477225575051661},\"x\":{\"field\":\"TotalCoinsMined\"},\"y\":{\"field\":\"TotalCoinSupply\"}},\"id\":\"1616\",\"type\":\"Scatter\"},{\"attributes\":{},\"id\":\"1590\",\"type\":\"UnionRenderers\"},{\"attributes\":{\"source\":{\"id\":\"1667\"}},\"id\":\"1674\",\"type\":\"CDSView\"},{\"attributes\":{\"fill_color\":{\"value\":\"#8b8b8b\"},\"line_color\":{\"value\":\"#8b8b8b\"},\"size\":{\"value\":5.477225575051661},\"x\":{\"field\":\"TotalCoinsMined\"},\"y\":{\"field\":\"TotalCoinSupply\"}},\"id\":\"1670\",\"type\":\"Scatter\"},{\"attributes\":{},\"id\":\"1575\",\"type\":\"Selection\"},{\"attributes\":{\"source\":{\"id\":\"1595\"}},\"id\":\"1602\",\"type\":\"CDSView\"},{\"attributes\":{},\"id\":\"1571\",\"type\":\"BasicTickFormatter\"},{\"attributes\":{\"angle\":{\"value\":0.0},\"fill_alpha\":{\"value\":1.0},\"fill_color\":{\"value\":\"#8b8b8b\"},\"hatch_alpha\":{\"value\":1.0},\"hatch_color\":{\"value\":\"black\"},\"hatch_scale\":{\"value\":12.0},\"hatch_weight\":{\"value\":1.0},\"line_alpha\":{\"value\":1.0},\"line_cap\":{\"value\":\"butt\"},\"line_color\":{\"value\":\"#8b8b8b\"},\"line_dash\":{\"value\":[]},\"line_dash_offset\":{\"value\":0},\"line_join\":{\"value\":\"bevel\"},\"line_width\":{\"value\":1},\"marker\":{\"value\":\"circle\"},\"size\":{\"value\":5.477225575051661},\"x\":{\"field\":\"TotalCoinsMined\"},\"y\":{\"field\":\"TotalCoinSupply\"}},\"id\":\"1694\",\"type\":\"Scatter\"},{\"attributes\":{\"data_source\":{\"id\":\"1595\"},\"glyph\":{\"id\":\"1598\"},\"hover_glyph\":null,\"muted_glyph\":{\"id\":\"1600\"},\"nonselection_glyph\":{\"id\":\"1599\"},\"selection_glyph\":{\"id\":\"1616\"},\"view\":{\"id\":\"1602\"}},\"id\":\"1601\",\"type\":\"GlyphRenderer\"},{\"attributes\":{},\"id\":\"1548\",\"type\":\"BasicTicker\"},{\"attributes\":{\"axis\":{\"id\":\"1547\"},\"grid_line_color\":null,\"ticker\":null},\"id\":\"1550\",\"type\":\"Grid\"},{\"attributes\":{\"data_source\":{\"id\":\"1667\"},\"glyph\":{\"id\":\"1670\"},\"hover_glyph\":null,\"muted_glyph\":{\"id\":\"1672\"},\"nonselection_glyph\":{\"id\":\"1671\"},\"selection_glyph\":{\"id\":\"1694\"},\"view\":{\"id\":\"1674\"}},\"id\":\"1673\",\"type\":\"GlyphRenderer\"},{\"attributes\":{\"text_color\":\"black\",\"text_font_size\":\"12pt\"},\"id\":\"1539\",\"type\":\"Title\"},{\"attributes\":{\"fill_alpha\":{\"value\":0.2},\"fill_color\":{\"value\":\"#8b8b8b\"},\"line_alpha\":{\"value\":0.2},\"line_color\":{\"value\":\"#8b8b8b\"},\"size\":{\"value\":5.477225575051661},\"x\":{\"field\":\"TotalCoinsMined\"},\"y\":{\"field\":\"TotalCoinSupply\"}},\"id\":\"1672\",\"type\":\"Scatter\"},{\"attributes\":{\"below\":[{\"id\":\"1547\"}],\"center\":[{\"id\":\"1550\"},{\"id\":\"1554\"}],\"height\":300,\"left\":[{\"id\":\"1551\"}],\"margin\":[5,5,5,5],\"min_border_bottom\":10,\"min_border_left\":10,\"min_border_right\":10,\"min_border_top\":10,\"renderers\":[{\"id\":\"1580\"},{\"id\":\"1601\"},{\"id\":\"1623\"},{\"id\":\"1647\"},{\"id\":\"1673\"}],\"right\":[{\"id\":\"1592\"}],\"sizing_mode\":\"fixed\",\"title\":{\"id\":\"1539\"},\"toolbar\":{\"id\":\"1561\"},\"width\":700,\"x_range\":{\"id\":\"1531\"},\"x_scale\":{\"id\":\"1543\"},\"y_range\":{\"id\":\"1532\"},\"y_scale\":{\"id\":\"1545\"}},\"id\":\"1538\",\"subtype\":\"Figure\",\"type\":\"Plot\"},{\"attributes\":{},\"id\":\"1618\",\"type\":\"Selection\"},{\"attributes\":{},\"id\":\"1668\",\"type\":\"Selection\"},{\"attributes\":{\"axis_label\":\"TotalCoinsMined\",\"formatter\":{\"id\":\"1568\"},\"major_label_policy\":{\"id\":\"1569\"},\"ticker\":{\"id\":\"1548\"}},\"id\":\"1547\",\"type\":\"LinearAxis\"},{\"attributes\":{\"source\":{\"id\":\"1617\"}},\"id\":\"1624\",\"type\":\"CDSView\"},{\"attributes\":{},\"id\":\"1568\",\"type\":\"BasicTickFormatter\"},{\"attributes\":{\"fill_alpha\":{\"value\":0.1},\"fill_color\":{\"value\":\"#e5ae38\"},\"line_alpha\":{\"value\":0.1},\"line_color\":{\"value\":\"#e5ae38\"},\"size\":{\"value\":5.477225575051661},\"x\":{\"field\":\"TotalCoinsMined\"},\"y\":{\"field\":\"TotalCoinSupply\"}},\"id\":\"1621\",\"type\":\"Scatter\"},{\"attributes\":{\"axis\":{\"id\":\"1551\"},\"dimension\":1,\"grid_line_color\":null,\"ticker\":null},\"id\":\"1554\",\"type\":\"Grid\"},{\"attributes\":{\"data\":{\"Class\":[0,0,0,0,0,0,0,0,0,0,0,0,0,0,0,0,0,0,0,0,0,0,0,0,0,0,0,0,0,0,0,0,0,0,0,0,0,0,0,0,0,0,0,0,0,0,0,0,0,0,0,0,0,0,0,0,0,0,0,0,0,0,0,0,0,0,0,0,0,0,0,0,0,0,0,0,0,0,0,0,0,0,0,0,0,0,0,0,0,0,0,0,0,0,0,0,0,0,0,0,0,0,0,0,0,0,0,0,0,0,0,0,0,0,0,0,0,0,0,0,0,0,0,0,0,0,0,0,0,0,0,0,0,0,0,0,0,0,0,0,0,0,0,0,0,0,0,0,0,0,0,0,0,0,0,0,0,0,0,0,0,0,0,0,0,0,0,0,0,0,0,0,0,0,0,0,0,0,0,0,0,0,0,0,0,0,0,0,0,0,0,0,0,0,0,0,0,0,0,0,0,0,0,0,0,0,0,0,0,0,0,0,0,0,0,0,0,0,0,0,0,0,0,0,0,0,0,0,0,0,0,0,0,0,0,0,0,0,0,0,0,0,0,0,0,0,0,0,0,0,0,0,0,0,0,0,0,0,0,0,0,0,0,0,0,0,0,0,0,0,0,0,0,0,0,0],\"CoinName\":[\"42 Coin\",\"404Coin\",\"Dash\",\"Bitshares\",\"BitcoinDark\",\"PayCoin\",\"KoboCoin\",\"Aurora Coin\",\"BlueCoin\",\"EnergyCoin\",\"BitBar\",\"CryptoBullion\",\"CasinoCoin\",\"Diamond\",\"Exclusive Coin\",\"FlutterCoin\",\"HoboNickels\",\"HyperStake\",\"IOCoin\",\"MaxCoin\",\"MintCoin\",\"MazaCoin\",\"Nautilus Coin\",\"NavCoin\",\"OpalCoin\",\"Orbitcoin\",\"PotCoin\",\"PhoenixCoin\",\"Reddcoin\",\"SuperCoin\",\"SyncCoin\",\"TeslaCoin\",\"TittieCoin\",\"TorCoin\",\"UnitaryStatus Dollar\",\"UltraCoin\",\"VeriCoin\",\"X11 Coin\",\"Crypti\",\"StealthCoin\",\"ZCC Coin\",\"BurstCoin\",\"StorjCoin\",\"Neutron\",\"FairCoin\",\"RubyCoin\",\"Kore\",\"Dnotes\",\"8BIT Coin\",\"Sativa Coin\",\"Ucoin\",\"Vtorrent\",\"IslaCoin\",\"Nexus\",\"Droidz\",\"Squall Coin\",\"Diggits\",\"Paycon\",\"Emercoin\",\"EverGreenCoin\",\"Decred\",\"EDRCoin\",\"Hitcoin\",\"DubaiCoin\",\"PWR Coin\",\"BillaryCoin\",\"GPU Coin\",\"EuropeCoin\",\"ZeitCoin\",\"SwingCoin\",\"SafeExchangeCoin\",\"Nebuchadnezzar\",\"Ratecoin\",\"Revenu\",\"Clockcoin\",\"VIP Tokens\",\"BitSend\",\"Let it Ride\",\"PutinCoin\",\"iBankCoin\",\"Frankywillcoin\",\"MudraCoin\",\"Lutetium Coin\",\"GoldBlocks\",\"CarterCoin\",\"BitTokens\",\"MustangCoin\",\"ZoneCoin\",\"RootCoin\",\"BitCurrency\",\"Swiscoin\",\"BuzzCoin\",\"Opair\",\"PesoBit\",\"Halloween Coin\",\"CoffeeCoin\",\"RoyalCoin\",\"GanjaCoin V2\",\"TeamUP\",\"LanaCoin\",\"InsaneCoin\",\"EmberCoin\",\"XenixCoin\",\"FreeCoin\",\"PLNCoin\",\"AquariusCoin\",\"Creatio\",\"Eternity\",\"Eurocoin\",\"BitcoinFast\",\"Stakenet\",\"BitConnect Coin\",\"MoneyCoin\",\"Enigma\",\"Russiacoin\",\"PandaCoin\",\"GameUnits\",\"GAKHcoin\",\"Allsafe\",\"LiteCreed\",\"Klingon Empire Darsek\",\"Internet of People\",\"KushCoin\",\"Printerium\",\"Impeach\",\"Zilbercoin\",\"FirstCoin\",\"FindCoin\",\"OpenChat\",\"RenosCoin\",\"VirtacoinPlus\",\"TajCoin\",\"Impact\",\"Atmos\",\"HappyCoin\",\"MacronCoin\",\"Condensate\",\"Independent Money System\",\"ArgusCoin\",\"LomoCoin\",\"ProCurrency\",\"GoldReserve\",\"GrowthCoin\",\"Phreak\",\"Degas Coin\",\"HTML5 Coin\",\"Ultimate Secure Cash\",\"QTUM\",\"Espers\",\"Denarius\",\"Virta Unique Coin\",\"Bitcoin Planet\",\"BritCoin\",\"Linda\",\"DeepOnion\",\"Signatum\",\"Cream\",\"Monoeci\",\"Draftcoin\",\"Stakecoin\",\"CoinonatX\",\"Ethereum Dark\",\"Obsidian\",\"Cardano\",\"Regalcoin\",\"TrezarCoin\",\"TerraNovaCoin\",\"Rupee\",\"WomenCoin\",\"Theresa May Coin\",\"NamoCoin\",\"LUXCoin\",\"Xios\",\"Bitcloud 2.0\",\"KekCoin\",\"BlackholeCoin\",\"Infinity Economics\",\"Magnet\",\"Electra\",\"Bitcoin Diamond\",\"Cash & Back Coin\",\"Bulwark\",\"Kalkulus\",\"GermanCoin\",\"LiteCoin Ultra\",\"PhantomX\",\"Digiwage\",\"Trollcoin\",\"Litecoin Plus\",\"Monkey Project\",\"TokenPay\",\"1717 Masonic Commemorative Token\",\"My Big Coin\",\"Unified Society USDEX\",\"Tokyo Coin\",\"Stipend\",\"Pushi\",\"Ellerium\",\"Velox\",\"Ontology\",\"Bitspace\",\"Briacoin\",\"Ignition\",\"MedicCoin\",\"Bitcoin Green\",\"Deviant Coin\",\"Abjcoin\",\"Carebit\",\"Zealium\",\"Proton\",\"iDealCash\",\"Bitcoin Incognito\",\"HollyWoodCoin\",\"Swisscoin\",\"Xt3ch\",\"TheVig\",\"EmaratCoin\",\"Dekado\",\"Poseidon Quark\",\"BitcoinWSpectrum\",\"Muse\",\"Trivechain\",\"Dystem\",\"Giant\",\"Peony Coin\",\"Absolute Coin\",\"Vitae\",\"TPCash\",\"ARENON\",\"EUNO\",\"MMOCoin\",\"Ketan\",\"XDNA\",\"PAXEX\",\"ThunderStake\",\"Kcash\",\"Bettex coin\",\"BitMoney\",\"Junson Ming Chan Coin\",\"HerbCoin\",\"Oduwa\",\"Galilel\",\"Crypto Sports\",\"Credit\",\"Dash Platinum\",\"Nasdacoin\",\"Beetle Coin\",\"Titan Coin\",\"Award\",\"Insane Coin\",\"LiteDoge\",\"TruckCoin\",\"OrangeCoin\",\"BitstarCoin\",\"NeosCoin\",\"HyperCoin\",\"PinkCoin\",\"AudioCoin\",\"IncaKoin\",\"Piggy Coin\",\"Genstake\",\"XiaoMiCoin\",\"CapriCoin\",\" ClubCoin\",\"Radium\",\"Creditbit \",\"OKCash\",\"HiCoin\",\"WhiteCoin\",\"FriendshipCoin\",\"Triangles Coin\",\"TigerCash\",\"Particl\",\"Nxt\",\"Gapcoin\",\"BitcoinPlus\"],\"TotalCoinSupply\":{\"__ndarray__\":\"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\",\"dtype\":\"float64\",\"order\":\"little\",\"shape\":[276]},\"TotalCoinsMined\":{\"__ndarray__\":\"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\",\"dtype\":\"float64\",\"order\":\"little\",\"shape\":[276]}},\"selected\":{\"id\":\"1575\"},\"selection_policy\":{\"id\":\"1590\"}},\"id\":\"1574\",\"type\":\"ColumnDataSource\"},{\"attributes\":{},\"id\":\"1569\",\"type\":\"AllLabels\"},{\"attributes\":{},\"id\":\"1543\",\"type\":\"LinearScale\"},{\"attributes\":{\"fill_alpha\":{\"value\":0.2},\"fill_color\":{\"value\":\"#e5ae38\"},\"line_alpha\":{\"value\":0.2},\"line_color\":{\"value\":\"#e5ae38\"},\"size\":{\"value\":5.477225575051661},\"x\":{\"field\":\"TotalCoinsMined\"},\"y\":{\"field\":\"TotalCoinSupply\"}},\"id\":\"1622\",\"type\":\"Scatter\"},{\"attributes\":{},\"id\":\"1545\",\"type\":\"LinearScale\"},{\"attributes\":{\"fill_alpha\":{\"value\":0.1},\"fill_color\":{\"value\":\"#30a2da\"},\"line_alpha\":{\"value\":0.1},\"line_color\":{\"value\":\"#30a2da\"},\"size\":{\"value\":5.477225575051661},\"x\":{\"field\":\"TotalCoinsMined\"},\"y\":{\"field\":\"TotalCoinSupply\"}},\"id\":\"1578\",\"type\":\"Scatter\"},{\"attributes\":{},\"id\":\"1552\",\"type\":\"BasicTicker\"},{\"attributes\":{\"axis_label\":\"TotalCoinSupply\",\"formatter\":{\"id\":\"1571\"},\"major_label_policy\":{\"id\":\"1572\"},\"ticker\":{\"id\":\"1552\"}},\"id\":\"1551\",\"type\":\"LinearAxis\"},{\"attributes\":{},\"id\":\"1637\",\"type\":\"UnionRenderers\"},{\"attributes\":{},\"id\":\"1572\",\"type\":\"AllLabels\"},{\"attributes\":{\"data\":{\"Class\":[2],\"CoinName\":[\"BitTorrent\"],\"TotalCoinSupply\":{\"__ndarray__\":\"AAAAAABWw0A=\",\"dtype\":\"float64\",\"order\":\"little\",\"shape\":[1]},\"TotalCoinsMined\":{\"__ndarray__\":\"C7KejfFVw0A=\",\"dtype\":\"float64\",\"order\":\"little\",\"shape\":[1]}},\"selected\":{\"id\":\"1618\"},\"selection_policy\":{\"id\":\"1637\"}},\"id\":\"1617\",\"type\":\"ColumnDataSource\"},{\"attributes\":{\"data_source\":{\"id\":\"1617\"},\"glyph\":{\"id\":\"1620\"},\"hover_glyph\":null,\"muted_glyph\":{\"id\":\"1622\"},\"nonselection_glyph\":{\"id\":\"1621\"},\"selection_glyph\":{\"id\":\"1640\"},\"view\":{\"id\":\"1624\"}},\"id\":\"1623\",\"type\":\"GlyphRenderer\"},{\"attributes\":{\"click_policy\":\"mute\",\"items\":[{\"id\":\"1593\"},{\"id\":\"1615\"},{\"id\":\"1639\"},{\"id\":\"1665\"},{\"id\":\"1693\"}],\"location\":[0,0],\"title\":\"Class\"},\"id\":\"1592\",\"type\":\"Legend\"},{\"attributes\":{\"children\":[{\"id\":\"1530\"},{\"id\":\"1538\"},{\"id\":\"1857\"}],\"margin\":[0,0,0,0],\"name\":\"Row02563\",\"tags\":[\"embedded\"]},\"id\":\"1529\",\"type\":\"Row\"},{\"attributes\":{},\"id\":\"1613\",\"type\":\"UnionRenderers\"},{\"attributes\":{\"angle\":{\"value\":0.0},\"fill_alpha\":{\"value\":1.0},\"fill_color\":{\"value\":\"#e5ae38\"},\"hatch_alpha\":{\"value\":1.0},\"hatch_color\":{\"value\":\"black\"},\"hatch_scale\":{\"value\":12.0},\"hatch_weight\":{\"value\":1.0},\"line_alpha\":{\"value\":1.0},\"line_cap\":{\"value\":\"butt\"},\"line_color\":{\"value\":\"#e5ae38\"},\"line_dash\":{\"value\":[]},\"line_dash_offset\":{\"value\":0},\"line_join\":{\"value\":\"bevel\"},\"line_width\":{\"value\":1},\"marker\":{\"value\":\"circle\"},\"size\":{\"value\":5.477225575051661},\"x\":{\"field\":\"TotalCoinsMined\"},\"y\":{\"field\":\"TotalCoinSupply\"}},\"id\":\"1640\",\"type\":\"Scatter\"},{\"attributes\":{\"callback\":null,\"renderers\":[{\"id\":\"1580\"},{\"id\":\"1601\"},{\"id\":\"1623\"},{\"id\":\"1647\"},{\"id\":\"1673\"}],\"tags\":[\"hv_created\"],\"tooltips\":[[\"Class\",\"@{Class}\"],[\"TotalCoinsMined\",\"@{TotalCoinsMined}\"],[\"TotalCoinSupply\",\"@{TotalCoinSupply}\"],[\"CoinName\",\"@{CoinName}\"]]},\"id\":\"1533\",\"type\":\"HoverTool\"},{\"attributes\":{},\"id\":\"1555\",\"type\":\"SaveTool\"},{\"attributes\":{\"data\":{\"Class\":[4,4,4,4,4,4,4,4,4,4,4,4,4,4,4],\"CoinName\":[\"EliteCoin\",\"MoonCoin\",\"ByteCoin\",\"ARK\",\"gCn Coin\",\"Lamden Tau\",\"TurtleCoin\",\"Semux\",\"Lynx\",\"Qwertycoin\",\"ALAX\",\"Lisk\",\"EOS\",\"Oxycoin\",\"ZEPHYR\"],\"TotalCoinSupply\":{\"__ndarray__\":\"0JVKcC+LqEAAAAAAAACuQLoh15ey0pxAAAAAAAAA9D8AAAAAAECfQAAAAAAAABRAAAAAAACIw0AAAAAAAADwPwAAAAAAwIxAzczMzMzSnEAAAAAAAAAkQFuVRPZBlvk/AAAAAAAAAAAAAAAAAAAAAAAAAAAAADRA\",\"dtype\":\"float64\",\"order\":\"little\",\"shape\":[15]},\"TotalCoinsMined\":{\"__ndarray__\":\"ZpeHO7VMckDQwAJ3JIetPmvmuVOswpxARz+WFfVP8T+oV8oyNHqZQDnJRUYYDAdAtN0+0y+bgECFHyCIwTaJP+ge0sjDVYhATBYhtD8cj0AAAAAAAAAkQP6sQ3+yM/M/7CMGHjBpJEDYrQ3omHImQIZgNv///zNA\",\"dtype\":\"float64\",\"order\":\"little\",\"shape\":[15]}},\"selected\":{\"id\":\"1668\"},\"selection_policy\":{\"id\":\"1691\"}},\"id\":\"1667\",\"type\":\"ColumnDataSource\"},{\"attributes\":{\"margin\":[5,5,5,5],\"name\":\"HSpacer02567\",\"sizing_mode\":\"stretch_width\"},\"id\":\"1530\",\"type\":\"Spacer\"},{\"attributes\":{},\"id\":\"1556\",\"type\":\"PanTool\"},{\"attributes\":{\"data\":{\"Class\":[1,1,1,1,1,1,1,1,1,1,1,1,1,1,1,1,1,1,1,1,1,1,1,1,1,1,1,1,1,1,1,1,1,1,1,1,1,1,1,1,1,1,1,1,1,1,1,1,1,1,1,1,1,1,1,1,1,1,1,1,1,1,1,1,1,1,1,1,1,1,1,1,1,1,1,1,1,1,1,1,1,1,1,1,1,1,1,1,1,1,1,1,1,1,1,1,1,1,1,1,1,1,1,1,1,1,1,1,1,1,1,1,1,1,1,1,1,1,1,1,1,1,1,1,1,1,1,1,1,1,1,1,1,1,1,1,1,1,1,1,1,1,1,1,1,1,1,1,1,1,1,1,1,1,1,1,1,1,1,1,1,1,1,1,1,1,1,1,1,1,1,1,1,1,1,1,1,1,1,1,1,1,1,1,1,1,1,1,1,1,1,1,1,1,1,1,1,1,1,1,1,1,1,1,1,1,1,1,1,1,1,1,1,1,1,1,1,1,1,1,1,1,1,1,1,1,1,1,1,1,1,1,1,1],\"CoinName\":[\"Bitcoin\",\"Ethereum\",\"Litecoin\",\"Monero\",\"Ethereum Classic\",\"ZCash\",\"DigiByte\",\"ProsperCoin\",\"Spreadcoin\",\"Argentum\",\"MyriadCoin\",\"ZetaCoin\",\"SexCoin\",\"Quatloo\",\"QuarkCoin\",\"Riecoin\",\"Digitalcoin \",\"Catcoin\",\"CannaCoin\",\"CryptCoin\",\"Verge\",\"DevCoin\",\"EarthCoin\",\"E-Gulden\",\"Einsteinium\",\"Emerald\",\"Franko\",\"FeatherCoin\",\"GrandCoin\",\"GlobalCoin\",\"GoldCoin\",\"Infinite Coin\",\"IXcoin\",\"KrugerCoin\",\"LuckyCoin\",\"Litebar \",\"MegaCoin\",\"MediterraneanCoin\",\"MinCoin\",\"NobleCoin\",\"Namecoin\",\"NyanCoin\",\"RonPaulCoin\",\"StableCoin\",\"SmartCoin\",\"SysCoin\",\"TigerCoin\",\"TerraCoin\",\"UnbreakableCoin\",\"Unobtanium\",\"UroCoin\",\"ViaCoin\",\"Vertcoin\",\"WorldCoin\",\"JouleCoin\",\"DigitalNote \",\"MonaCoin\",\"Gulden\",\"PesetaCoin\",\"Wild Beast Coin\",\"Flo\",\"ArtByte\",\"Folding Coin\",\"Unitus\",\"CypherPunkCoin\",\"OmniCron\",\"GreenCoin\",\"Cryptonite\",\"MasterCoin\",\"SoonCoin\",\"1Credit\",\"MarsCoin \",\"Crypto\",\"Anarchists Prime\",\"BowsCoin\",\"Song Coin\",\"BitZeny\",\"Expanse\",\"Siacoin\",\"MindCoin\",\"I0coin\",\"Revolution VR\",\"HOdlcoin\",\"Gamecredits\",\"CarpeDiemCoin\",\"Adzcoin\",\"SoilCoin\",\"YoCoin\",\"SibCoin\",\"Francs\",\"BolivarCoin\",\"Omni\",\"PizzaCoin\",\"Komodo\",\"Karbo\",\"ZayedCoin\",\"Circuits of Value\",\"DopeCoin\",\"DollarCoin\",\"Shilling\",\"ZCoin\",\"Elementrem\",\"ZClassic\",\"KiloCoin\",\"ArtexCoin\",\"Kurrent\",\"Cannabis Industry Coin\",\"OsmiumCoin\",\"Bikercoins\",\"HexxCoin\",\"PacCoin\",\"Citadel\",\"BeaverCoin\",\"VaultCoin\",\"Zero\",\"Canada eCoin\",\"Zoin\",\"DubaiCoin\",\"EB3coin\",\"Coinonat\",\"BenjiRolls\",\"ILCoin\",\"EquiTrader\",\"Quantum Resistant Ledger\",\"Dynamic\",\"Nano\",\"ChanCoin\",\"Dinastycoin\",\"DigitalPrice\",\"Unify\",\"SocialCoin\",\"ArcticCoin\",\"DAS\",\"LeviarCoin\",\"Bitcore\",\"SmartCash\",\"Onix\",\"Bitcoin Cash\",\"Sojourn Coin\",\"NewYorkCoin\",\"FrazCoin\",\"Kronecoin\",\"AdCoin\",\"Linx\",\"Sumokoin\",\"BitcoinZ\",\"Elements\",\"VIVO Coin\",\"Bitcoin Gold\",\"Pirl\",\"eBoost\",\"Pura\",\"Innova\",\"Ellaism\",\"GoByte\",\"SHIELD\",\"UltraNote\",\"BitCoal\",\"DaxxCoin\",\"AC3\",\"Lethean\",\"PopularCoin\",\"Photon\",\"Sucre\",\"SparksPay\",\"GunCoin\",\"IrishCoin\",\"Pioneer Coin\",\"UnitedBitcoin\",\"Interzone\",\"MUNcoin\",\"Niobio Cash\",\"ShareChain\",\"Travelflex\",\"KREDS\",\"BitFlip\",\"LottoCoin\",\"Crypto Improvement Fund\",\"Callisto Network\",\"BitTube\",\"Poseidon\",\"Aidos Kuneen\",\"Bitrolium\",\"Alpenschillling\",\"FuturoCoin\",\"Monero Classic\",\"Jumpcoin\",\"Infinex\",\"KEYCO\",\"GINcoin\",\"PlatinCoin\",\"Loki\",\"Newton Coin\",\"MassGrid\",\"PluraCoin\",\"Motion\",\"PlusOneCoin\",\"Axe\",\"HexCoin\",\"Webchain\",\"Ryo\",\"Urals Coin\",\"Project Pai\",\"Azart\",\"Xchange\",\"CrypticCoin\",\"Actinium\",\"Bitcoin SV\",\"FREDEnergy\",\"Universal Molecule\",\"Lithium\",\"PirateCash\",\"Exosis\",\"Block-Logic\",\"Beam\",\"Bithereum\",\"SLICE\",\"BLAST\",\"Bitcoin Rhodium\",\"GlobalToken\",\"SolarCoin\",\"UFO Coin\",\"BlakeCoin\",\"Crypto Escudo\",\"Crown Coin\",\"SmileyCoin\",\"Groestlcoin\",\"Bata\",\"Pakcoin\",\"JoinCoin\",\"Vollar\",\"Reality Clash\",\"Beldex\",\"Horizen\"],\"TotalCoinSupply\":{\"__ndarray__\":\"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\",\"dtype\":\"float64\",\"order\":\"little\",\"shape\":[234]},\"TotalCoinsMined\":{\"__ndarray__\":\"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\",\"dtype\":\"float64\",\"order\":\"little\",\"shape\":[234]}},\"selected\":{\"id\":\"1596\"},\"selection_policy\":{\"id\":\"1613\"}},\"id\":\"1595\",\"type\":\"ColumnDataSource\"},{\"attributes\":{\"data\":{\"Class\":[3,3,3,3,3,3],\"CoinName\":[\"Vechain\",\"BiblePay\",\"LitecoinCash\",\"Poa Network\",\"Acute Angle Cloud\",\"Waves\"],\"TotalCoinSupply\":{\"__ndarray__\":\"yzX9wAIZi0AAAAAAAABKQM3MzMzMzCBAf8LZrWUyBEAAAAAAAAAkQAAAAAAAAPA/\",\"dtype\":\"float64\",\"order\":\"little\",\"shape\":[6]},\"TotalCoinsMined\":{\"__ndarray__\":\"QPz892BUgUB64ArrjbgxQOUwH/sIiRlA+sxhELtbAEAAAAAAAAAkQAAAAAAAAPA/\",\"dtype\":\"float64\",\"order\":\"little\",\"shape\":[6]}},\"selected\":{\"id\":\"1642\"},\"selection_policy\":{\"id\":\"1663\"}},\"id\":\"1641\",\"type\":\"ColumnDataSource\"},{\"attributes\":{},\"id\":\"1557\",\"type\":\"WheelZoomTool\"},{\"attributes\":{},\"id\":\"1642\",\"type\":\"Selection\"}],\"root_ids\":[\"1529\"]},\"title\":\"Bokeh Application\",\"version\":\"2.3.2\"}};\n",
       "    var render_items = [{\"docid\":\"df11be89-d3bc-452f-af8c-ed8c243ce9f5\",\"root_ids\":[\"1529\"],\"roots\":{\"1529\":\"8c72a77c-a80a-4a0a-8dcf-824c2461b3c2\"}}];\n",
       "    root.Bokeh.embed.embed_items_notebook(docs_json, render_items);\n",
       "  }\n",
       "  if (root.Bokeh !== undefined && root.Bokeh.Panel !== undefined) {\n",
       "    embed_document(root);\n",
       "  } else {\n",
       "    var attempts = 0;\n",
       "    var timer = setInterval(function(root) {\n",
       "      if (root.Bokeh !== undefined && root.Bokeh.Panel !== undefined) {\n",
       "        clearInterval(timer);\n",
       "        embed_document(root);\n",
       "      } else if (document.readyState == \"complete\") {\n",
       "        attempts++;\n",
       "        if (attempts > 100) {\n",
       "          clearInterval(timer);\n",
       "          console.log(\"Bokeh: ERROR: Unable to run BokehJS code because BokehJS library is missing\");\n",
       "        }\n",
       "      }\n",
       "    }, 10, root)\n",
       "  }\n",
       "})(window);</script>"
      ],
      "text/plain": [
       ":NdOverlay   [Class]\n",
       "   :Scatter   [TotalCoinsMined]   (TotalCoinSupply,CoinName)"
      ]
     },
     "execution_count": 117,
     "metadata": {
      "application/vnd.holoviews_exec.v0+json": {
       "id": "1529"
      }
     },
     "output_type": "execute_result"
    }
   ],
   "source": [
    "# Create a hvplot.scatter plot using x=\"TotalCoinsMined\" and y=\"TotalCoinSupply\".\n",
    "clustered_df.hvplot(\n",
    "    kind=\"scatter\",\n",
    "    x= \"TotalCoinsMined\",\n",
    "    y= \"TotalCoinSupply\",\n",
    "    hover_cols=[\"CoinName\"],\n",
    "    by= \"Class\")"
   ]
  },
  {
   "cell_type": "code",
   "execution_count": null,
   "metadata": {},
   "outputs": [],
   "source": []
  }
 ],
 "metadata": {
  "file_extension": ".py",
  "kernelspec": {
   "display_name": "mlenv",
   "language": "python",
   "name": "mlenv"
  },
  "language_info": {
   "codemirror_mode": {
    "name": "ipython",
    "version": 3
   },
   "file_extension": ".py",
   "mimetype": "text/x-python",
   "name": "python",
   "nbconvert_exporter": "python",
   "pygments_lexer": "ipython3",
   "version": "3.7.10"
  },
  "latex_envs": {
   "LaTeX_envs_menu_present": true,
   "autoclose": false,
   "autocomplete": true,
   "bibliofile": "biblio.bib",
   "cite_by": "apalike",
   "current_citInitial": 1,
   "eqLabelWithNumbers": true,
   "eqNumInitial": 1,
   "hotkeys": {
    "equation": "Ctrl-E",
    "itemize": "Ctrl-I"
   },
   "labels_anchors": false,
   "latex_user_defs": false,
   "report_style_numbering": false,
   "user_envs_cfg": false
  },
  "mimetype": "text/x-python",
  "name": "python",
  "npconvert_exporter": "python",
  "pygments_lexer": "ipython3",
  "version": 3
 },
 "nbformat": 4,
 "nbformat_minor": 2
}
